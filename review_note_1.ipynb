{
  "nbformat": 4,
  "nbformat_minor": 0,
  "metadata": {
    "colab": {
      "name": "review note 1.ipynb",
      "provenance": [],
      "authorship_tag": "ABX9TyOlfBbFdaRnRYVMS5efYUg1",
      "include_colab_link": true
    },
    "kernelspec": {
      "name": "python3",
      "display_name": "Python 3"
    },
    "language_info": {
      "name": "python"
    }
  },
  "cells": [
    {
      "cell_type": "markdown",
      "metadata": {
        "id": "view-in-github",
        "colab_type": "text"
      },
      "source": [
        "<a href=\"https://colab.research.google.com/github/usang0320/pythonbasicclass2/blob/main/review_note_1.ipynb\" target=\"_parent\"><img src=\"https://colab.research.google.com/assets/colab-badge.svg\" alt=\"Open In Colab\"/></a>"
      ]
    },
    {
      "cell_type": "code",
      "execution_count": 1,
      "metadata": {
        "colab": {
          "base_uri": "https://localhost:8080/"
        },
        "id": "23En3jrLh0iH",
        "outputId": "cd20fda1-0fda-46c4-9503-90bdac13f881"
      },
      "outputs": [
        {
          "output_type": "stream",
          "name": "stdout",
          "text": [
            "7.0685834705770345\n",
            "반지름을 입력받아 원의 넓이를 반환하는 get_area()함수\n"
          ]
        }
      ],
      "source": [
        "import math\n",
        "\n",
        "def get_area(radius):\n",
        "  \"\"\"반지름을 입력받아 원의 넓이를 반환하는 get_area()함수\"\"\"\n",
        "  area = math.pi * math.pow(radius,2)\n",
        "  return area\n",
        "\n",
        "radius = 1.5\n",
        "# get_area() 힘수 호출 결과를 area 변수에 저장\n",
        "area = get_area(radius)\n",
        "print(area)   # area를 출력한다. \n",
        "print(get_area.__doc__)"
      ]
    },
    {
      "cell_type": "code",
      "source": [
        "a = input('이름을 입력하세요>>>')\n",
        "b = input('나이를 입력하세요>>>')\n",
        "print(f'입력된 이름은 {a}입니다.')\n",
        "print(f'입력된 나이는 {b}입니다.')"
      ],
      "metadata": {
        "colab": {
          "base_uri": "https://localhost:8080/"
        },
        "id": "CTm4ER01iBFy",
        "outputId": "b3d66e59-dc7a-45a9-a5ce-1fb71be722f9"
      },
      "execution_count": 4,
      "outputs": [
        {
          "output_type": "stream",
          "name": "stdout",
          "text": [
            "이름을 입력하세요>>>이유상\n",
            "나이를 입력하세요>>>25\n",
            "입력된 이름은 이유상입니다.\n",
            "입력된 나이는 25입니다.\n"
          ]
        }
      ]
    },
    {
      "cell_type": "code",
      "source": [
        "name = input('이름 : ')\n",
        "age = input('나이 : ')\n",
        "print(f'{age}세 이신 {name}님 반갑습니다!')"
      ],
      "metadata": {
        "colab": {
          "base_uri": "https://localhost:8080/"
        },
        "id": "digag23yjICQ",
        "outputId": "a6cf9f87-61e5-46ef-b59c-80fdc11504f0"
      },
      "execution_count": 23,
      "outputs": [
        {
          "output_type": "stream",
          "name": "stdout",
          "text": [
            "이름 : 장한나\n",
            "나이 : 25\n",
            "25세 이신 장한나님 반갑습니다!\n"
          ]
        }
      ]
    },
    {
      "cell_type": "code",
      "source": [
        "tu = (1)\n",
        "type(tu)\n",
        "re = (1,)\n",
        "type(re)"
      ],
      "metadata": {
        "colab": {
          "base_uri": "https://localhost:8080/"
        },
        "id": "_z_vYr2Ujx42",
        "outputId": "2f6c4ab2-1065-414d-b557-029e070dca80"
      },
      "execution_count": 7,
      "outputs": [
        {
          "output_type": "execute_result",
          "data": {
            "text/plain": [
              "tuple"
            ]
          },
          "metadata": {},
          "execution_count": 7
        }
      ]
    },
    {
      "cell_type": "code",
      "source": [
        "set = {1,2,3}\n",
        "set.add(4)\n",
        "print(set)"
      ],
      "metadata": {
        "colab": {
          "base_uri": "https://localhost:8080/"
        },
        "id": "1rmhgXzomvLK",
        "outputId": "c04dbedb-6885-42f0-f3ac-9f80de21625a"
      },
      "execution_count": 10,
      "outputs": [
        {
          "output_type": "stream",
          "name": "stdout",
          "text": [
            "{1, 2, 3, 4}\n"
          ]
        }
      ]
    },
    {
      "cell_type": "code",
      "source": [
        "data = '30807'\n",
        "a = data[0]\n",
        "b = data[1:3]\n",
        "c = data[-2:]\n",
        "print(f'{a}학년 {b}반 {c}번')\n",
        "print(a,'학년',b,'반',c,'번')\n",
        "print('%s학년 %s반 %s번' % (a, b, c))\n",
        "print('{}학년 {}반 {}번'.format(a, b, c))\n"
      ],
      "metadata": {
        "colab": {
          "base_uri": "https://localhost:8080/"
        },
        "id": "wVdHemTunKpA",
        "outputId": "c02a6bd0-422d-4d9a-bb69-5a10ccb2a911"
      },
      "execution_count": 17,
      "outputs": [
        {
          "output_type": "stream",
          "name": "stdout",
          "text": [
            "3학년 08반 07번\n",
            "3 학년 08 반 07 번\n",
            "3학년 08반 07번\n",
            "3학년 08반 07번\n"
          ]
        }
      ]
    },
    {
      "cell_type": "code",
      "source": [
        "print(451//3)"
      ],
      "metadata": {
        "colab": {
          "base_uri": "https://localhost:8080/"
        },
        "id": "cNwOTkU1oKBz",
        "outputId": "ff55711f-9bd1-40a6-e101-9bc563a11d25"
      },
      "execution_count": 21,
      "outputs": [
        {
          "output_type": "stream",
          "name": "stdout",
          "text": [
            "150\n"
          ]
        }
      ]
    },
    {
      "cell_type": "code",
      "source": [
        "print('이름\\t나이')\n",
        "print('이유상\\t25')\n",
        "print('장한나\\t25')"
      ],
      "metadata": {
        "colab": {
          "base_uri": "https://localhost:8080/"
        },
        "id": "40DpcFW1qLHv",
        "outputId": "74469b6d-1de9-4436-eb72-97c72e68d689"
      },
      "execution_count": 22,
      "outputs": [
        {
          "output_type": "stream",
          "name": "stdout",
          "text": [
            "이름\t나이\n",
            "이유상\t25\n",
            "장한나\t25\n"
          ]
        }
      ]
    },
    {
      "cell_type": "code",
      "source": [
        "a = 10\n",
        "b = 13\n",
        "c = 15\n",
        "name1 = 'james'\n",
        "name2 = 'michael'\n",
        "name3 = 'kobe'\n",
        "print('{3}는 {0}살, {4}는 {1}살, {5}는 {2}살이다.'.format(a,b,c,name1,name2,name3))    "
      ],
      "metadata": {
        "colab": {
          "base_uri": "https://localhost:8080/"
        },
        "id": "79K7EWOHrYHS",
        "outputId": "1f759be4-a571-47eb-ebd6-c993b0f1ae5d"
      },
      "execution_count": 32,
      "outputs": [
        {
          "output_type": "stream",
          "name": "stdout",
          "text": [
            "james는 10살, michael는 13살, kobe는 15살이다.\n"
          ]
        }
      ]
    },
    {
      "cell_type": "code",
      "source": [
        ""
      ],
      "metadata": {
        "id": "lI7QihSJsg78"
      },
      "execution_count": null,
      "outputs": []
    }
  ]
}