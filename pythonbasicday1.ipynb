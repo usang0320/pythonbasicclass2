{
  "nbformat": 4,
  "nbformat_minor": 0,
  "metadata": {
    "colab": {
      "name": "Untitled0.ipynb",
      "provenance": [],
      "authorship_tag": "ABX9TyMr7qbVsqTDWOx9k1LVZC16",
      "include_colab_link": true
    },
    "kernelspec": {
      "name": "python3",
      "display_name": "Python 3"
    },
    "language_info": {
      "name": "python"
    }
  },
  "cells": [
    {
      "cell_type": "markdown",
      "metadata": {
        "id": "view-in-github",
        "colab_type": "text"
      },
      "source": [
        "<a href=\"https://colab.research.google.com/github/usang0320/pythonbasicclass2/blob/main/pythonbasicday1.ipynb\" target=\"_parent\"><img src=\"https://colab.research.google.com/assets/colab-badge.svg\" alt=\"Open In Colab\"/></a>"
      ]
    },
    {
      "cell_type": "code",
      "execution_count": null,
      "metadata": {
        "id": "AC5WLwYqXCf2"
      },
      "outputs": [],
      "source": [
        "# 파이썬이란!!!\n",
        "\n",
        "# 1991 네델란드 '귀도 반 로섬'에 의해 개발된 언어\n",
        "# 본래 '비단뱀'이라는 뜻을 가지고 있어 로고등 대부분의 로고등을 뱀으로\n",
        "# 나타낸다. \n",
        "\n",
        "# 파이썬의 특징\n",
        "\n",
        "# 1) 파이썬은 인터프리터 언어이다. \n",
        "\n",
        "# 2) 플랫폼에 독립적이다. \n",
        "\n",
        "# 3) 객체 지향 언어이다. \n",
        "\n",
        "# 4) 동적 타이핑 언어이다. \n",
        "\n",
        "# 5) 개발 속도가 빠르다. \n",
        "\n",
        "# * 개발 환경 - web : colab , local : Anaconda or vs code"
      ]
    },
    {
      "cell_type": "code",
      "source": [
        "# 주석 comment\n",
        "# 코드에 설명을 작성하는 부분\n",
        "# 주석은 프로그램 실행에 전혀 영향을 주지 않는다. \n",
        "# 주석은 '#' 기호를 사용하거나 '''주석 ''',  \"\"\" 주석\"\"\""
      ],
      "metadata": {
        "id": "LqW0hhr0XbgM"
      },
      "execution_count": 1,
      "outputs": []
    },
    {
      "cell_type": "code",
      "source": [
        "'''     Docstring\n",
        "파일명: Ex02-1.py\n",
        "개요: 반지름을 전달하면 원의 넓이를 반환\n",
        "작성자: 홍길동\n",
        "작성일: 2020-0825\n",
        "'''\n",
        "# math 모듈 포함\n",
        "import math\n",
        "\n",
        "def get_area(radius):\n",
        "  \"\"\"반지름을 입력받아 원의 넓이를 반환하는 get_area()함수\"\"\"\n",
        "  area = math.pi * math.pow(radius,2)\n",
        "  return area\n",
        "\n",
        "radius = 1.5\n",
        "# get_area() 힘수 호출 결과를 area 변수에 저장\n",
        "area = get_area(radius)\n",
        "print(area)   # area를 출력한다. \n",
        "print(get_area.__doc__)"
      ],
      "metadata": {
        "colab": {
          "base_uri": "https://localhost:8080/"
        },
        "id": "kYhr7DyDXiHi",
        "outputId": "08b95cdb-3e63-4d73-f523-3d2f0ea0940f"
      },
      "execution_count": 2,
      "outputs": [
        {
          "output_type": "stream",
          "name": "stdout",
          "text": [
            "7.0685834705770345\n",
            "반지름을 입력받아 원의 넓이를 반환하는 get_area()함수\n"
          ]
        }
      ]
    },
    {
      "cell_type": "code",
      "source": [
        "# 변수 variable\n",
        "\n",
        "# 어떤 데이터를 저장할때 사용되는 저장소\n",
        "\n",
        "score = 3.14     # score라는 이름의 변수에 100을 넣는다. \n",
        "print(score)\n",
        "\n",
        "# 변수 이름 생성 규칙\n",
        "# 1. 영문, 한글, 숫자, 밑줄로 구성된다.(한글은 변수명으로 사용하지 말자)\n",
        "# 2. 특수문자는 사용할수 없다. \n",
        "# 3. 대문자와 소문자는 구분한다. \n",
        "# 4. 변수명의 첫문자에는 숫자는 쓸수 없다.\n",
        "# 5. 예약어(키워드)는 사용할 수 없다. \n",
        "\n",
        "# * 가급적 소문자로만 만든다. \n",
        "# * 가급적 한글은 사용하지 말자.\n",
        "# * 가급적 의미있는 단어를 사용하자."
      ],
      "metadata": {
        "colab": {
          "base_uri": "https://localhost:8080/"
        },
        "id": "974UnjkSXmsN",
        "outputId": "3a11254c-623b-4a83-92ae-93b20e7c56f6"
      },
      "execution_count": 3,
      "outputs": [
        {
          "output_type": "stream",
          "name": "stdout",
          "text": [
            "3.14\n"
          ]
        }
      ]
    },
    {
      "cell_type": "code",
      "source": [
        "address = '''우편번호 12345\n",
        "서울시 여등포구 여의도동\n",
        "서울빌딩 501호'''\n",
        "\n",
        "address2 = '우편번호 12345 \\n서울시 여등포구 여의도동 \\n서울빌딩 501호'\n",
        "\n",
        "print(address)\n",
        "print(address2)"
      ],
      "metadata": {
        "colab": {
          "base_uri": "https://localhost:8080/"
        },
        "id": "5nNSdkz-XumF",
        "outputId": "9f00658b-eba2-473b-a840-e33913029f1f"
      },
      "execution_count": 4,
      "outputs": [
        {
          "output_type": "stream",
          "name": "stdout",
          "text": [
            "우편번호 12345\n",
            "서울시 여등포구 여의도동\n",
            "서울빌딩 501호\n",
            "우편번호 12345 \n",
            "서울시 여등포구 여의도동 \n",
            "서울빌딩 501호\n"
          ]
        }
      ]
    },
    {
      "cell_type": "code",
      "source": [
        ""
      ],
      "metadata": {
        "id": "VgXFLLcaX0fc"
      },
      "execution_count": null,
      "outputs": []
    }
  ]
}