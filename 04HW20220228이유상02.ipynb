{
  "nbformat": 4,
  "nbformat_minor": 0,
  "metadata": {
    "colab": {
      "name": "04HW20220228이유상02.ipynb",
      "provenance": [],
      "authorship_tag": "ABX9TyMMaHlQOiHMlHxkC9/ZPYrz",
      "include_colab_link": true
    },
    "kernelspec": {
      "name": "python3",
      "display_name": "Python 3"
    },
    "language_info": {
      "name": "python"
    }
  },
  "cells": [
    {
      "cell_type": "markdown",
      "metadata": {
        "id": "view-in-github",
        "colab_type": "text"
      },
      "source": [
        "<a href=\"https://colab.research.google.com/github/usang0320/pythonbasicclass2/blob/main/04HW20220228%EC%9D%B4%EC%9C%A0%EC%83%8102.ipynb\" target=\"_parent\"><img src=\"https://colab.research.google.com/assets/colab-badge.svg\" alt=\"Open In Colab\"/></a>"
      ]
    },
    {
      "cell_type": "code",
      "execution_count": 1,
      "metadata": {
        "colab": {
          "base_uri": "https://localhost:8080/"
        },
        "id": "2HuFxbuP1o4I",
        "outputId": "7180169e-dea7-4fec-f908-af9f47dc84f0"
      },
      "outputs": [
        {
          "output_type": "stream",
          "name": "stdout",
          "text": [
            "안녕\n",
            "hi\n"
          ]
        }
      ],
      "source": [
        "# 211\n",
        "\n",
        "def 함수(문자열) : \n",
        "    print(문자열)\n",
        "\n",
        "함수('안녕')\n",
        "함수(\"hi\")\n",
        "\n",
        "# 안녕\n",
        "# hi"
      ]
    },
    {
      "cell_type": "code",
      "source": [
        "# 212\n",
        "\n",
        "def 함수(a,b) : \n",
        "    print(a + b)\n",
        "\n",
        "함수(3,4)\n",
        "함수(7,8)\n",
        "\n",
        "# 7\n",
        "# 15"
      ],
      "metadata": {
        "colab": {
          "base_uri": "https://localhost:8080/"
        },
        "id": "VIouKpm72IpQ",
        "outputId": "b901267a-0e0b-4433-e119-349b5da3331a"
      },
      "execution_count": 2,
      "outputs": [
        {
          "output_type": "stream",
          "name": "stdout",
          "text": [
            "7\n",
            "15\n"
          ]
        }
      ]
    },
    {
      "cell_type": "code",
      "source": [
        "# 213\n",
        "\n",
        "def 함수(문자열) : \n",
        "    print(문자열)\n",
        "\n",
        "함수()  # 괄호안에 문자열이 없어서"
      ],
      "metadata": {
        "colab": {
          "base_uri": "https://localhost:8080/"
        },
        "id": "9q3pcEiV2ZDy",
        "outputId": "c4d37eba-f424-47e2-aaa1-e2f86a8d5e9f"
      },
      "execution_count": 4,
      "outputs": [
        {
          "output_type": "stream",
          "name": "stdout",
          "text": [
            "a\n"
          ]
        }
      ]
    },
    {
      "cell_type": "code",
      "source": [
        "# 214\n",
        "\n",
        "def 함수(a,b) :\n",
        "    print(a + b)\n",
        "\n",
        "함수('안녕', 3)  # 같은 타입끼리 넣어줘야 '+' 가능"
      ],
      "metadata": {
        "colab": {
          "base_uri": "https://localhost:8080/"
        },
        "id": "etTQfRFA2pvi",
        "outputId": "47564794-15c5-482e-f482-f4f104323681"
      },
      "execution_count": 6,
      "outputs": [
        {
          "output_type": "stream",
          "name": "stdout",
          "text": [
            "7\n"
          ]
        }
      ]
    },
    {
      "cell_type": "code",
      "source": [
        "# 215\n",
        "\n",
        "def print_with_smile(a):\n",
        "    print(a + ':D')\n",
        "\n",
        "print_with_smile('smile')"
      ],
      "metadata": {
        "colab": {
          "base_uri": "https://localhost:8080/"
        },
        "id": "_rm5hyc23Iqh",
        "outputId": "db0adc51-e4d4-4e0e-c846-423cba0f34e9"
      },
      "execution_count": 7,
      "outputs": [
        {
          "output_type": "stream",
          "name": "stdout",
          "text": [
            "smile:D\n"
          ]
        }
      ]
    },
    {
      "cell_type": "code",
      "source": [
        "# 216\n",
        "\n",
        "print_with_smile('안녕하세요')"
      ],
      "metadata": {
        "colab": {
          "base_uri": "https://localhost:8080/"
        },
        "id": "ggWOQn2w4Bxa",
        "outputId": "0ce19c2d-c02f-4b49-e85f-46d558454e96"
      },
      "execution_count": 8,
      "outputs": [
        {
          "output_type": "stream",
          "name": "stdout",
          "text": [
            "안녕하세요:D\n"
          ]
        }
      ]
    },
    {
      "cell_type": "code",
      "source": [
        "# 217\n",
        "\n",
        "def print_upper_price(price):\n",
        "    print(price*0.3)\n"
      ],
      "metadata": {
        "id": "TVbrm2dt4MyM"
      },
      "execution_count": null,
      "outputs": []
    },
    {
      "cell_type": "code",
      "source": [
        "# 218\n",
        "\n",
        "def print_sum(a,b):\n",
        "    print(a + b)"
      ],
      "metadata": {
        "id": "l06kTEMl4pKt"
      },
      "execution_count": 9,
      "outputs": []
    },
    {
      "cell_type": "code",
      "source": [
        "# 219\n",
        "\n",
        "def print_arithmetic_operation(a, b):\n",
        "    print(a + b)\n",
        "    print(a - b)\n",
        "    print(a * b)\n",
        "    print(a / b)\n",
        "print_arithmetic_operation(3,4)"
      ],
      "metadata": {
        "colab": {
          "base_uri": "https://localhost:8080/"
        },
        "id": "EprnMTvz4xTn",
        "outputId": "a301c005-e03d-458c-ea65-4021843c7738"
      },
      "execution_count": 12,
      "outputs": [
        {
          "output_type": "stream",
          "name": "stdout",
          "text": [
            "7\n",
            "-1\n",
            "12\n",
            "0.75\n"
          ]
        }
      ]
    },
    {
      "cell_type": "code",
      "source": [
        "# 220\n",
        "\n",
        "def print_max(a, b, c):\n",
        "    if a >= b and a >= c:\n",
        "        print(a)\n",
        "    elif b >= a and b >= c:\n",
        "        print(b)\n",
        "    else:\n",
        "        print(c)\n",
        "\n",
        "print_max(2,4,5)"
      ],
      "metadata": {
        "colab": {
          "base_uri": "https://localhost:8080/"
        },
        "id": "5o2JjWun5SP4",
        "outputId": "03f5b5ea-d8e4-4fc3-e003-8331e835f106"
      },
      "execution_count": 17,
      "outputs": [
        {
          "output_type": "stream",
          "name": "stdout",
          "text": [
            "5\n"
          ]
        }
      ]
    },
    {
      "cell_type": "code",
      "source": [
        "# 221\n",
        "\n",
        "def print_reverse(str):\n",
        "    print(str[::-1])\n",
        "\n",
        "print_reverse('python')"
      ],
      "metadata": {
        "colab": {
          "base_uri": "https://localhost:8080/"
        },
        "id": "fm0YpdrI56yV",
        "outputId": "08b68eec-8f0f-48f6-d2f6-aa91e711258b"
      },
      "execution_count": 18,
      "outputs": [
        {
          "output_type": "stream",
          "name": "stdout",
          "text": [
            "nohtyp\n"
          ]
        }
      ]
    },
    {
      "cell_type": "code",
      "source": [
        "# 222\n",
        "\n",
        "def print_score(list):\n",
        "    print(sum(list)/len(list))\n",
        "\n",
        "print_score([1,2,3])"
      ],
      "metadata": {
        "colab": {
          "base_uri": "https://localhost:8080/"
        },
        "id": "SD2RPG1f6cP7",
        "outputId": "adfa6dde-57f6-45a1-ffb7-30d7ed2bc5de"
      },
      "execution_count": 19,
      "outputs": [
        {
          "output_type": "stream",
          "name": "stdout",
          "text": [
            "2.0\n"
          ]
        }
      ]
    },
    {
      "cell_type": "code",
      "source": [
        "# 223\n",
        "\n",
        "def print_even(li):\n",
        "    for i in li:\n",
        "        if i % 2 == 0:\n",
        "            print(i)\n",
        "\n",
        "print_even([1,3,2,10,12,11,15])"
      ],
      "metadata": {
        "colab": {
          "base_uri": "https://localhost:8080/"
        },
        "id": "XduI1HPE6vbO",
        "outputId": "9eef86dc-f886-461f-82a8-568a4016841c"
      },
      "execution_count": 20,
      "outputs": [
        {
          "output_type": "stream",
          "name": "stdout",
          "text": [
            "2\n",
            "10\n",
            "12\n"
          ]
        }
      ]
    },
    {
      "cell_type": "code",
      "source": [
        "# 224\n",
        "\n",
        "def print_keys(dic):\n",
        "    print(dic.keys())\n",
        "\n",
        "print_keys({'이름' : '김말똥', '나이': 30, '성별':0})"
      ],
      "metadata": {
        "colab": {
          "base_uri": "https://localhost:8080/"
        },
        "id": "tYA1lSM17GRi",
        "outputId": "d4dddd40-e448-430b-9001-8c047e03bf6f"
      },
      "execution_count": 21,
      "outputs": [
        {
          "output_type": "stream",
          "name": "stdout",
          "text": [
            "dict_keys(['이름', '나이', '성별'])\n"
          ]
        }
      ]
    },
    {
      "cell_type": "code",
      "source": [
        "def print_keys(dic):\n",
        "    for i in dic:\n",
        "        print(i)\n",
        "\n",
        "print_keys({'이름' : '김말똥', '나이': 30, '성별':0})"
      ],
      "metadata": {
        "colab": {
          "base_uri": "https://localhost:8080/"
        },
        "id": "VJpyyAMF7hQo",
        "outputId": "a7b2994f-04a1-461c-9a2b-f869fa75ef96"
      },
      "execution_count": 22,
      "outputs": [
        {
          "output_type": "stream",
          "name": "stdout",
          "text": [
            "이름\n",
            "나이\n",
            "성별\n"
          ]
        }
      ]
    },
    {
      "cell_type": "code",
      "source": [
        "# 225\n",
        "\n",
        "my_dict = {'10/26':[100,130,100,100],\n",
        "           '10/27':[10,12,10,11]}\n",
        "\n",
        "def print_value_by_key(dic,key):\n",
        "    print(dic[key])\n",
        "\n",
        "print_value_by_key(my_dict,'10/26')"
      ],
      "metadata": {
        "colab": {
          "base_uri": "https://localhost:8080/"
        },
        "id": "7xXXYcTv7z45",
        "outputId": "4e3b8143-94e4-4efe-b496-00cefc7fbb48"
      },
      "execution_count": 23,
      "outputs": [
        {
          "output_type": "stream",
          "name": "stdout",
          "text": [
            "[100, 130, 100, 100]\n"
          ]
        }
      ]
    },
    {
      "cell_type": "code",
      "source": [
        "# 226\n",
        "\n",
        "def print_5xn(string):\n",
        "    print(string[:5])\n",
        "    print(string[5:10])\n",
        "    print(string[10:15])\n",
        "\n",
        "print_5xn('아이엠어보이유알어걸')"
      ],
      "metadata": {
        "colab": {
          "base_uri": "https://localhost:8080/"
        },
        "id": "RBdgri5I8aSZ",
        "outputId": "30a58330-3dd1-4769-cbbd-5d7924a9a330"
      },
      "execution_count": 25,
      "outputs": [
        {
          "output_type": "stream",
          "name": "stdout",
          "text": [
            "아이엠어보\n",
            "이유알어걸\n",
            "\n"
          ]
        }
      ]
    },
    {
      "cell_type": "code",
      "source": [
        "# 227\n",
        "\n",
        "def print_mxn(string,n):\n",
        "    print(string[:n])\n",
        "    print(string[n:n*2])\n",
        "    print(string[n*2:n*3])\n",
        "    print(string[n*3:n*4])\n",
        "\n",
        "print_mxn('아이엠어보이유알어걸',3)\n"
      ],
      "metadata": {
        "colab": {
          "base_uri": "https://localhost:8080/"
        },
        "id": "-i_B_kHP8_yj",
        "outputId": "910a3ec1-57a6-4ba7-a83b-baf4c2552aef"
      },
      "execution_count": 26,
      "outputs": [
        {
          "output_type": "stream",
          "name": "stdout",
          "text": [
            "아이엠\n",
            "어보이\n",
            "유알어\n",
            "걸\n"
          ]
        }
      ]
    },
    {
      "cell_type": "code",
      "source": [
        "# 228\n",
        "\n",
        "def calc_monthly_salary(annual_salary):\n",
        "    if annual_salary % 12 != 0:\n",
        "        a = str(annual_salary/12)\n",
        "        print(int(a.split('.')[0]))\n",
        "    else:\n",
        "        print(annual_salary/12)\n",
        "\n",
        "\n",
        "calc_monthly_salary(359798)"
      ],
      "metadata": {
        "colab": {
          "base_uri": "https://localhost:8080/"
        },
        "id": "NKBta5yN9wfp",
        "outputId": "2e875f2a-644b-4371-f1f6-ccff0b6aa21a"
      },
      "execution_count": 43,
      "outputs": [
        {
          "output_type": "stream",
          "name": "stdout",
          "text": [
            "29983\n"
          ]
        }
      ]
    },
    {
      "cell_type": "code",
      "source": [
        "# 229\n",
        "\n",
        "def my_print(a,b):\n",
        "    print('왼쪽:', a)\n",
        "    print('오른쪽:', b)\n",
        "\n",
        "my_print(a=100, b=200)\n",
        "\n",
        "# 왼쪽: 100\n",
        "# 오른쪽: 200"
      ],
      "metadata": {
        "colab": {
          "base_uri": "https://localhost:8080/"
        },
        "id": "SWk88dbt_WnQ",
        "outputId": "282d8ded-cfb3-4bc1-ffba-a04f79eaf9b4"
      },
      "execution_count": 44,
      "outputs": [
        {
          "output_type": "stream",
          "name": "stdout",
          "text": [
            "왼쪽: 100\n",
            "오른쪽: 200\n"
          ]
        }
      ]
    },
    {
      "cell_type": "code",
      "source": [
        "# 230\n",
        "\n",
        "def my_print(a,b):\n",
        "    print('왼쪽:',a)\n",
        "    print('오른쪽:',b)\n",
        "\n",
        "my_print(b=100,a=200)\n",
        "\n",
        "# 왼쪽: 200\n",
        "# 오른쪽: 100"
      ],
      "metadata": {
        "colab": {
          "base_uri": "https://localhost:8080/"
        },
        "id": "zuE2bIC6C7uU",
        "outputId": "62193591-161e-4abd-da4a-f737617375b0"
      },
      "execution_count": 45,
      "outputs": [
        {
          "output_type": "stream",
          "name": "stdout",
          "text": [
            "왼쪽: 200\n",
            "오른쪽: 100\n"
          ]
        }
      ]
    },
    {
      "cell_type": "code",
      "source": [
        ""
      ],
      "metadata": {
        "id": "WskZ0gYwDn0G"
      },
      "execution_count": null,
      "outputs": []
    }
  ]
}