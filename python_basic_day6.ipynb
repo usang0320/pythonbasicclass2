{
  "nbformat": 4,
  "nbformat_minor": 0,
  "metadata": {
    "colab": {
      "name": "python basic day6.ipynb",
      "provenance": [],
      "authorship_tag": "ABX9TyP+BqLYbn9uB/KpSQb6RorP",
      "include_colab_link": true
    },
    "kernelspec": {
      "name": "python3",
      "display_name": "Python 3"
    },
    "language_info": {
      "name": "python"
    }
  },
  "cells": [
    {
      "cell_type": "markdown",
      "metadata": {
        "id": "view-in-github",
        "colab_type": "text"
      },
      "source": [
        "<a href=\"https://colab.research.google.com/github/usang0320/pythonbasicclass2/blob/main/python_basic_day6.ipynb\" target=\"_parent\"><img src=\"https://colab.research.google.com/assets/colab-badge.svg\" alt=\"Open In Colab\"/></a>"
      ]
    },
    {
      "cell_type": "code",
      "execution_count": 1,
      "metadata": {
        "colab": {
          "base_uri": "https://localhost:8080/"
        },
        "id": "tl_5OYIySaDE",
        "outputId": "0db0939d-6f56-4fa8-c5c2-dbe779a30a4f"
      },
      "outputs": [
        {
          "output_type": "stream",
          "name": "stdout",
          "text": [
            "1\n",
            "2\n",
            "3\n"
          ]
        }
      ],
      "source": [
        "# for 반복문 , 주로 반복회수를 명확히 알고 있을 때 사용.\n",
        "\n",
        "# for 변수 in 반복객체:\n",
        "#     반복실행\n",
        "\n",
        "for i in [1,2,3]:\n",
        "    print(i)"
      ]
    },
    {
      "cell_type": "code",
      "source": [
        "for i in 'Hello':\n",
        "    print(i)"
      ],
      "metadata": {
        "colab": {
          "base_uri": "https://localhost:8080/"
        },
        "id": "2O8KY2bfVeXE",
        "outputId": "9e7a81f0-1920-4b48-a00d-ad8bb658550f"
      },
      "execution_count": 3,
      "outputs": [
        {
          "output_type": "stream",
          "name": "stdout",
          "text": [
            "H\n",
            "e\n",
            "l\n",
            "l\n",
            "o\n"
          ]
        }
      ]
    },
    {
      "cell_type": "code",
      "source": [
        "for item in ['가위','바위','보']:\n",
        "    print(item)"
      ],
      "metadata": {
        "colab": {
          "base_uri": "https://localhost:8080/"
        },
        "id": "ycRp_kWLVkgc",
        "outputId": "d4e0a4db-75b8-4dee-ffc4-e3a56b95f8c9"
      },
      "execution_count": 4,
      "outputs": [
        {
          "output_type": "stream",
          "name": "stdout",
          "text": [
            "가위\n",
            "바위\n",
            "보\n"
          ]
        }
      ]
    },
    {
      "cell_type": "code",
      "source": [
        "# 리스트 내포 : for 문을 이용해서 리스트를 간단히 생성한다.\n",
        "\n",
        "[n*2 for n in [1,2,3]]"
      ],
      "metadata": {
        "colab": {
          "base_uri": "https://localhost:8080/"
        },
        "id": "KnKLeaEWV5uy",
        "outputId": "9e9eb4b4-7a93-499f-d082-668d29ed8345"
      },
      "execution_count": 5,
      "outputs": [
        {
          "output_type": "execute_result",
          "data": {
            "text/plain": [
              "[2, 4, 6]"
            ]
          },
          "metadata": {},
          "execution_count": 5
        }
      ]
    },
    {
      "cell_type": "code",
      "source": [
        "[n*2   for n in [1,2,3,4,5]  if n%2 == 1]"
      ],
      "metadata": {
        "colab": {
          "base_uri": "https://localhost:8080/"
        },
        "id": "jPwgUd7iWeBY",
        "outputId": "e297ed2a-8008-4944-d805-e8a4ab0ac82d"
      },
      "execution_count": 6,
      "outputs": [
        {
          "output_type": "execute_result",
          "data": {
            "text/plain": [
              "[2, 6, 10]"
            ]
          },
          "metadata": {},
          "execution_count": 6
        }
      ]
    },
    {
      "cell_type": "code",
      "source": [
        "four_seasons = ('spring', 'summer', 'autumn', 'winter')\n",
        "for season in four_seasons:\n",
        "    print(season)"
      ],
      "metadata": {
        "colab": {
          "base_uri": "https://localhost:8080/"
        },
        "id": "7EqiqK_LXX0T",
        "outputId": "6333ff26-dea8-4cf6-bcdc-953cdb482e6e"
      },
      "execution_count": 7,
      "outputs": [
        {
          "output_type": "stream",
          "name": "stdout",
          "text": [
            "spring\n",
            "summer\n",
            "autumn\n",
            "winter\n"
          ]
        }
      ]
    },
    {
      "cell_type": "code",
      "source": [
        "# range() \n",
        "# 정수 범위를 만들어 낼 때 유요한 아주 많이 for문가 사용되는 함수\n",
        "\n",
        "# range(start, stop, step)  # start(0부터), step(1씩증가) 은 생략가능\n",
        "\n",
        "print(list(range(5))) #start 생략, step생략 0,1,2,3,4  0부터5미만\n",
        "print(list(range(1,11))) #step만 생략  1부터 11미만\n",
        "print(tuple(range(5)))"
      ],
      "metadata": {
        "colab": {
          "base_uri": "https://localhost:8080/"
        },
        "id": "YBnS72qbYHoE",
        "outputId": "801d5679-129a-4dc5-deab-1f2a0f9e03fd"
      },
      "execution_count": 9,
      "outputs": [
        {
          "output_type": "stream",
          "name": "stdout",
          "text": [
            "[0, 1, 2, 3, 4]\n",
            "[1, 2, 3, 4, 5, 6, 7, 8, 9, 10]\n",
            "(0, 1, 2, 3, 4)\n"
          ]
        }
      ]
    },
    {
      "cell_type": "code",
      "source": [
        "for i in range(5):\n",
        "    print(i)"
      ],
      "metadata": {
        "colab": {
          "base_uri": "https://localhost:8080/"
        },
        "id": "5JM3GwF3ZVnn",
        "outputId": "89b2cd88-ac9b-43f3-d120-8aeac46af6b1"
      },
      "execution_count": 10,
      "outputs": [
        {
          "output_type": "stream",
          "name": "stdout",
          "text": [
            "0\n",
            "1\n",
            "2\n",
            "3\n",
            "4\n"
          ]
        }
      ]
    },
    {
      "cell_type": "code",
      "source": [
        "for i in range(1,11):\n",
        "    print(i)"
      ],
      "metadata": {
        "colab": {
          "base_uri": "https://localhost:8080/"
        },
        "id": "_zS8fmqQZt0_",
        "outputId": "af0c4f6e-0da8-4a05-99bd-18427379c2f2"
      },
      "execution_count": 12,
      "outputs": [
        {
          "output_type": "stream",
          "name": "stdout",
          "text": [
            "1\n",
            "2\n",
            "3\n",
            "4\n",
            "5\n",
            "6\n",
            "7\n",
            "8\n",
            "9\n",
            "10\n"
          ]
        }
      ]
    },
    {
      "cell_type": "code",
      "source": [
        "from typing import no_type_check_decorator\n",
        "dan = int(input('출력할 구구단을 입력하세요 >>> '))\n",
        "for n in range(1,10):\n",
        "    print('{} X {} = {}'.format(dan, n, dan*n))"
      ],
      "metadata": {
        "colab": {
          "base_uri": "https://localhost:8080/"
        },
        "id": "SJnL6ua6Z1v4",
        "outputId": "e3697ffe-c88d-4157-c0bf-c8591c9b5a22"
      },
      "execution_count": 13,
      "outputs": [
        {
          "output_type": "stream",
          "name": "stdout",
          "text": [
            "출력할 구구단을 입력하세요 >>> 4\n",
            "4 X 1 = 4\n",
            "4 X 2 = 8\n",
            "4 X 3 = 12\n",
            "4 X 4 = 16\n",
            "4 X 5 = 20\n",
            "4 X 6 = 24\n",
            "4 X 7 = 28\n",
            "4 X 8 = 32\n",
            "4 X 9 = 36\n"
          ]
        }
      ]
    },
    {
      "cell_type": "code",
      "source": [
        "for item in {'가위', '바위', '보'}:\n",
        "    print(item)"
      ],
      "metadata": {
        "colab": {
          "base_uri": "https://localhost:8080/"
        },
        "id": "jiO5sojCaflN",
        "outputId": "9395679e-fc88-4e36-95ef-9dc23cb812f9"
      },
      "execution_count": 14,
      "outputs": [
        {
          "output_type": "stream",
          "name": "stdout",
          "text": [
            "보\n",
            "가위\n",
            "바위\n"
          ]
        }
      ]
    },
    {
      "cell_type": "code",
      "source": [
        "person = {\n",
        "    'name': '에밀리',\n",
        "    'age': 20\n",
        "}\n",
        "\n",
        "for item in person:\n",
        "     print(item, person[item])"
      ],
      "metadata": {
        "colab": {
          "base_uri": "https://localhost:8080/"
        },
        "id": "J4YnGpiwau1G",
        "outputId": "e13167f9-3acb-4b77-ac07-bab6f4530a87"
      },
      "execution_count": 17,
      "outputs": [
        {
          "output_type": "stream",
          "name": "stdout",
          "text": [
            "name 에밀리\n",
            "age 20\n"
          ]
        }
      ]
    },
    {
      "cell_type": "code",
      "source": [
        "# 129\n",
        "# 1번\n",
        "\n",
        "for n in range(5,0,-1):\n",
        "    print(n)"
      ],
      "metadata": {
        "colab": {
          "base_uri": "https://localhost:8080/"
        },
        "id": "Wow7osGVbHln",
        "outputId": "204f5409-f70d-4345-e8ae-04e5f7638a73"
      },
      "execution_count": 23,
      "outputs": [
        {
          "output_type": "stream",
          "name": "stdout",
          "text": [
            "5\n",
            "4\n",
            "3\n",
            "2\n",
            "1\n"
          ]
        }
      ]
    },
    {
      "cell_type": "code",
      "source": [
        "# 2번\n",
        "\n",
        "n = int(input('임의의 양수를 입력하세요 >>> '))\n",
        "sum = 0 # 초기값 설정\n",
        "for i in range(1,n+1):\n",
        "    sum += i\n",
        "    print(sum)\n",
        "\n",
        "print(f'1부터 {n}사이 모든 정수의 합계는 {sum}입니다.')"
      ],
      "metadata": {
        "colab": {
          "base_uri": "https://localhost:8080/"
        },
        "id": "9lQlhRwNcVS6",
        "outputId": "3b99846b-4c6b-4324-b536-e975d7266acd"
      },
      "execution_count": 39,
      "outputs": [
        {
          "output_type": "stream",
          "name": "stdout",
          "text": [
            "임의의 양수를 입력하세요 >>> 3\n",
            "1\n",
            "3\n",
            "6\n",
            "1부터 3사이 모든 정수의 합계는 6입니다.\n"
          ]
        }
      ]
    },
    {
      "cell_type": "code",
      "source": [
        "# 3번\n",
        "\n",
        "f = int(input('몇 개의 과일을 보관할까요? >>> '))\n",
        "li = []\n",
        "for i in range(f):\n",
        "    a = input(f'{i+1}번째 과일을 입력하세요 >>> ')\n",
        "    li.append(a)\n",
        "\n",
        "print(f'입력받은 과일들은 {li}입니다.')\n",
        "\n"
      ],
      "metadata": {
        "colab": {
          "base_uri": "https://localhost:8080/"
        },
        "id": "1XVSSdJEc26K",
        "outputId": "f552ae57-7108-4617-9670-186175911c13"
      },
      "execution_count": 42,
      "outputs": [
        {
          "output_type": "stream",
          "name": "stdout",
          "text": [
            "몇 개의 과일을 보관할까요? >>> 5\n",
            "1번째 과일을 입력하세요 >>> 사과\n",
            "2번째 과일을 입력하세요 >>> 바나나\n",
            "3번째 과일을 입력하세요 >>> 체리\n",
            "4번째 과일을 입력하세요 >>> 오렌지\n",
            "5번째 과일을 입력하세요 >>> 망고\n",
            "입력받은 과일들은 ['사과', '바나나', '체리', '오렌지', '망고']입니다.\n"
          ]
        }
      ]
    },
    {
      "cell_type": "code",
      "source": [
        "# 4번\n",
        "\n",
        "exam = [99, 78, 100, 91, 81, 85, 54, 100, 71, 50]\n",
        "score = []\n",
        "for i in exam:\n",
        "    if i <= 95:\n",
        "        score.append(i+5)\n",
        "    elif i == 96:\n",
        "        score.append(i+4)\n",
        "    elif i == 97:\n",
        "        score.append(i+3)\n",
        "    elif i == 98:\n",
        "        score.append(i+2)\n",
        "    elif i == 99:\n",
        "        score.append(i+1)\n",
        "    else:\n",
        "        score.append(i)\n",
        "print(score)\n"
      ],
      "metadata": {
        "colab": {
          "base_uri": "https://localhost:8080/"
        },
        "id": "0py3U4aEhuu3",
        "outputId": "574f0582-a1ce-4536-f41b-203d19888078"
      },
      "execution_count": 46,
      "outputs": [
        {
          "output_type": "stream",
          "name": "stdout",
          "text": [
            "[100, 83, 100, 96, 86, 90, 59, 100, 76, 55]\n"
          ]
        }
      ]
    },
    {
      "cell_type": "code",
      "source": [
        "# 쌤 풀이\n",
        "exam = [99, 78, 100, 91, 81, 85, 54, 100, 71, 50]\n",
        "\n",
        "exam2 = []\n",
        "for i in exam:\n",
        "    if i >= 95:\n",
        "        exam2.append(100)\n",
        "    else:\n",
        "        exam2.append(i+5)\n",
        "    \n",
        "print(exam2)"
      ],
      "metadata": {
        "colab": {
          "base_uri": "https://localhost:8080/"
        },
        "id": "S-Aoz1lInddD",
        "outputId": "8ecaee18-feca-4c69-f910-6c7c3b43d58f"
      },
      "execution_count": 47,
      "outputs": [
        {
          "output_type": "stream",
          "name": "stdout",
          "text": [
            "[100, 83, 100, 96, 86, 90, 59, 100, 76, 55]\n"
          ]
        }
      ]
    },
    {
      "cell_type": "code",
      "source": [
        "# break\n",
        "\n",
        "# while문 이나 for문 에서 반복을 강제로 종료시킬때 사용 \n",
        "\n",
        "n = 1\n",
        "while n <= 10:\n",
        "    print(n)\n",
        "    n += 1"
      ],
      "metadata": {
        "colab": {
          "base_uri": "https://localhost:8080/"
        },
        "id": "8MdIs3TRpJNI",
        "outputId": "d1704083-5191-4296-9ce6-9dfd45ccc2f4"
      },
      "execution_count": 48,
      "outputs": [
        {
          "output_type": "stream",
          "name": "stdout",
          "text": [
            "1\n",
            "2\n",
            "3\n",
            "4\n",
            "5\n",
            "6\n",
            "7\n",
            "8\n",
            "9\n",
            "10\n"
          ]
        }
      ]
    },
    {
      "cell_type": "code",
      "source": [
        "n = 1\n",
        "while True:\n",
        "    print(n)\n",
        "    if n == 10:\n",
        "        break\n",
        "    n += 1"
      ],
      "metadata": {
        "colab": {
          "base_uri": "https://localhost:8080/"
        },
        "id": "xYnqv-OeqOTm",
        "outputId": "ff67da81-8961-4e8f-a57f-8bd32b642afd"
      },
      "execution_count": 49,
      "outputs": [
        {
          "output_type": "stream",
          "name": "stdout",
          "text": [
            "1\n",
            "2\n",
            "3\n",
            "4\n",
            "5\n",
            "6\n",
            "7\n",
            "8\n",
            "9\n",
            "10\n"
          ]
        }
      ]
    },
    {
      "cell_type": "code",
      "source": [
        "# continue\n",
        "\n",
        "# 반복 도중 continue를 만나면 더이상 아래로 내려가지 않고\n",
        "# 다시 반복문으로 진입한다.\n",
        "\n",
        "total = 0\n",
        "for a in range(1,101):\n",
        "    if a % 3 == 0: # 3의 배수 찾기\n",
        "     continue      # 3의 배수를 제외한 합\n",
        "    total += a\n",
        "print(total)"
      ],
      "metadata": {
        "colab": {
          "base_uri": "https://localhost:8080/"
        },
        "id": "FBTbMMfoqhN2",
        "outputId": "6354a36c-05e9-42aa-b286-38834b4b12eb"
      },
      "execution_count": 51,
      "outputs": [
        {
          "output_type": "stream",
          "name": "stdout",
          "text": [
            "3367\n"
          ]
        }
      ]
    },
    {
      "cell_type": "code",
      "source": [
        "# 141p\n",
        "# 1번\n",
        "\n",
        "money = 10000\n",
        "while True:\n",
        "    print(f'현재{money}원이 있습니다.')\n",
        "    if money == 0:\n",
        "        break\n",
        "    waste = int(input('사용할 금액 입력 >>> '))\n",
        "    if waste < 0:\n",
        "        print('0 이하의 금액은 사용할 수 없습니다.')\n",
        "    elif waste > money:\n",
        "        print(f'{waste-money}원이 부족합니다.')\n",
        "    else:\n",
        "        money -= waste"
      ],
      "metadata": {
        "colab": {
          "base_uri": "https://localhost:8080/"
        },
        "id": "uV9KWgN4sKa1",
        "outputId": "93ca9b95-7f1b-45a1-a999-bf425c953007"
      },
      "execution_count": 54,
      "outputs": [
        {
          "output_type": "stream",
          "name": "stdout",
          "text": [
            "현재10000원이 있습니다.\n",
            "사용할 금액 입력 >>> 5000\n",
            "현재5000원이 있습니다.\n",
            "사용할 금액 입력 >>> -5000\n",
            "0 이하의 금액은 사용할 수 없습니다.\n",
            "현재5000원이 있습니다.\n",
            "사용할 금액 입력 >>> 6000\n",
            "1000원이 부족합니다.\n",
            "현재5000원이 있습니다.\n",
            "사용할 금액 입력 >>> 4000\n",
            "현재1000원이 있습니다.\n",
            "사용할 금액 입력 >>> 1000\n",
            "현재0원이 있습니다.\n"
          ]
        }
      ]
    },
    {
      "cell_type": "code",
      "source": [
        "# 2번\n",
        "\n",
        "while True:\n",
        "    data = int(input('이번 영화의 평점을 입력하세요 >>> '))\n",
        "    if data in [1,2,3,4,5]:\n",
        "        print(f\"평점: {'★'*data}\")\n",
        "        break\n",
        "    else:\n",
        "        print('평점은 1~5 사이만 입력할 수 있습니다.')\n",
        "    \n"
      ],
      "metadata": {
        "colab": {
          "base_uri": "https://localhost:8080/"
        },
        "id": "9uMsO8RduS1k",
        "outputId": "5545349e-29be-4cf8-bdf5-3fbfd7df51f6"
      },
      "execution_count": 63,
      "outputs": [
        {
          "output_type": "stream",
          "name": "stdout",
          "text": [
            "이번 영화의 평점을 입력하세요 >>> 10\n",
            "평점은 1~5 사이만 입력할 수 있습니다.\n",
            "이번 영화의 평점을 입력하세요 >>> -2\n",
            "평점은 1~5 사이만 입력할 수 있습니다.\n",
            "이번 영화의 평점을 입력하세요 >>> 4\n",
            "평점: ★★★★\n"
          ]
        }
      ]
    },
    {
      "cell_type": "code",
      "source": [
        "# 3번\n",
        "for i in range(5):\n",
        "    pw = input('비밀번호를 입력하세요 >>> ')\n",
        "    if pw == 'qwerty':\n",
        "        print('비밀번호를 맞혔습니다.')\n",
        "        break\n",
        "    elif i == 4:\n",
        "        print('비밀번호 입력 횟수를 초과했습니다.')\n"
      ],
      "metadata": {
        "colab": {
          "base_uri": "https://localhost:8080/"
        },
        "id": "DWOCNl_r1rw-",
        "outputId": "1f68f3c8-527d-4b19-e3f1-85955b69b922"
      },
      "execution_count": 64,
      "outputs": [
        {
          "output_type": "stream",
          "name": "stdout",
          "text": [
            "비밀번호를 입력하세요 >>> 123456\n",
            "비밀번호를 입력하세요 >>> asdfgh\n",
            "비밀번호를 입력하세요 >>> qwerty\n",
            "비밀번호를 맞혔습니다.\n"
          ]
        }
      ]
    },
    {
      "cell_type": "code",
      "source": [
        "for i in range(5):\n",
        "    pw = input('비밀번호를 입력하세요 >>> ')\n",
        "    if pw == 'qwerty':\n",
        "        print('비밀번호를 맞혔습니다.')\n",
        "        break\n",
        "    elif i == 4:\n",
        "        print('비밀번호 입력 횟수를 초과했습니다.')"
      ],
      "metadata": {
        "colab": {
          "base_uri": "https://localhost:8080/"
        },
        "id": "cy8f4h9E5yl3",
        "outputId": "90b97f9e-622f-401d-b4c9-c107af34b496"
      },
      "execution_count": 65,
      "outputs": [
        {
          "output_type": "stream",
          "name": "stdout",
          "text": [
            "비밀번호를 입력하세요 >>> 123456\n",
            "비밀번호를 입력하세요 >>> asdfgh\n",
            "비밀번호를 입력하세요 >>> zxcvbn\n",
            "비밀번호를 입력하세요 >>> 098765\n",
            "비밀번호를 입력하세요 >>> poiuyt\n",
            "비밀번호 입력 횟수를 초과했습니다.\n"
          ]
        }
      ]
    },
    {
      "cell_type": "code",
      "source": [
        "# 쌤 풀이\n",
        "\n",
        "password = 'qwerty'\n",
        "tryno = 0\n",
        "while True:\n",
        "    if tryno == 5:\n",
        "        print('비밀번호 입력 횟수를 초과했습니다.')\n",
        "        break\n",
        "    inpass = input('비밀번호를 입력하세요 >>> ')\n",
        "    if password == inpass:\n",
        "        print('비밀번호를 맞혔습니다.')\n",
        "        break\n",
        "    tryno += 1"
      ],
      "metadata": {
        "colab": {
          "base_uri": "https://localhost:8080/"
        },
        "id": "E1ucl7BS56rK",
        "outputId": "319b0b4f-f805-478d-8bf8-10f7dc9e3d58"
      },
      "execution_count": 68,
      "outputs": [
        {
          "output_type": "stream",
          "name": "stdout",
          "text": [
            "비밀번호를 입력하세요 >>> 1234566\n",
            "비밀번호를 입력하세요 >>> 3344\n",
            "비밀번호를 입력하세요 >>> ertt\n",
            "비밀번호를 입력하세요 >>> dfgh\n",
            "비밀번호를 입력하세요 >>> yghjj\n",
            "비밀번호 입력 횟수를 초과했습니다.\n"
          ]
        }
      ]
    },
    {
      "cell_type": "code",
      "source": [
        "# 4번\n",
        "\n",
        "for n in range(2,10):\n",
        "    if n % 2 == 0:\n",
        "        continue\n",
        "    for i in range(1,n+1):\n",
        "        print(f'{n}x{i}={n*i}')\n",
        "    print()"
      ],
      "metadata": {
        "colab": {
          "base_uri": "https://localhost:8080/"
        },
        "id": "kY_EH32m7Wiv",
        "outputId": "81abbefa-0c4f-43d0-ce0a-f5cf0ed4100e"
      },
      "execution_count": 80,
      "outputs": [
        {
          "output_type": "stream",
          "name": "stdout",
          "text": [
            "3x1=3\n",
            "3x2=6\n",
            "3x3=9\n",
            "\n",
            "5x1=5\n",
            "5x2=10\n",
            "5x3=15\n",
            "5x4=20\n",
            "5x5=25\n",
            "\n",
            "7x1=7\n",
            "7x2=14\n",
            "7x3=21\n",
            "7x4=28\n",
            "7x5=35\n",
            "7x6=42\n",
            "7x7=49\n",
            "\n",
            "9x1=9\n",
            "9x2=18\n",
            "9x3=27\n",
            "9x4=36\n",
            "9x5=45\n",
            "9x6=54\n",
            "9x7=63\n",
            "9x8=72\n",
            "9x9=81\n",
            "\n"
          ]
        }
      ]
    },
    {
      "cell_type": "code",
      "source": [
        "for n in range(2,10):\n",
        "    if n % 2 == 0:\n",
        "        continue\n",
        "    for i in range(1,10):\n",
        "        if n < i:\n",
        "            break\n",
        "        print(f'{n}x{i}={n*i}')\n",
        "    print()"
      ],
      "metadata": {
        "colab": {
          "base_uri": "https://localhost:8080/"
        },
        "id": "wJJzUyAW_KhY",
        "outputId": "cc984895-2a1a-4662-c0b2-63268cb1dc31"
      },
      "execution_count": 81,
      "outputs": [
        {
          "output_type": "stream",
          "name": "stdout",
          "text": [
            "3x1=3\n",
            "3x2=6\n",
            "3x3=9\n",
            "\n",
            "5x1=5\n",
            "5x2=10\n",
            "5x3=15\n",
            "5x4=20\n",
            "5x5=25\n",
            "\n",
            "7x1=7\n",
            "7x2=14\n",
            "7x3=21\n",
            "7x4=28\n",
            "7x5=35\n",
            "7x6=42\n",
            "7x7=49\n",
            "\n",
            "9x1=9\n",
            "9x2=18\n",
            "9x3=27\n",
            "9x4=36\n",
            "9x5=45\n",
            "9x6=54\n",
            "9x7=63\n",
            "9x8=72\n",
            "9x9=81\n",
            "\n"
          ]
        }
      ]
    },
    {
      "cell_type": "code",
      "source": [
        "# 구구단\n",
        "for a in range(2,10):\n",
        "    for b in range(1,10):\n",
        "        print(f'{a} x {b} = {a*b}')\n",
        "    print()"
      ],
      "metadata": {
        "colab": {
          "base_uri": "https://localhost:8080/"
        },
        "id": "YMSOHFL99JGb",
        "outputId": "6cba28fa-4d4e-4adc-f577-8acb4af4ab32"
      },
      "execution_count": 77,
      "outputs": [
        {
          "output_type": "stream",
          "name": "stdout",
          "text": [
            "2 x 1 = 2\n",
            "2 x 2 = 4\n",
            "2 x 3 = 6\n",
            "2 x 4 = 8\n",
            "2 x 5 = 10\n",
            "2 x 6 = 12\n",
            "2 x 7 = 14\n",
            "2 x 8 = 16\n",
            "2 x 9 = 18\n",
            "\n",
            "3 x 1 = 3\n",
            "3 x 2 = 6\n",
            "3 x 3 = 9\n",
            "3 x 4 = 12\n",
            "3 x 5 = 15\n",
            "3 x 6 = 18\n",
            "3 x 7 = 21\n",
            "3 x 8 = 24\n",
            "3 x 9 = 27\n",
            "\n",
            "4 x 1 = 4\n",
            "4 x 2 = 8\n",
            "4 x 3 = 12\n",
            "4 x 4 = 16\n",
            "4 x 5 = 20\n",
            "4 x 6 = 24\n",
            "4 x 7 = 28\n",
            "4 x 8 = 32\n",
            "4 x 9 = 36\n",
            "\n",
            "5 x 1 = 5\n",
            "5 x 2 = 10\n",
            "5 x 3 = 15\n",
            "5 x 4 = 20\n",
            "5 x 5 = 25\n",
            "5 x 6 = 30\n",
            "5 x 7 = 35\n",
            "5 x 8 = 40\n",
            "5 x 9 = 45\n",
            "\n",
            "6 x 1 = 6\n",
            "6 x 2 = 12\n",
            "6 x 3 = 18\n",
            "6 x 4 = 24\n",
            "6 x 5 = 30\n",
            "6 x 6 = 36\n",
            "6 x 7 = 42\n",
            "6 x 8 = 48\n",
            "6 x 9 = 54\n",
            "\n",
            "7 x 1 = 7\n",
            "7 x 2 = 14\n",
            "7 x 3 = 21\n",
            "7 x 4 = 28\n",
            "7 x 5 = 35\n",
            "7 x 6 = 42\n",
            "7 x 7 = 49\n",
            "7 x 8 = 56\n",
            "7 x 9 = 63\n",
            "\n",
            "8 x 1 = 8\n",
            "8 x 2 = 16\n",
            "8 x 3 = 24\n",
            "8 x 4 = 32\n",
            "8 x 5 = 40\n",
            "8 x 6 = 48\n",
            "8 x 7 = 56\n",
            "8 x 8 = 64\n",
            "8 x 9 = 72\n",
            "\n",
            "9 x 1 = 9\n",
            "9 x 2 = 18\n",
            "9 x 3 = 27\n",
            "9 x 4 = 36\n",
            "9 x 5 = 45\n",
            "9 x 6 = 54\n",
            "9 x 7 = 63\n",
            "9 x 8 = 72\n",
            "9 x 9 = 81\n",
            "\n"
          ]
        }
      ]
    },
    {
      "cell_type": "code",
      "source": [
        ""
      ],
      "metadata": {
        "id": "lZZ5HlDo_Etk"
      },
      "execution_count": null,
      "outputs": []
    },
    {
      "cell_type": "code",
      "source": [
        "# 홀수단 전체 출력\n",
        "for q in range(2,10):\n",
        "    if q % 2 == 0:\n",
        "        continue\n",
        "    for w in range(1,10):\n",
        "        print(f'{q} x {w} = {q*w}')\n",
        "    print()"
      ],
      "metadata": {
        "colab": {
          "base_uri": "https://localhost:8080/"
        },
        "id": "pTPIlE7H95uV",
        "outputId": "8b8b5805-2d3e-42e7-8572-70306cd6d759"
      },
      "execution_count": 78,
      "outputs": [
        {
          "output_type": "stream",
          "name": "stdout",
          "text": [
            "3 x 1 = 3\n",
            "3 x 2 = 6\n",
            "3 x 3 = 9\n",
            "3 x 4 = 12\n",
            "3 x 5 = 15\n",
            "3 x 6 = 18\n",
            "3 x 7 = 21\n",
            "3 x 8 = 24\n",
            "3 x 9 = 27\n",
            "\n",
            "5 x 1 = 5\n",
            "5 x 2 = 10\n",
            "5 x 3 = 15\n",
            "5 x 4 = 20\n",
            "5 x 5 = 25\n",
            "5 x 6 = 30\n",
            "5 x 7 = 35\n",
            "5 x 8 = 40\n",
            "5 x 9 = 45\n",
            "\n",
            "7 x 1 = 7\n",
            "7 x 2 = 14\n",
            "7 x 3 = 21\n",
            "7 x 4 = 28\n",
            "7 x 5 = 35\n",
            "7 x 6 = 42\n",
            "7 x 7 = 49\n",
            "7 x 8 = 56\n",
            "7 x 9 = 63\n",
            "\n",
            "9 x 1 = 9\n",
            "9 x 2 = 18\n",
            "9 x 3 = 27\n",
            "9 x 4 = 36\n",
            "9 x 5 = 45\n",
            "9 x 6 = 54\n",
            "9 x 7 = 63\n",
            "9 x 8 = 72\n",
            "9 x 9 = 81\n",
            "\n"
          ]
        }
      ]
    },
    {
      "cell_type": "code",
      "source": [
        ""
      ],
      "metadata": {
        "id": "24tzaiUR-h6F"
      },
      "execution_count": null,
      "outputs": []
    }
  ]
}