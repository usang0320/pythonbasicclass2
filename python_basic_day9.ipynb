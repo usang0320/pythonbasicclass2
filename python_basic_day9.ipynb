{
  "nbformat": 4,
  "nbformat_minor": 0,
  "metadata": {
    "colab": {
      "name": "python basic day9.ipynb",
      "provenance": [],
      "collapsed_sections": [],
      "authorship_tag": "ABX9TyMuwjv3SEPPEP0olSscnz60",
      "include_colab_link": true
    },
    "kernelspec": {
      "name": "python3",
      "display_name": "Python 3"
    },
    "language_info": {
      "name": "python"
    }
  },
  "cells": [
    {
      "cell_type": "markdown",
      "metadata": {
        "id": "view-in-github",
        "colab_type": "text"
      },
      "source": [
        "<a href=\"https://colab.research.google.com/github/usang0320/pythonbasicclass2/blob/main/python_basic_day9.ipynb\" target=\"_parent\"><img src=\"https://colab.research.google.com/assets/colab-badge.svg\" alt=\"Open In Colab\"/></a>"
      ]
    },
    {
      "cell_type": "code",
      "execution_count": null,
      "metadata": {
        "id": "FuxAaWQXHSiW"
      },
      "outputs": [],
      "source": [
        "# 클래스 class 객체 object\n",
        "# c언어에는 클래스가 없다. <- 클래스가 필수는 아니다."
      ]
    },
    {
      "cell_type": "code",
      "source": [
        "result1 = 0\n",
        "\n",
        "def add1(num):\n",
        "    global result1 # 전역변수\n",
        "    result1 += num\n",
        "    return result1\n",
        "\n",
        "result2 = 0\n",
        "def add2(num):\n",
        "    global result2 # 전역변수\n",
        "    result2 += num\n",
        "    return result2 \n",
        "\n",
        "print(add1(3))\n",
        "print(add1(4))\n",
        "\n",
        "print(add2(2))\n",
        "print(add2(5))\n"
      ],
      "metadata": {
        "colab": {
          "base_uri": "https://localhost:8080/"
        },
        "id": "UaejzbI0HuyY",
        "outputId": "ab6f5f08-d5e7-455e-846b-fc0141c0d4c9"
      },
      "execution_count": null,
      "outputs": [
        {
          "output_type": "stream",
          "name": "stdout",
          "text": [
            "3\n",
            "7\n",
            "2\n",
            "7\n"
          ]
        }
      ]
    },
    {
      "cell_type": "code",
      "source": [
        "print(add1(3))\n",
        "print(add2(5))"
      ],
      "metadata": {
        "colab": {
          "base_uri": "https://localhost:8080/"
        },
        "id": "kdLYvL3DIFl-",
        "outputId": "db765f3a-81fc-4dc8-e02c-d1dafbf96fed"
      },
      "execution_count": null,
      "outputs": [
        {
          "output_type": "stream",
          "name": "stdout",
          "text": [
            "10\n",
            "12\n"
          ]
        }
      ]
    },
    {
      "cell_type": "code",
      "source": [
        "class Calculator:\n",
        "    def __init__(self):     # __init__  생성자는 객체를 생성할 때 자동으로 호출\n",
        "        self.result = 0\n",
        "    def add(self, num):    # self 는 호출한 그 객체를 말한다.\n",
        "        self.result +=num\n",
        "        return self.result  # self 는 호출한 그 객체를 말한다.\n",
        "\n",
        "cal1 = Calculator()         # cal1은 객체이름\n",
        "cal2 = Calculator()         # cal2은 객체이름"
      ],
      "metadata": {
        "id": "-M_dO5l3IR6D"
      },
      "execution_count": null,
      "outputs": []
    },
    {
      "cell_type": "code",
      "source": [
        "cal1.add(2)"
      ],
      "metadata": {
        "colab": {
          "base_uri": "https://localhost:8080/"
        },
        "id": "5x3Jr52FKote",
        "outputId": "788364e5-b3f6-4bf7-fea2-4462b55a934d"
      },
      "execution_count": null,
      "outputs": [
        {
          "output_type": "execute_result",
          "data": {
            "text/plain": [
              "10"
            ]
          },
          "metadata": {},
          "execution_count": 11
        }
      ]
    },
    {
      "cell_type": "code",
      "source": [
        "cal2.add(3)"
      ],
      "metadata": {
        "colab": {
          "base_uri": "https://localhost:8080/"
        },
        "id": "7FWG8snVLjYI",
        "outputId": "06da4312-95aa-4a87-c20b-c1cd1e910808"
      },
      "execution_count": null,
      "outputs": [
        {
          "output_type": "execute_result",
          "data": {
            "text/plain": [
              "3"
            ]
          },
          "metadata": {},
          "execution_count": 12
        }
      ]
    },
    {
      "cell_type": "code",
      "source": [
        "class FourCal:\n",
        "    def setdata(self, first, second):  # self = a(객체의 이름), first = 4, second = 2\n",
        "        self.first = first      # a.first = 4\n",
        "        self.second = second    # a.second = 2"
      ],
      "metadata": {
        "id": "WNy1zF9tMStA"
      },
      "execution_count": null,
      "outputs": []
    },
    {
      "cell_type": "code",
      "source": [
        "a = FourCal()\n",
        "b = FourCal()"
      ],
      "metadata": {
        "id": "fCsrey4aNlZW"
      },
      "execution_count": null,
      "outputs": []
    },
    {
      "cell_type": "code",
      "source": [
        "a.setdata(4,2)\n",
        "b.setdata(3,5)"
      ],
      "metadata": {
        "id": "1yybv1zqNqt_"
      },
      "execution_count": null,
      "outputs": []
    },
    {
      "cell_type": "code",
      "source": [
        "print(a.first)\n",
        "print(a.second)\n",
        "print(b.first)\n",
        "print(b.second)"
      ],
      "metadata": {
        "colab": {
          "base_uri": "https://localhost:8080/"
        },
        "id": "ljl2yy3hO-BD",
        "outputId": "7ac7b2a5-048a-4630-eb0b-141b688b4a29"
      },
      "execution_count": null,
      "outputs": [
        {
          "output_type": "stream",
          "name": "stdout",
          "text": [
            "4\n",
            "2\n",
            "3\n",
            "5\n"
          ]
        }
      ]
    },
    {
      "cell_type": "code",
      "source": [
        "class FourCal:\n",
        "    def setdata(self, first, second):  \n",
        "        self.first = first      \n",
        "        self.second = second    \n",
        "\n",
        "    def add(self):\n",
        "        result = self.first + self.second\n",
        "        return result"
      ],
      "metadata": {
        "id": "CR0XIwpuPP55"
      },
      "execution_count": null,
      "outputs": []
    },
    {
      "cell_type": "code",
      "source": [
        "a = FourCal()\n",
        "a.setdata(4,2)\n",
        "print(a.first)\n",
        "print(a.second)"
      ],
      "metadata": {
        "colab": {
          "base_uri": "https://localhost:8080/"
        },
        "id": "esgUJoRMQNu6",
        "outputId": "23a00d69-2ee8-4b3d-8607-ee639b67a4fb"
      },
      "execution_count": null,
      "outputs": [
        {
          "output_type": "stream",
          "name": "stdout",
          "text": [
            "4\n",
            "2\n"
          ]
        }
      ]
    },
    {
      "cell_type": "code",
      "source": [
        "print(a.add())"
      ],
      "metadata": {
        "colab": {
          "base_uri": "https://localhost:8080/"
        },
        "id": "oJCpjvn7QfM8",
        "outputId": "a74646c1-ce69-4c0f-8f7c-a4753f53509b"
      },
      "execution_count": null,
      "outputs": [
        {
          "output_type": "stream",
          "name": "stdout",
          "text": [
            "6\n"
          ]
        }
      ]
    },
    {
      "cell_type": "code",
      "source": [
        "b = FourCal()\n",
        "b.setdata(3,5)\n",
        "print(b.first)\n",
        "print(b.second)\n",
        "print(b.add())"
      ],
      "metadata": {
        "colab": {
          "base_uri": "https://localhost:8080/"
        },
        "id": "jJoOScYBQssi",
        "outputId": "b1653c67-4d96-4a7f-c752-6a2245d8a65d"
      },
      "execution_count": null,
      "outputs": [
        {
          "output_type": "stream",
          "name": "stdout",
          "text": [
            "3\n",
            "5\n",
            "8\n"
          ]
        }
      ]
    },
    {
      "cell_type": "code",
      "source": [
        "class FourCal:\n",
        "    def __init__(self, first, second):\n",
        "        self.first = first\n",
        "        self.second = second\n",
        "        \n",
        "    def setdata(self, first, second):  \n",
        "        self.first = first      \n",
        "        self.second = second    \n",
        "\n",
        "    def add(self):\n",
        "        result = self.first + self.second\n",
        "        return result\n",
        "\n",
        "    def mul(self):\n",
        "        result = self.first * self.second\n",
        "        return result\n",
        "    \n",
        "    def sub(self):\n",
        "        result = self.first - self.second\n",
        "        return result\n",
        "\n",
        "    def div(self):\n",
        "        result = self.first / self.second\n",
        "        return result"
      ],
      "metadata": {
        "id": "RGQ6-BWYRE20"
      },
      "execution_count": null,
      "outputs": []
    },
    {
      "cell_type": "code",
      "source": [
        "c = FourCal()\n",
        "c.setdata(1,2)\n",
        "print(c.add())\n",
        "print(c.mul())\n",
        "print(c.sub())\n"
      ],
      "metadata": {
        "colab": {
          "base_uri": "https://localhost:8080/"
        },
        "id": "daqhTHYcRyp_",
        "outputId": "b985499c-7a68-47b8-d310-e630f397846f"
      },
      "execution_count": null,
      "outputs": [
        {
          "output_type": "stream",
          "name": "stdout",
          "text": [
            "3\n",
            "2\n",
            "-1\n"
          ]
        }
      ]
    },
    {
      "cell_type": "code",
      "source": [
        "# 생성자   __init__   Constructor"
      ],
      "metadata": {
        "id": "82LaThQ2SWes"
      },
      "execution_count": null,
      "outputs": []
    },
    {
      "cell_type": "code",
      "source": [
        "d = FourCal(1,2)\n",
        "print(d.add())\n",
        "print(d.mul())\n",
        "print(d.div())"
      ],
      "metadata": {
        "colab": {
          "base_uri": "https://localhost:8080/"
        },
        "id": "9AdcztcRb7VB",
        "outputId": "b75d1169-b1b0-4565-800d-9cfed9ca9df7"
      },
      "execution_count": null,
      "outputs": [
        {
          "output_type": "stream",
          "name": "stdout",
          "text": [
            "3\n",
            "2\n",
            "0.5\n"
          ]
        }
      ]
    },
    {
      "cell_type": "code",
      "source": [
        "# 상속  inheritance\n",
        "# 어떤 클래스를 만들 때 다른 클래스의 기능을 물려받을 수 있는 기능\n",
        "# 보통 상속의 기존 클래스를 변경하지 않고 기능을 추가하거나\n",
        "# 기존 기능을 변경하려고 할 때 사용된다."
      ],
      "metadata": {
        "id": "Wv8u_a4wcCL7"
      },
      "execution_count": null,
      "outputs": []
    },
    {
      "cell_type": "code",
      "source": [
        "class MoreFourCal(FourCal):\n",
        "    def pow(self):\n",
        "        result = self.first ** self.second\n",
        "        return result"
      ],
      "metadata": {
        "id": "NCvmJ_QSd0ml"
      },
      "execution_count": null,
      "outputs": []
    },
    {
      "cell_type": "code",
      "source": [
        "e = MoreFourCal(3,2)\n",
        "print(e.pow())"
      ],
      "metadata": {
        "colab": {
          "base_uri": "https://localhost:8080/"
        },
        "id": "Dzp2_qJPd8MG",
        "outputId": "dec3ec43-fb8b-4f1e-8bde-f5017e95e06a"
      },
      "execution_count": null,
      "outputs": [
        {
          "output_type": "stream",
          "name": "stdout",
          "text": [
            "9\n"
          ]
        }
      ]
    },
    {
      "cell_type": "code",
      "source": [
        "# 매서드 오버라이딩 mathod overriding(함수 덮어쓰기)\n",
        "\n",
        "a = FourCal(4,0)  # 부모 클래스 인 FourCal로 a라는 객체를 생성했다.\n",
        "a.div()         # 0으로 나누면 에러가 발생한다."
      ],
      "metadata": {
        "colab": {
          "base_uri": "https://localhost:8080/",
          "height": 315
        },
        "id": "oeHNwE1neP9x",
        "outputId": "cd82a18b-a242-46ce-d9df-7365c261c254"
      },
      "execution_count": null,
      "outputs": [
        {
          "output_type": "error",
          "ename": "ZeroDivisionError",
          "evalue": "ignored",
          "traceback": [
            "\u001b[0;31m---------------------------------------------------------------------------\u001b[0m",
            "\u001b[0;31mZeroDivisionError\u001b[0m                         Traceback (most recent call last)",
            "\u001b[0;32m<ipython-input-50-0e15eb1730c8>\u001b[0m in \u001b[0;36m<module>\u001b[0;34m()\u001b[0m\n\u001b[1;32m      2\u001b[0m \u001b[0;34m\u001b[0m\u001b[0m\n\u001b[1;32m      3\u001b[0m \u001b[0ma\u001b[0m \u001b[0;34m=\u001b[0m \u001b[0mFourCal\u001b[0m\u001b[0;34m(\u001b[0m\u001b[0;36m4\u001b[0m\u001b[0;34m,\u001b[0m\u001b[0;36m0\u001b[0m\u001b[0;34m)\u001b[0m  \u001b[0;31m# 부모 클래스 인 FourCal로 a라는 객체를 생성했다.\u001b[0m\u001b[0;34m\u001b[0m\u001b[0;34m\u001b[0m\u001b[0m\n\u001b[0;32m----> 4\u001b[0;31m \u001b[0ma\u001b[0m\u001b[0;34m.\u001b[0m\u001b[0mdiv\u001b[0m\u001b[0;34m(\u001b[0m\u001b[0;34m)\u001b[0m         \u001b[0;31m# 0으로 나누면 에러가 발생한다.\u001b[0m\u001b[0;34m\u001b[0m\u001b[0;34m\u001b[0m\u001b[0m\n\u001b[0m",
            "\u001b[0;32m<ipython-input-35-da5546d40ca7>\u001b[0m in \u001b[0;36mdiv\u001b[0;34m(self)\u001b[0m\n\u001b[1;32m     21\u001b[0m \u001b[0;34m\u001b[0m\u001b[0m\n\u001b[1;32m     22\u001b[0m     \u001b[0;32mdef\u001b[0m \u001b[0mdiv\u001b[0m\u001b[0;34m(\u001b[0m\u001b[0mself\u001b[0m\u001b[0;34m)\u001b[0m\u001b[0;34m:\u001b[0m\u001b[0;34m\u001b[0m\u001b[0;34m\u001b[0m\u001b[0m\n\u001b[0;32m---> 23\u001b[0;31m         \u001b[0mresult\u001b[0m \u001b[0;34m=\u001b[0m \u001b[0mself\u001b[0m\u001b[0;34m.\u001b[0m\u001b[0mfirst\u001b[0m \u001b[0;34m/\u001b[0m \u001b[0mself\u001b[0m\u001b[0;34m.\u001b[0m\u001b[0msecond\u001b[0m\u001b[0;34m\u001b[0m\u001b[0;34m\u001b[0m\u001b[0m\n\u001b[0m\u001b[1;32m     24\u001b[0m         \u001b[0;32mreturn\u001b[0m \u001b[0mresult\u001b[0m\u001b[0;34m\u001b[0m\u001b[0;34m\u001b[0m\u001b[0m\n",
            "\u001b[0;31mZeroDivisionError\u001b[0m: division by zero"
          ]
        }
      ]
    },
    {
      "cell_type": "code",
      "source": [
        "class SafeFourCal(FourCal):\n",
        "    def div (self):\n",
        "        if self.second == 0:\n",
        "            return 0\n",
        "        else:\n",
        "            return self.first / self.second \n",
        "\n",
        "f = SafeFourCal(4,0)\n",
        "f.div()"
      ],
      "metadata": {
        "colab": {
          "base_uri": "https://localhost:8080/"
        },
        "id": "CLufohyXf7Bd",
        "outputId": "8e9c4e3d-1683-4907-b6dc-81d652113ac8"
      },
      "execution_count": null,
      "outputs": [
        {
          "output_type": "execute_result",
          "data": {
            "text/plain": [
              "0"
            ]
          },
          "metadata": {},
          "execution_count": 49
        }
      ]
    },
    {
      "cell_type": "code",
      "source": [
        "# 클래스 변수 \n",
        "\n",
        "# 객체변수는 다른 객체들에 영향을 받지않고\n",
        "# 독립적으로 그 값을 유지한다는 것이 중요하다.\n",
        "# 클래스 변수는 객체 생성 없이도 사용할 수 있다.\n",
        "# 실무에서는 클래스 변수 보다는 객체 변수를 사용하는 비율이 훠월씬 높다.\n",
        "\n",
        "class Family:\n",
        "    lastname = '김'  # 클래스 변수 선언\n",
        "\n",
        "Family.lastname\n",
        "\n"
      ],
      "metadata": {
        "colab": {
          "base_uri": "https://localhost:8080/",
          "height": 35
        },
        "id": "peOM3HKYhn8J",
        "outputId": "4600e012-ace4-4658-8a0a-171eeb483b43"
      },
      "execution_count": null,
      "outputs": [
        {
          "output_type": "execute_result",
          "data": {
            "application/vnd.google.colaboratory.intrinsic+json": {
              "type": "string"
            },
            "text/plain": [
              "'김'"
            ]
          },
          "metadata": {},
          "execution_count": 51
        }
      ]
    },
    {
      "cell_type": "code",
      "source": [
        "a = Family()\n",
        "b = Family()\n",
        "print(a.lastname)\n",
        "print(b.lastname)"
      ],
      "metadata": {
        "colab": {
          "base_uri": "https://localhost:8080/"
        },
        "id": "lhGLxPVmjmLh",
        "outputId": "1eb5ffbd-0a85-467d-81e4-9b2b0afffecf"
      },
      "execution_count": null,
      "outputs": [
        {
          "output_type": "stream",
          "name": "stdout",
          "text": [
            "김\n",
            "김\n"
          ]
        }
      ]
    },
    {
      "cell_type": "code",
      "source": [
        "Family.lastname = '박'"
      ],
      "metadata": {
        "id": "Vg0CkDWijzhG"
      },
      "execution_count": null,
      "outputs": []
    },
    {
      "cell_type": "code",
      "source": [
        "print(a.lastname)\n",
        "print(b.lastname)"
      ],
      "metadata": {
        "colab": {
          "base_uri": "https://localhost:8080/"
        },
        "id": "zLdxgG5mj_dS",
        "outputId": "2da03442-702a-411a-a97f-c8258dc17a8a"
      },
      "execution_count": null,
      "outputs": [
        {
          "output_type": "stream",
          "name": "stdout",
          "text": [
            "박\n",
            "박\n"
          ]
        }
      ]
    },
    {
      "cell_type": "code",
      "source": [
        "class Book():\n",
        "    def set_info(self, title, author):\n",
        "        self.title = title\n",
        "        self.author = author\n",
        "    def print_info(self):\n",
        "        print(f'책 제목: {self.title}\\n책 저자: {self.author}')\n",
        "book1 = Book()\n",
        "book2 = Book()\n",
        "book_list = []\n",
        "book_list.append(book1)\n",
        "book_list.append(book2)"
      ],
      "metadata": {
        "id": "MqhrqH_RkC3r"
      },
      "execution_count": null,
      "outputs": []
    },
    {
      "cell_type": "code",
      "source": [
        "book1.set_info('파이썬','민경태')\n",
        "book2.set_info('어린왕자','생택쥐페리')\n",
        "book1.print_info()\n",
        "book2.print_info()"
      ],
      "metadata": {
        "colab": {
          "base_uri": "https://localhost:8080/"
        },
        "id": "PuQindEjnahc",
        "outputId": "abbda843-27ba-4b58-9d8f-236ca5ea652a"
      },
      "execution_count": null,
      "outputs": [
        {
          "output_type": "stream",
          "name": "stdout",
          "text": [
            "책 제목: 파이썬\n",
            "책 저자: 민경태\n",
            "책 제목: 어린왕자\n",
            "책 저자: 생택쥐페리\n"
          ]
        }
      ]
    },
    {
      "cell_type": "code",
      "source": [
        "print(book_list)"
      ],
      "metadata": {
        "colab": {
          "base_uri": "https://localhost:8080/"
        },
        "id": "5ZfIqA_On1RW",
        "outputId": "06c48aee-50ae-4b21-855c-78ead4e8d74b"
      },
      "execution_count": null,
      "outputs": [
        {
          "output_type": "stream",
          "name": "stdout",
          "text": [
            "[<__main__.Book object at 0x7f6dcb9d9bd0>, <__main__.Book object at 0x7f6dbd3a8710>]\n"
          ]
        }
      ]
    },
    {
      "cell_type": "code",
      "source": [
        "# 예외처리 Exception\n",
        "\n",
        "a = int(input('제수를 입력하세요'))\n",
        "b = int(input('피제수를 입력하세요'))\n",
        "\n",
        "if b == 0:\n",
        "    print('0으로 나누는 것은 불가능 합니다')\n",
        "else:\n",
        "    print(a/b)"
      ],
      "metadata": {
        "id": "FotBwgR2pOLn",
        "colab": {
          "base_uri": "https://localhost:8080/"
        },
        "outputId": "fb80980c-8ba0-44fe-bcb5-1ab59aeea1e8"
      },
      "execution_count": null,
      "outputs": [
        {
          "output_type": "stream",
          "name": "stdout",
          "text": [
            "제수를 입력하세요2\n",
            "피제수를 입력하세요0\n",
            "0으로 나누는 것은 불가능 합니다\n"
          ]
        }
      ]
    },
    {
      "cell_type": "code",
      "source": [
        "try:\n",
        "    a = int(input('제수를 입력하세요'))\n",
        "    b = int(input('피제수를 입력하세요'))\n",
        "    print(a/b)\n",
        "except:\n",
        "    print('0으로 나누는 것은 불가능 합니다')"
      ],
      "metadata": {
        "colab": {
          "base_uri": "https://localhost:8080/"
        },
        "id": "PQ99xaRCoRcs",
        "outputId": "91d6b0b6-b948-4c75-932a-ea0d5c828b91"
      },
      "execution_count": null,
      "outputs": [
        {
          "output_type": "stream",
          "name": "stdout",
          "text": [
            "제수를 입력하세요2\n",
            "피제수를 입력하세요0\n",
            "0으로 나누는 것은 불가능 합니다\n"
          ]
        }
      ]
    },
    {
      "cell_type": "code",
      "source": [
        "try:\n",
        "    a = int(input('제수를 입력하세요'))\n",
        "    b = int(input('피제수를 입력하세요'))\n",
        "    print(a/b)\n",
        "except ZeroDivisionError:\n",
        "    print('0으로 나누는 것은 불가능 합니다')\n",
        "except ValueError:\n",
        "    print('정수만 입력할 수 있습니다')\n",
        "except Exception:\n",
        "    print('알 수 없는 에러가 발생했습니다')"
      ],
      "metadata": {
        "id": "qXEj746GpsHn"
      },
      "execution_count": null,
      "outputs": []
    },
    {
      "cell_type": "code",
      "source": [
        "a = [10,20,30,40,50]\n",
        "try:\n",
        "    a[10]\n",
        "except IndexError:\n",
        "    print('에러발생')"
      ],
      "metadata": {
        "colab": {
          "base_uri": "https://localhost:8080/"
        },
        "id": "LKuN6fnYqpT9",
        "outputId": "ed1d4655-910c-4b1f-c572-d6c09f89efc4"
      },
      "execution_count": null,
      "outputs": [
        {
          "output_type": "stream",
          "name": "stdout",
          "text": [
            "에러발생\n"
          ]
        }
      ]
    },
    {
      "cell_type": "code",
      "source": [
        "a = [10,20,30,40,50]\n",
        "try:\n",
        "    a[10]\n",
        "except IndexError as e:\n",
        "    print(e)"
      ],
      "metadata": {
        "colab": {
          "base_uri": "https://localhost:8080/"
        },
        "id": "KFVFqYxPqt-S",
        "outputId": "2bef3596-3c97-429d-df03-ae0b518f0432"
      },
      "execution_count": null,
      "outputs": [
        {
          "output_type": "stream",
          "name": "stdout",
          "text": [
            "list index out of range\n"
          ]
        }
      ]
    },
    {
      "cell_type": "code",
      "source": [
        "try:\n",
        "    a = int(input('제수를 입력하세요'))\n",
        "    b = int(input('피제수를 입력하세요'))\n",
        "    result = a/b\n",
        "except ZeroDivisionError:\n",
        "    print('0으로 나누는 것은 불가능 합니다')\n",
        "except ValueError:\n",
        "    print('정수만 입력할 수 있습니다')\n",
        "except Exception:\n",
        "    print('알 수 없는 에러가 발생했습니다')\n",
        "else:     # 예외가 발생하지 않았을 경우\n",
        "    print(result)\n",
        "finally:  # 예외발생 여부와는 상관없이 항상 마지막에 접근\n",
        "    print('프로그램을 종료합니다.')"
      ],
      "metadata": {
        "id": "in_5lP0NrKpE"
      },
      "execution_count": null,
      "outputs": []
    },
    {
      "cell_type": "code",
      "source": [
        "# 강제 예외 발생\n",
        "\n",
        "try:\n",
        "    raise Exception('강제 예외 발생')\n",
        "except Exception as e:\n",
        "    print('발생한 예외 메세지')\n",
        "    print(e)"
      ],
      "metadata": {
        "colab": {
          "base_uri": "https://localhost:8080/"
        },
        "id": "IH4vcM-usfCm",
        "outputId": "892603ca-3e03-43ec-ad90-35bad7b5f30c"
      },
      "execution_count": null,
      "outputs": [
        {
          "output_type": "stream",
          "name": "stdout",
          "text": [
            "발생한 예외 메세지\n",
            "강제 예외 발생\n"
          ]
        }
      ]
    },
    {
      "cell_type": "code",
      "source": [
        "# page 306\n",
        "\n",
        "class Quiz:\n",
        "    answer = ['경기도','강원도','충청남도','충청북도','전라남도','전라북도','경상남도','경상북도','제주특별자치도']\n",
        "    def challenge():\n",
        "        while len(Quiz.answer) == 0:\n",
        "            data = input('정답은? >>> ')\n",
        "            if data in Quiz.answer:\n",
        "                print('정답입니다.')\n",
        "                Quiz.answer.pop(data)\n",
        "            else:\n",
        "                print('틀렸습니다.')\n",
        "\n",
        "\n",
        "try:\n",
        "    print('우리나라의 9개 모든 도를 맞히는 퀴즈입니다. 하나씩 대답하세요.')\n",
        "    Quiz.challenge()\n",
        "except Exception as e:\n",
        "    print(e)"
      ],
      "metadata": {
        "colab": {
          "base_uri": "https://localhost:8080/"
        },
        "id": "hWC-Lch9s0mn",
        "outputId": "93732a6f-36ed-4cec-8602-7be1754a969d"
      },
      "execution_count": null,
      "outputs": [
        {
          "output_type": "stream",
          "name": "stdout",
          "text": [
            "우리나라의 9개 모든 도를 맞히는 퀴즈입니다. 하나씩 대답하세요.\n"
          ]
        }
      ]
    },
    {
      "cell_type": "code",
      "source": [
        "# 2\n",
        "\n",
        "import random\n",
        "\n",
        "class UpDown:\n",
        "    def __init__(self):\n",
        "        self.answer = random.randint(1,100)\n",
        "        self.count = 0\n",
        "\n",
        "    def play(self):\n",
        "        while True:\n",
        "            try:\n",
        "                n = self.challenge()\n",
        "            except Exception as e:\n",
        "                print(e)\n",
        "            else:\n",
        "                if n == self.answer:\n",
        "                    print(f'{self.count}번만의 정답입니다.')\n",
        "                    break\n",
        "                elif n > self.answer:\n",
        "                    print('Down!')\n",
        "                else:\n",
        "                    print('Up!')\n",
        "                \n",
        "             \n",
        "\n",
        "    def challenge(self):\n",
        "        self.count += 1\n",
        "        n = int(input('입력(1~100) >>> '))\n",
        "        if n < 1 or n >100:\n",
        "            raise Exception('1~100사이만 입력하세요.')    \n",
        "        return n\n",
        "game = UpDown()\n",
        "game.play() "
      ],
      "metadata": {
        "id": "LjuetLTOxGRe",
        "colab": {
          "base_uri": "https://localhost:8080/"
        },
        "outputId": "c74efc68-62f4-4aab-e29d-a545735df813"
      },
      "execution_count": 25,
      "outputs": [
        {
          "output_type": "stream",
          "name": "stdout",
          "text": [
            "입력(1~100) >>> 50\n",
            "Down!\n",
            "입력(1~100) >>> 25\n",
            "Up!\n",
            "입력(1~100) >>> 30\n",
            "Up!\n",
            "입력(1~100) >>> 40\n",
            "Down!\n",
            "입력(1~100) >>> 35\n",
            "Up!\n",
            "입력(1~100) >>> 38\n",
            "Down!\n",
            "입력(1~100) >>> 36\n",
            "7번만의 정답입니다.\n"
          ]
        }
      ]
    },
    {
      "cell_type": "code",
      "source": [
        ""
      ],
      "metadata": {
        "id": "vmd07--jIifn"
      },
      "execution_count": null,
      "outputs": []
    }
  ]
}