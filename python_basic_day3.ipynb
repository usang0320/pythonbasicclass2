{
  "nbformat": 4,
  "nbformat_minor": 0,
  "metadata": {
    "colab": {
      "name": "python basic day3.ipynb",
      "provenance": [],
      "authorship_tag": "ABX9TyPKWvpVQESummqRn7Zozj0d",
      "include_colab_link": true
    },
    "kernelspec": {
      "name": "python3",
      "display_name": "Python 3"
    },
    "language_info": {
      "name": "python"
    }
  },
  "cells": [
    {
      "cell_type": "markdown",
      "metadata": {
        "id": "view-in-github",
        "colab_type": "text"
      },
      "source": [
        "<a href=\"https://colab.research.google.com/github/usang0320/pythonbasicclass2/blob/main/python_basic_day3.ipynb\" target=\"_parent\"><img src=\"https://colab.research.google.com/assets/colab-badge.svg\" alt=\"Open In Colab\"/></a>"
      ]
    },
    {
      "cell_type": "code",
      "execution_count": null,
      "metadata": {
        "id": "FCuqp6BeRhS3"
      },
      "outputs": [],
      "source": [
        "# list tuple dict set\n",
        "\n",
        "# list   [] indexing/slicing    mutable(del, ins)  [1]\n",
        "# tuple  () indexing/slicing    immutable          (1,)\n",
        "# dict   {}     X (unordered)   mutable(del, ins)  {'key': 'value'}\n",
        "# set    {}     X (unordered)   mutable(del, ins)  {1,2,3}"
      ]
    },
    {
      "cell_type": "code",
      "source": [
        "# 1번\n",
        "data = '31025'\n",
        "grade = data[0]\n",
        "class1 = data[1:3]\n",
        "number = data[-2:]\n",
        "print(grade,'학년',class1,'반',number,'번')\n",
        "print(f'{grade} 학년 {class1} 반 {number} 번') # f 스트링   -------------- 메모에서 f 스트링 다시보기"
      ],
      "metadata": {
        "colab": {
          "base_uri": "https://localhost:8080/"
        },
        "id": "iiNeApfRUBP7",
        "outputId": "9fcbd491-0add-4c33-8517-53409957d428"
      },
      "execution_count": null,
      "outputs": [
        {
          "output_type": "stream",
          "name": "stdout",
          "text": [
            "3 학년 10 반 25 번\n",
            "3 학년 10 반 25 번\n"
          ]
        }
      ]
    },
    {
      "cell_type": "code",
      "source": [
        "# 2번\n",
        "car_number = '서울2가1234'\n",
        "no4 = car_number[-4:]\n",
        "print(car_number,'의 차량번호 4자리는',no4,'입니다.')\n",
        "print(f'{car_number}의 차량번호 4자리는 {no4}입니다.')"
      ],
      "metadata": {
        "colab": {
          "base_uri": "https://localhost:8080/"
        },
        "id": "n9PbaLwXV8_s",
        "outputId": "8df0eff0-da3f-4825-9713-066918c3814d"
      },
      "execution_count": null,
      "outputs": [
        {
          "output_type": "stream",
          "name": "stdout",
          "text": [
            "서울2가1234 의 차량번호 4자리는 1234 입니다.\n",
            "서울2가1234의 차량번호 4자리는 1234입니다.\n"
          ]
        }
      ]
    },
    {
      "cell_type": "code",
      "source": [
        "# 3번\n",
        "s = 'maple'\n",
        "middle = s[int(len(s)/2)]\n",
        "print(s,'의 가운데 글자는', middle,'입니다.')\n",
        "print(f'{s}의 가운데 글자는 {middle}입니다.')"
      ],
      "metadata": {
        "colab": {
          "base_uri": "https://localhost:8080/"
        },
        "id": "z2XASPKGWwTS",
        "outputId": "c4a3a3c8-d80e-4f44-a124-b9397d461700"
      },
      "execution_count": null,
      "outputs": [
        {
          "output_type": "stream",
          "name": "stdout",
          "text": [
            "maple 의 가운데 글자는 p 입니다.\n",
            "maple의 가운데 글자는 p입니다.\n"
          ]
        }
      ]
    },
    {
      "cell_type": "code",
      "source": [
        "# 3번 정답\n",
        "s = 'maple' # 가운데 p출력\n",
        "center = s[len(s) // 2]    # // 나머지를 버리고 몫만 취한다\n",
        "                           #  % 몫은 버리고 나머지만 취한다(홀/짝/배)\n",
        "\n",
        "print(s,'의 가운데 글자는',center,'입니다.')\n",
        "print(f'{s}의 가운데 글자는 {center}입니다.')"
      ],
      "metadata": {
        "colab": {
          "base_uri": "https://localhost:8080/"
        },
        "id": "ZntRr8sobs8E",
        "outputId": "8ea96fd5-6835-4f29-8c30-e784e8d1de49"
      },
      "execution_count": null,
      "outputs": [
        {
          "output_type": "stream",
          "name": "stdout",
          "text": [
            "maple 의 가운데 글자는 p 입니다.\n",
            "maple의 가운데 글자는 p입니다.\n"
          ]
        }
      ]
    },
    {
      "cell_type": "code",
      "source": [
        "# 4번\n",
        "a = [10,20,30,40,50,60,70,80,90,100]\n",
        "print(a[2:7][1])\n",
        "\n",
        "b = a[2:7]\n",
        "c = b[1]\n",
        "print(f'3번째 요소부터 7번째 요소 = {b}\\n3번째 요소부터 7번째 요소 중 2번째 요소 = {c}')"
      ],
      "metadata": {
        "colab": {
          "base_uri": "https://localhost:8080/"
        },
        "id": "Rw0llec7XIuL",
        "outputId": "b14ca0c7-520e-42a2-936e-e610365f51e9"
      },
      "execution_count": null,
      "outputs": [
        {
          "output_type": "stream",
          "name": "stdout",
          "text": [
            "40\n",
            "3번째 요소부터 7번째 요소 = [30, 40, 50, 60, 70]\n",
            "3번째 요소부터 7번째 요소 중 2번째 요소 = 40\n"
          ]
        }
      ]
    },
    {
      "cell_type": "code",
      "source": [
        "# 5번\n",
        "foods = {\n",
        "    '금요일': '탕수육',\n",
        "    '토요일': '유산슬',\n",
        "    '일요일': '팔보채'\n",
        "}\n",
        "print('금요일 :', foods['금요일'])\n",
        "print('토요일 :', foods['토요일'])\n",
        "print('일요일 :', foods['일요일'])\n"
      ],
      "metadata": {
        "colab": {
          "base_uri": "https://localhost:8080/"
        },
        "id": "6Lgga0k1YkCY",
        "outputId": "12b67d99-4a85-4c19-c111-a34743a75608"
      },
      "execution_count": null,
      "outputs": [
        {
          "output_type": "stream",
          "name": "stdout",
          "text": [
            "금요일 : 탕수육\n",
            "토요일 : 유산슬\n",
            "일요일 : 팔보채\n"
          ]
        }
      ]
    },
    {
      "cell_type": "code",
      "source": [
        "# \\ 따옴표의 기능을 무력화시키고 글자로 표현\n",
        "# \\n 줄바꿈     line feed\n",
        "# \\t 탭         tab   일정 간격으로 띄어쓰기\n",
        "\n",
        "print('hello \\'world\\'')     # \\'가 쓰이면 작은따옴표의 기능 무력화. 글자 그대로의 작은 따옴표로 쓰임.\n",
        "print(\"hello 'world'\")\n",
        "\n",
        "print(\"hello \\\"world\\\"\")\n",
        "print('hello \"world\"')\n",
        "\n",
        "print('*\\n**\\n***')\n",
        "print('hello\\nworld')\n",
        "\n",
        "print('이름\\t연락처')\n",
        "print('제시카\\t01-123-4567')\n",
        "print('마틴\\t010-6789-1234')\n"
      ],
      "metadata": {
        "colab": {
          "base_uri": "https://localhost:8080/"
        },
        "id": "VLdq0jwLawRK",
        "outputId": "e88d835b-9311-46b5-83dd-6a271a4cd863"
      },
      "execution_count": null,
      "outputs": [
        {
          "output_type": "stream",
          "name": "stdout",
          "text": [
            "hello 'world'\n",
            "hello 'world'\n",
            "hello \"world\"\n",
            "hello \"world\"\n",
            "*\n",
            "**\n",
            "***\n",
            "hello\n",
            "world\n",
            "이름\t연락처\n",
            "제시카\t01-123-4567\n",
            "마틴\t010-6789-1234\n"
          ]
        }
      ]
    },
    {
      "cell_type": "code",
      "source": [
        "# print() 함수\n",
        "\n",
        "print('재미있는','파이썬')\n",
        "print('재미있는','파이썬', sep = ',')  # 구분자\n",
        "print('재미있는','파이썬', sep = '/')\n",
        "print('재미있는','파이썬', sep = ':')"
      ],
      "metadata": {
        "colab": {
          "base_uri": "https://localhost:8080/"
        },
        "id": "D3C0rbQ2ivM4",
        "outputId": "594a12f2-6819-49d1-bd6f-a30dcc7a3a73"
      },
      "execution_count": null,
      "outputs": [
        {
          "output_type": "stream",
          "name": "stdout",
          "text": [
            "재미있는 파이썬\n",
            "재미있는,파이썬\n",
            "재미있는/파이썬\n",
            "재미있는:파이썬\n"
          ]
        }
      ]
    },
    {
      "cell_type": "code",
      "source": [
        "print('영화 타이타닉')\n",
        "print('평점', end = ' ')\n",
        "print('5점')"
      ],
      "metadata": {
        "colab": {
          "base_uri": "https://localhost:8080/"
        },
        "id": "oJow_9aElaxG",
        "outputId": "6c2e2a46-d496-4c26-a9b5-7f63d800ea66"
      },
      "execution_count": null,
      "outputs": [
        {
          "output_type": "stream",
          "name": "stdout",
          "text": [
            "영화 타이타닉\n",
            "평점 5점\n"
          ]
        }
      ]
    },
    {
      "cell_type": "code",
      "source": [
        "# % 연산자\n",
        "\n",
        "print('%d' % 10)       # %d 정수 10진수 자리표시자 decima\n",
        "print('%o' % 10)       # %o 정수 8진수 자리표시자  octal\n",
        "print('%x' % 10)       # %x 정수 16진수 자리표시자 hexa\n",
        "print('%f' % 3.14)   \n",
        "\n",
        "print('%s' % 'python')   # 모든 문자 s로 표현 가능 ( 정수, 실수, 문자열 등등)\n",
        "print('%s' % 10)       \n",
        "print('%s' % 10)       \n",
        "print('%s' % 3.14) \n",
        "\n",
        "# %연산자 비추  # f스트링이 개꿀임\n"
      ],
      "metadata": {
        "colab": {
          "base_uri": "https://localhost:8080/"
        },
        "id": "hsrkOEMBmRQO",
        "outputId": "97a14ef8-b83e-41a0-f8a0-b85072c452ec"
      },
      "execution_count": null,
      "outputs": [
        {
          "output_type": "stream",
          "name": "stdout",
          "text": [
            "10\n",
            "12\n",
            "a\n",
            "3.140000\n",
            "python\n",
            "10\n",
            "10\n",
            "3.14\n"
          ]
        }
      ]
    },
    {
      "cell_type": "code",
      "source": [
        "print('%d' % 1)\n",
        "print('%5d' % 1)      # 다섯칸을 확보하고 오른쪽부터 출력\n",
        "print('%5d' % 11)     # 다섯칸을 확보하고 오른쪽부터 출력"
      ],
      "metadata": {
        "colab": {
          "base_uri": "https://localhost:8080/"
        },
        "id": "kq7z4vFcosTg",
        "outputId": "ecce5f02-a738-4236-f264-e11da5cc1a11"
      },
      "execution_count": null,
      "outputs": [
        {
          "output_type": "stream",
          "name": "stdout",
          "text": [
            "1\n",
            "    1\n",
            "   11\n"
          ]
        }
      ]
    },
    {
      "cell_type": "code",
      "source": [
        "print('%-5d' % 1)     # 다섯칸을 확보하고 왼쪽에 출력\n",
        "print('%-5d' % 11)    # 다섯칸을 확보하고 왼쪽부터 출력 "
      ],
      "metadata": {
        "colab": {
          "base_uri": "https://localhost:8080/"
        },
        "id": "qacrRkIFtNQq",
        "outputId": "5bb86902-180e-4d65-d3e6-06319a7adaba"
      },
      "execution_count": null,
      "outputs": [
        {
          "output_type": "stream",
          "name": "stdout",
          "text": [
            "1    \n",
            "11   \n"
          ]
        }
      ]
    },
    {
      "cell_type": "code",
      "source": [
        "print('%5.2f' % 3.14)  # 다섯칸을 확보하고 소수 2자리까지 오른쪽부터 출력\n",
        "print('%5.1f' % 3.14)  # 다섯칸을 확보하고 소수 1자리까지 오른쪽부터 출력"
      ],
      "metadata": {
        "colab": {
          "base_uri": "https://localhost:8080/"
        },
        "id": "3-KOoikpttzK",
        "outputId": "1cd171d2-e933-4ff3-c5fa-ff5452859796"
      },
      "execution_count": null,
      "outputs": [
        {
          "output_type": "stream",
          "name": "stdout",
          "text": [
            " 3.14\n",
            "  3.1\n"
          ]
        }
      ]
    },
    {
      "cell_type": "code",
      "source": [
        "print('%-5.2f' % 3.14)  # 다섯칸을 확보하고 소수 2자리까지 왼쪽부터 출력\n",
        "print('%-5.1f' % 3.14)  # 다섯칸을 확보하고 소수 1자리까지 왼쪽부터 출력"
      ],
      "metadata": {
        "colab": {
          "base_uri": "https://localhost:8080/"
        },
        "id": "Fdbzh7ZquBBL",
        "outputId": "66e82a0a-206d-49b9-d908-9a47c0bbc641"
      },
      "execution_count": null,
      "outputs": [
        {
          "output_type": "stream",
          "name": "stdout",
          "text": [
            "3.14 \n",
            "3.1  \n"
          ]
        }
      ]
    },
    {
      "cell_type": "code",
      "source": [
        "print('%.2f' % 3.14)  # 소수 2자리까지 실수출력\n",
        "print('%.1f' % 3.14)  # 소수 1자리까지 실수출력"
      ],
      "metadata": {
        "colab": {
          "base_uri": "https://localhost:8080/"
        },
        "id": "Xll4skQ7uYoL",
        "outputId": "ff226d8a-c2b6-4d40-e745-22f86e20c1cb"
      },
      "execution_count": null,
      "outputs": [
        {
          "output_type": "stream",
          "name": "stdout",
          "text": [
            "3.14\n",
            "3.1\n"
          ]
        }
      ]
    },
    {
      "cell_type": "code",
      "source": [
        "print('%s' % 3.14)  # 문자출력"
      ],
      "metadata": {
        "colab": {
          "base_uri": "https://localhost:8080/"
        },
        "id": "92qXF3cuulJm",
        "outputId": "5a5ad2b4-8f9c-4bd9-ed79-bc5f228f709f"
      },
      "execution_count": null,
      "outputs": [
        {
          "output_type": "stream",
          "name": "stdout",
          "text": [
            "3.14\n"
          ]
        }
      ]
    },
    {
      "cell_type": "code",
      "source": [
        "a = '학생'\n",
        "\n",
        "# 기본 출력 방법\n",
        "print(a, '입니다.')\n",
        "\n",
        " # f string 출력 방법    # f string 최고\n",
        "print(f'{a} 입니다.')\n",
        "\n",
        " # % 연산자 츨력 방법\n",
        "print('%s 입니다.' % a)\n",
        "\n",
        "# format() 출력 방법\n",
        "print('{} 입니다'.format(a))"
      ],
      "metadata": {
        "colab": {
          "base_uri": "https://localhost:8080/"
        },
        "id": "-eJLRdJ0utlW",
        "outputId": "b29e996b-8a21-4ab1-9319-eca2e486e3bd"
      },
      "execution_count": null,
      "outputs": [
        {
          "output_type": "stream",
          "name": "stdout",
          "text": [
            "학생 입니다.\n",
            "학생 입니다.\n",
            "학생 입니다.\n",
            "학생 입니다\n"
          ]
        }
      ]
    },
    {
      "cell_type": "code",
      "source": [
        "# format() 메서드\n",
        "\n",
        "print('My name is {}'.format('james')) "
      ],
      "metadata": {
        "colab": {
          "base_uri": "https://localhost:8080/"
        },
        "id": "AEYBldolvVzd",
        "outputId": "e35b339b-8d75-468a-b17b-6a9e589d5c0d"
      },
      "execution_count": null,
      "outputs": [
        {
          "output_type": "stream",
          "name": "stdout",
          "text": [
            "My name is james\n"
          ]
        }
      ]
    },
    {
      "cell_type": "code",
      "source": [
        "print('My name is {0}'.format('james'))"
      ],
      "metadata": {
        "colab": {
          "base_uri": "https://localhost:8080/"
        },
        "id": "OUjvz8TKwY97",
        "outputId": "5288e1cb-09a2-4eeb-e83a-b924b2e220b8"
      },
      "execution_count": 91,
      "outputs": [
        {
          "output_type": "stream",
          "name": "stdout",
          "text": [
            "My name is james\n"
          ]
        }
      ]
    },
    {
      "cell_type": "code",
      "source": [
        "print('My name is {name}'.format(name='james'))"
      ],
      "metadata": {
        "id": "62kKlWzXwvDw",
        "colab": {
          "base_uri": "https://localhost:8080/"
        },
        "outputId": "690c5535-de5a-4719-8278-25f8dc83f8fa"
      },
      "execution_count": 92,
      "outputs": [
        {
          "output_type": "stream",
          "name": "stdout",
          "text": [
            "My name is james\n"
          ]
        }
      ]
    },
    {
      "cell_type": "code",
      "source": [
        "print('My name is {}. I\\'m {} years old'.format('james',20))"
      ],
      "metadata": {
        "colab": {
          "base_uri": "https://localhost:8080/"
        },
        "id": "s6LzEc4sw7oI",
        "outputId": "4f8b4bfd-5e10-47d7-b63b-a847c1fbfbf5"
      },
      "execution_count": 93,
      "outputs": [
        {
          "output_type": "stream",
          "name": "stdout",
          "text": [
            "My name is james. I'm 20 years old\n"
          ]
        }
      ]
    },
    {
      "cell_type": "code",
      "source": [
        "print('My name is {1}. I\\'m {0} years old'.format('james',20))      #괄호안의 값을 순서 바꿀 수 있음 "
      ],
      "metadata": {
        "colab": {
          "base_uri": "https://localhost:8080/"
        },
        "id": "BAjaiQ1uxLJ6",
        "outputId": "86c36296-81c4-4a08-f713-8b2e9a84d2a8"
      },
      "execution_count": 94,
      "outputs": [
        {
          "output_type": "stream",
          "name": "stdout",
          "text": [
            "My name is 20. I'm james years old\n"
          ]
        }
      ]
    },
    {
      "cell_type": "code",
      "source": [
        "print('My name is {name}. I\\'m {age} years old.'.format(name='james', age=20))"
      ],
      "metadata": {
        "colab": {
          "base_uri": "https://localhost:8080/"
        },
        "id": "JBuWISnpxPPm",
        "outputId": "5ec3870b-6854-41b5-f2c6-868054f0558b"
      },
      "execution_count": 96,
      "outputs": [
        {
          "output_type": "stream",
          "name": "stdout",
          "text": [
            "My name is james. I'm 20 years old.\n"
          ]
        }
      ]
    },
    {
      "cell_type": "code",
      "source": [
        "# f-strings\n",
        "\n",
        "who =  'you'\n",
        "how = 'happy'\n",
        "\n",
        "print(f'{who} make me {how}')"
      ],
      "metadata": {
        "colab": {
          "base_uri": "https://localhost:8080/"
        },
        "id": "M7_QRGZCxlqi",
        "outputId": "076162f5-8c41-476d-ed69-9dae9f29edec"
      },
      "execution_count": 99,
      "outputs": [
        {
          "output_type": "stream",
          "name": "stdout",
          "text": [
            "you make me happy\n"
          ]
        }
      ]
    },
    {
      "cell_type": "code",
      "source": [
        "age = 25\n",
        "print(f'내년엔 {age+1}살이 됩니다.')"
      ],
      "metadata": {
        "colab": {
          "base_uri": "https://localhost:8080/"
        },
        "id": "Iwp3aTezyR4N",
        "outputId": "b5d6d746-217a-4149-9a33-69a3c511be8c"
      },
      "execution_count": 100,
      "outputs": [
        {
          "output_type": "stream",
          "name": "stdout",
          "text": [
            "내년엔 26살이 됩니다.\n"
          ]
        }
      ]
    },
    {
      "cell_type": "code",
      "source": [
        "# 표준입력\n",
        "\n",
        "a = input()\n",
        "print(a)"
      ],
      "metadata": {
        "colab": {
          "base_uri": "https://localhost:8080/"
        },
        "id": "DOElh4jMyjxr",
        "outputId": "cd442386-a67f-4fc1-d3e3-37132d2c1a6d"
      },
      "execution_count": 101,
      "outputs": [
        {
          "output_type": "stream",
          "name": "stdout",
          "text": [
            "asd\n",
            "asd\n"
          ]
        }
      ]
    },
    {
      "cell_type": "code",
      "source": [
        "n = input('정수를 입력하세요 : ')\n",
        "print(n)"
      ],
      "metadata": {
        "colab": {
          "base_uri": "https://localhost:8080/"
        },
        "id": "Tw55xkflzDSR",
        "outputId": "b942315f-d389-401d-dc57-a21c765d7d7d"
      },
      "execution_count": 103,
      "outputs": [
        {
          "output_type": "stream",
          "name": "stdout",
          "text": [
            "정수를 입력하세요 : 23\n",
            "23\n"
          ]
        }
      ]
    },
    {
      "cell_type": "code",
      "source": [
        "name = input('이름을 입력하세요>>>')\n",
        "age = input('나이를 입력하세요>>>')\n",
        "\n",
        "print(f'입력된 이름은 {name}입니다')\n",
        "print(f'입력된 나이는 {age}살입니다')"
      ],
      "metadata": {
        "colab": {
          "base_uri": "https://localhost:8080/"
        },
        "id": "vaf28Y0JzaF-",
        "outputId": "32ab6193-d6a1-4539-d6b5-108de7b59908"
      },
      "execution_count": 104,
      "outputs": [
        {
          "output_type": "stream",
          "name": "stdout",
          "text": [
            "이름을 입력하세요>>>이유상\n",
            "나이를 입력하세요>>>25\n",
            "입력된 이름은 이유상입니다\n",
            "입력된 나이는 25살입니다\n"
          ]
        }
      ]
    },
    {
      "cell_type": "code",
      "source": [
        "name = input('이름을 입력하세요>>>')\n",
        "age = input('나이를 입력하세요>>>')\n",
        "\n",
        "print('입력된 이름은 %s입니다.' % name)\n",
        "print('입력된 나이는 %s입니다.' % age)"
      ],
      "metadata": {
        "colab": {
          "base_uri": "https://localhost:8080/"
        },
        "id": "i59E-jnz0MQn",
        "outputId": "2d0e78fd-329c-4dd2-8f87-2486bb1b82ed"
      },
      "execution_count": 105,
      "outputs": [
        {
          "output_type": "stream",
          "name": "stdout",
          "text": [
            "이름을 입력하세요>>>eusang\n",
            "나이를 입력하세요>>>25\n",
            "입력된 이름은 eusang입니다.\n",
            "입력된 나이는 25입니다.\n"
          ]
        }
      ]
    },
    {
      "cell_type": "code",
      "source": [
        "name = input('이름을 입력하세요>>>')\n",
        "age = input('나이를 입력하세요>>>')\n",
        "\n",
        "print('입력된 이름은 ', name,'입니다', sep='')\n",
        "print('입력된 나이는 ', age,'입니다', sep='')"
      ],
      "metadata": {
        "colab": {
          "base_uri": "https://localhost:8080/"
        },
        "id": "10Y0-MYd0iTZ",
        "outputId": "f17084b4-c453-4ddf-b7d7-15f8f7b9d47f"
      },
      "execution_count": 106,
      "outputs": [
        {
          "output_type": "stream",
          "name": "stdout",
          "text": [
            "이름을 입력하세요>>>이유상\n",
            "나이를 입력하세요>>>25\n",
            "입력된 이름은 이유상입니다\n",
            "입력된 나이는 25입니다\n"
          ]
        }
      ]
    },
    {
      "cell_type": "code",
      "source": [
        "name = input('이름을 입력하세요>>>')\n",
        "age = input('나이를 입력하세요>>>')\n",
        "\n",
        "print('입력된 이름은 {}입니다'.format(name))\n",
        "print('입력된 나이는 {}입니다'.format(age))"
      ],
      "metadata": {
        "colab": {
          "base_uri": "https://localhost:8080/"
        },
        "id": "Y72qomlx1CwG",
        "outputId": "2339ecc4-0bcf-460e-f276-7c01bd7126f6"
      },
      "execution_count": 108,
      "outputs": [
        {
          "output_type": "stream",
          "name": "stdout",
          "text": [
            "이름을 입력하세요>>>이유상\n",
            "나이를 입력하세요>>>25\n",
            "입력된 이름은 이유상입니다\n",
            "입력된 나이는 25입니다\n"
          ]
        }
      ]
    },
    {
      "cell_type": "code",
      "source": [
        ""
      ],
      "metadata": {
        "id": "r9matIud1Vhr"
      },
      "execution_count": null,
      "outputs": []
    }
  ]
}