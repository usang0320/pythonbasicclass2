{
  "nbformat": 4,
  "nbformat_minor": 0,
  "metadata": {
    "colab": {
      "name": "02HW20220223이유상02.ipynb",
      "provenance": [],
      "authorship_tag": "ABX9TyPax2ga5qQ3Gg0JZLciX4A0",
      "include_colab_link": true
    },
    "kernelspec": {
      "name": "python3",
      "display_name": "Python 3"
    },
    "language_info": {
      "name": "python"
    }
  },
  "cells": [
    {
      "cell_type": "markdown",
      "metadata": {
        "id": "view-in-github",
        "colab_type": "text"
      },
      "source": [
        "<a href=\"https://colab.research.google.com/github/usang0320/pythonbasicclass2/blob/main/02HW20220223%EC%9D%B4%EC%9C%A0%EC%83%8102.ipynb\" target=\"_parent\"><img src=\"https://colab.research.google.com/assets/colab-badge.svg\" alt=\"Open In Colab\"/></a>"
      ]
    },
    {
      "cell_type": "code",
      "execution_count": null,
      "metadata": {
        "id": "wtfy_i-Ert7K"
      },
      "outputs": [],
      "source": [
        "#51\n",
        "movie_rank = ['닥터 스트레인지', '스플릿', '럭키']"
      ]
    },
    {
      "cell_type": "code",
      "source": [
        "#52\n",
        "movie_rank = ['닥터 스트레인지', '스플릿', '럭키']\n",
        "movie_rank.append('배트맨')\n",
        "print(movie_rank)"
      ],
      "metadata": {
        "colab": {
          "base_uri": "https://localhost:8080/"
        },
        "id": "5dUTNtIksDmu",
        "outputId": "7f7bac4b-bf7b-4039-bfb5-c1041632a077"
      },
      "execution_count": 4,
      "outputs": [
        {
          "output_type": "stream",
          "name": "stdout",
          "text": [
            "['닥터 스트레인지', '스플릿', '럭키', '배트맨']\n"
          ]
        }
      ]
    },
    {
      "cell_type": "code",
      "source": [
        "#53\n",
        "movie_rank.insert(1,'슈퍼맨')\n",
        "print(movie_rank)"
      ],
      "metadata": {
        "colab": {
          "base_uri": "https://localhost:8080/"
        },
        "id": "KZtnSv6msOQc",
        "outputId": "8ceda6eb-d12f-4c35-8938-de259786175c"
      },
      "execution_count": 6,
      "outputs": [
        {
          "output_type": "stream",
          "name": "stdout",
          "text": [
            "['닥터 스트레인지', '슈퍼맨', '스플릿', '럭키', '배트맨']\n"
          ]
        }
      ]
    },
    {
      "cell_type": "code",
      "source": [
        "#54\n",
        "movie_rank.pop(3)\n",
        "print(movie_rank)"
      ],
      "metadata": {
        "colab": {
          "base_uri": "https://localhost:8080/"
        },
        "id": "Rmh8gxELsmoh",
        "outputId": "f8153a6e-229c-4404-e6dc-1a0a3b47481f"
      },
      "execution_count": 9,
      "outputs": [
        {
          "output_type": "stream",
          "name": "stdout",
          "text": [
            "['닥터 스트레인지', '슈퍼맨', '스플릿', '배트맨']\n"
          ]
        }
      ]
    },
    {
      "cell_type": "code",
      "source": [
        "#55\n",
        "movie_rank = ['닥터 스트레인지', '슈퍼맨', '스플릿', '배트맨']\n",
        "movie_rank.pop()\n",
        "movie_rank.pop()\n",
        "print(movie_rank)"
      ],
      "metadata": {
        "colab": {
          "base_uri": "https://localhost:8080/"
        },
        "id": "RvsdC5LAtAXc",
        "outputId": "838566fa-b3a8-4586-fba5-ffdafcf3c33f"
      },
      "execution_count": 21,
      "outputs": [
        {
          "output_type": "stream",
          "name": "stdout",
          "text": [
            "['닥터 스트레인지', '슈퍼맨']\n"
          ]
        }
      ]
    },
    {
      "cell_type": "code",
      "source": [
        "#55-1\n",
        "movies = ['닥터 스트레인지', '슈퍼맨', '스플릿', '배트맨']\n",
        "del movies[-2:]\n",
        "print(movies)"
      ],
      "metadata": {
        "colab": {
          "base_uri": "https://localhost:8080/"
        },
        "id": "16ZBHhRVtcQA",
        "outputId": "bb02480d-5e21-4180-9182-eb06b60cfa3f"
      },
      "execution_count": 15,
      "outputs": [
        {
          "output_type": "stream",
          "name": "stdout",
          "text": [
            "['닥터 스트레인지', '슈퍼맨']\n"
          ]
        }
      ]
    },
    {
      "cell_type": "code",
      "source": [
        "#55-3\n",
        "movies1 = ['닥터 스트레인지', '슈퍼맨', '스플릿', '배트맨']\n",
        "movies1.remove('스플릿')\n",
        "movies1.remove('배트맨')\n",
        "print(movies1)"
      ],
      "metadata": {
        "colab": {
          "base_uri": "https://localhost:8080/"
        },
        "id": "fYTFu2F2uULP",
        "outputId": "0777bc30-4e22-44f5-8035-046ce2de6fd2"
      },
      "execution_count": 20,
      "outputs": [
        {
          "output_type": "stream",
          "name": "stdout",
          "text": [
            "['닥터 스트레인지', '슈퍼맨']\n"
          ]
        }
      ]
    },
    {
      "cell_type": "code",
      "source": [
        "#56\n",
        "lang1 = ['C', 'C++', 'JAVA']\n",
        "lang2 = ['python', 'Go', 'C#']\n",
        "langs = lang1 + lang2\n",
        "print(langs)"
      ],
      "metadata": {
        "colab": {
          "base_uri": "https://localhost:8080/"
        },
        "id": "TuNbABaQutBI",
        "outputId": "2e400edb-2e5d-4eef-d827-839cc4a7c86c"
      },
      "execution_count": 22,
      "outputs": [
        {
          "output_type": "stream",
          "name": "stdout",
          "text": [
            "['C', 'C++', 'JAVA', 'python', 'Go', 'C#']\n"
          ]
        }
      ]
    },
    {
      "cell_type": "code",
      "source": [
        "#57\n",
        "nums = [1, 2, 3, 4, 5, 6, 7]\n",
        "num1 = max(nums)\n",
        "num2 = min(nums)\n",
        "print(f'max: {num1}\\nmin: {num2}')"
      ],
      "metadata": {
        "colab": {
          "base_uri": "https://localhost:8080/"
        },
        "id": "FO4cGZ8_vcPW",
        "outputId": "b4e9037b-6fda-4f0b-e98d-4c2a8cbe9909"
      },
      "execution_count": 26,
      "outputs": [
        {
          "output_type": "stream",
          "name": "stdout",
          "text": [
            "max: 7\n",
            "min: 1\n"
          ]
        }
      ]
    },
    {
      "cell_type": "code",
      "source": [
        "#58\n",
        "nums = [1, 2, 3, 4, 5]\n",
        "total = sum(nums)\n",
        "print(total)"
      ],
      "metadata": {
        "colab": {
          "base_uri": "https://localhost:8080/"
        },
        "id": "86Uk6JIZvzSG",
        "outputId": "bf34fcf8-f685-4470-811c-091a1f4e58d9"
      },
      "execution_count": 27,
      "outputs": [
        {
          "output_type": "stream",
          "name": "stdout",
          "text": [
            "15\n"
          ]
        }
      ]
    },
    {
      "cell_type": "code",
      "source": [
        "#59\n",
        "cook = ['피자', '김밤', '만두', '양념치킨', '족발', '피자', '김치만두', '쫄면', '쏘세지', '라면', '팥빙수', '김치전']\n",
        "a = len(cook)\n",
        "print(a)"
      ],
      "metadata": {
        "colab": {
          "base_uri": "https://localhost:8080/"
        },
        "id": "6V_e1O6twazI",
        "outputId": "2e9e2553-0122-43e7-9f7c-05e784a077ba"
      },
      "execution_count": 28,
      "outputs": [
        {
          "output_type": "stream",
          "name": "stdout",
          "text": [
            "12\n"
          ]
        }
      ]
    },
    {
      "cell_type": "code",
      "source": [
        "#60\n",
        "nums = [1, 2, 3, 4, 5]\n",
        "total = sum(nums)\n",
        "len = len(nums)\n",
        "average = total/len\n",
        "print(average)\n"
      ],
      "metadata": {
        "colab": {
          "base_uri": "https://localhost:8080/"
        },
        "id": "V0QbjSZPw31x",
        "outputId": "f8d884e8-9a5f-4bcf-dd33-dba69aa943b2"
      },
      "execution_count": 29,
      "outputs": [
        {
          "output_type": "stream",
          "name": "stdout",
          "text": [
            "3.0\n"
          ]
        }
      ]
    },
    {
      "cell_type": "code",
      "source": [
        "#121\n",
        "data = 'a'\n",
        "# print(islower(data)) ------ 오류\n",
        "print(data.upper())    "
      ],
      "metadata": {
        "colab": {
          "base_uri": "https://localhost:8080/"
        },
        "id": "sZeuZ5o6xM4e",
        "outputId": "c50d307d-56bd-40a9-c292-744cc0200de7"
      },
      "execution_count": 34,
      "outputs": [
        {
          "output_type": "stream",
          "name": "stdout",
          "text": [
            "A\n"
          ]
        }
      ]
    },
    {
      "cell_type": "code",
      "source": [
        "#122\n",
        "score = int(input('score: '))\n",
        "if score >= 81:\n",
        "    level = 'A'\n",
        "elif score >= 61:\n",
        "    level = 'B'\n",
        "elif score >= 41:\n",
        "    level = 'C'\n",
        "elif score >= 21:\n",
        "    level = 'D'\n",
        "else:\n",
        "    level = 'E'\n",
        "\n",
        "print(f'grade is {level}')"
      ],
      "metadata": {
        "colab": {
          "base_uri": "https://localhost:8080/"
        },
        "id": "C5T2ahnmzD8-",
        "outputId": "b50a6c88-d3e8-4db2-a3ea-473c4af730f0"
      },
      "execution_count": 36,
      "outputs": [
        {
          "output_type": "stream",
          "name": "stdout",
          "text": [
            "score: 83\n",
            "grade is A\n"
          ]
        }
      ]
    },
    {
      "cell_type": "code",
      "source": [
        "#123\n",
        "price = input('입력: ')\n",
        "\n",
        "if price[-2:] == '달러':\n",
        "    a = int(price[:-3])\n",
        "    print(a*1167,'원')\n",
        "elif price[-2:] == ' 엔':\n",
        "    a = int(price[:-2])\n",
        "    print(a*1.096,'원')\n",
        "elif price[-2:] == '유로':\n",
        "    a = int(price[:-3])\n",
        "    print(a*1268,'원')\n",
        "else:\n",
        "    a = int(price[:-3])\n",
        "    print(a*171,'원')\n"
      ],
      "metadata": {
        "colab": {
          "base_uri": "https://localhost:8080/"
        },
        "id": "3rDiZuDS0bH1",
        "outputId": "f0c04c24-be16-4516-f0f3-e0e2fc44bd0c"
      },
      "execution_count": 44,
      "outputs": [
        {
          "output_type": "stream",
          "name": "stdout",
          "text": [
            "입력: 100 달러\n",
            "116700 원\n"
          ]
        }
      ]
    },
    {
      "cell_type": "code",
      "source": [
        "#124\n",
        "n1 = int(input('input number1: '))\n",
        "n2 = int(input('input number2: '))\n",
        "n3 = int(input('input number3: '))\n",
        "\n",
        "if n1 >= n2 and n1 >= n3:\n",
        "    n = n1\n",
        "elif n2 >= n3 and n2 >= n1:\n",
        "    n = n2\n",
        "else:\n",
        "    n = n3\n",
        "print(n)"
      ],
      "metadata": {
        "colab": {
          "base_uri": "https://localhost:8080/"
        },
        "id": "YQJ0qW3X2YDw",
        "outputId": "9d0359a2-cc2b-4dfd-ab8e-39aaa5034bf5"
      },
      "execution_count": 49,
      "outputs": [
        {
          "output_type": "stream",
          "name": "stdout",
          "text": [
            "input number1: 10\n",
            "input number2: 9\n",
            "input number3: 20\n",
            "20\n"
          ]
        }
      ]
    },
    {
      "cell_type": "code",
      "source": [
        "#125\n",
        "num = input('>> 휴대전화 번호 입력: ')\n",
        "l3 = num[:3]\n",
        "\n",
        "if l3 == '011':\n",
        "    t = 'SKT'\n",
        "elif l3 == '016':\n",
        "    t = 'KT'\n",
        "elif l3 == '019':\n",
        "    t = 'LGU'\n",
        "else:\n",
        "    t = '알수없음'\n",
        "\n",
        "print(f'당신은 {t} 사용자입니다.')\n"
      ],
      "metadata": {
        "colab": {
          "base_uri": "https://localhost:8080/"
        },
        "id": "iuQktABK5Khu",
        "outputId": "68fac655-df5a-42f1-e574-d0a51cdf5780"
      },
      "execution_count": 51,
      "outputs": [
        {
          "output_type": "stream",
          "name": "stdout",
          "text": [
            ">> 휴대전화 번호 입력: 011-345-1922\n",
            "당신은 SKT 사용자입니다.\n"
          ]
        }
      ]
    },
    {
      "cell_type": "code",
      "source": [
        "#126\n",
        "address = input('>> 우편번호: ')\n",
        "\n",
        "if address[:3] in ['010', '011', '012']:\n",
        "    a = '강북구'\n",
        "elif address[:3] in ['013', '014', '015']:\n",
        "    a = '도봉구'\n",
        "else:\n",
        "    a = '노원구'\n",
        "\n",
        "print(a)"
      ],
      "metadata": {
        "colab": {
          "base_uri": "https://localhost:8080/"
        },
        "id": "IU2DXuF67d4N",
        "outputId": "12dc7207-8562-41ea-ac23-d354fa2b6194"
      },
      "execution_count": 52,
      "outputs": [
        {
          "output_type": "stream",
          "name": "stdout",
          "text": [
            ">> 우편번호: 01400\n",
            "도봉구\n"
          ]
        }
      ]
    },
    {
      "cell_type": "code",
      "source": [
        "#127\n",
        "no = input('>> 주민등록번호: ')\n",
        "\n",
        "if no[-7] in ['1', '3']:\n",
        "    s = '남자'\n",
        "else:\n",
        "    s = '여자'\n",
        "\n",
        "print(s)"
      ],
      "metadata": {
        "colab": {
          "base_uri": "https://localhost:8080/"
        },
        "id": "2F6G___J85YN",
        "outputId": "89515177-df41-468f-d8d6-72a502abae65"
      },
      "execution_count": 54,
      "outputs": [
        {
          "output_type": "stream",
          "name": "stdout",
          "text": [
            ">> 주민등록번호: 821010-1635210\n",
            "남자\n"
          ]
        }
      ]
    },
    {
      "cell_type": "code",
      "source": [
        "#128\n",
        "no = input('>> 주민등록번호: ')\n",
        "\n",
        "if int(no[-6:-4])-8 <= 0:\n",
        "    a = '서울 입니다'\n",
        "else:\n",
        "    a =  '서울이 아닙니다'\n",
        "\n",
        "print(a)"
      ],
      "metadata": {
        "colab": {
          "base_uri": "https://localhost:8080/"
        },
        "id": "jNiQFYkS9fc8",
        "outputId": "b5cfae89-8fa1-496f-d4f4-0aa743e9ad18"
      },
      "execution_count": 57,
      "outputs": [
        {
          "output_type": "stream",
          "name": "stdout",
          "text": [
            ">> 주민등록번호: 821010-1635210\n",
            "서울이 아닙니다\n"
          ]
        }
      ]
    },
    {
      "cell_type": "code",
      "source": [
        "no = input('>> 주민등록번호: ')\n",
        "\n",
        "if int(no[-6:-4])-8 <= 0:\n",
        "    a = '서울 입니다'\n",
        "else:\n",
        "    a =  '서울이 아닙니다'\n",
        "\n",
        "print(a)"
      ],
      "metadata": {
        "colab": {
          "base_uri": "https://localhost:8080/"
        },
        "id": "CMat5iCm-fiY",
        "outputId": "3407063a-ffbf-4a45-b91b-28eac92a2a75"
      },
      "execution_count": 58,
      "outputs": [
        {
          "output_type": "stream",
          "name": "stdout",
          "text": [
            ">> 주민등록번호: 861010-1015210\n",
            "서울 입니다\n"
          ]
        }
      ]
    },
    {
      "cell_type": "code",
      "source": [
        "#129\n",
        "id = input('>> 주민등록번호: ')\n",
        "\n",
        "a = (int(id[0])*2 + int(id[1])*3 + int(id[2])*4 + int(id[3])*5 + int(id[4])*6 + int(id[5])*7 + int(id[7])*8 + int(id[8])*9 + int(id[9])*2 + int(id[10])*3 + int(id[11])*4 + int(id[12])*5)%11\n",
        "if 11-a == int(id[-1]):\n",
        "    print('유효한 주민등록번호입니다')\n",
        "else:\n",
        "    print('유효하지 않은 주민등록번호입니다')"
      ],
      "metadata": {
        "colab": {
          "base_uri": "https://localhost:8080/"
        },
        "id": "XwfUy55C_KUM",
        "outputId": "df65df71-08a9-466e-d5f6-5a0a139c4bc4"
      },
      "execution_count": 65,
      "outputs": [
        {
          "output_type": "stream",
          "name": "stdout",
          "text": [
            ">> 주민등록번호: 821010-1635210\n",
            "유효하지 않은 주민등록번호입니다\n"
          ]
        }
      ]
    },
    {
      "cell_type": "code",
      "source": [
        "#130\n",
        "import requests\n",
        "btc = requests.get(\"https://api.bithumb.com/public/ticker/\").json()['data']\n",
        "\n",
        "gap = int(btc['max_price'])-int(btc['min_price'])\n",
        "if int(btc['opening_price'])-gap > int(btc['max_price']):\n",
        "    print('상승장')\n",
        "else:\n",
        "    print('하락장')"
      ],
      "metadata": {
        "colab": {
          "base_uri": "https://localhost:8080/"
        },
        "id": "qx3HjI2PBq4Z",
        "outputId": "960ee9cc-74ea-425f-ae73-de7b90bc355f"
      },
      "execution_count": 69,
      "outputs": [
        {
          "output_type": "stream",
          "name": "stdout",
          "text": [
            "하락장\n"
          ]
        }
      ]
    },
    {
      "cell_type": "code",
      "source": [
        ""
      ],
      "metadata": {
        "id": "i2ts7NyqEzgC"
      },
      "execution_count": null,
      "outputs": []
    }
  ]
}