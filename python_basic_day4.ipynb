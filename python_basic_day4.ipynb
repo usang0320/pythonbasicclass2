{
  "nbformat": 4,
  "nbformat_minor": 0,
  "metadata": {
    "colab": {
      "name": "python basic day4.ipynb",
      "provenance": [],
      "authorship_tag": "ABX9TyNJxP0PJ5FxwdV0v/SvglKs",
      "include_colab_link": true
    },
    "kernelspec": {
      "name": "python3",
      "display_name": "Python 3"
    },
    "language_info": {
      "name": "python"
    }
  },
  "cells": [
    {
      "cell_type": "markdown",
      "metadata": {
        "id": "view-in-github",
        "colab_type": "text"
      },
      "source": [
        "<a href=\"https://colab.research.google.com/github/usang0320/pythonbasicclass2/blob/main/python_basic_day4.ipynb\" target=\"_parent\"><img src=\"https://colab.research.google.com/assets/colab-badge.svg\" alt=\"Open In Colab\"/></a>"
      ]
    },
    {
      "cell_type": "code",
      "execution_count": 1,
      "metadata": {
        "id": "nTdcYNIasu8f"
      },
      "outputs": [],
      "source": [
        "# input 을 통해 입력된 모든 데이터는 전부 문자로 받는다.\n",
        "# 따라서 숫자로 입력을 받기 위해서는 casting 을 하여 숫자로 바꾼다."
      ]
    },
    {
      "cell_type": "code",
      "source": [
        "# input() 함수를 사용할 때 주의할 점\n",
        "# input()은 모든 입력을 str(문자열)로 저장한다는 점이다.\n",
        "# 따라서 숫자로 입력해도 문자로 받아들인다.\n",
        "\n",
        "n = input('정수를 입력하세요 >>>')\n",
        "print(type(n))"
      ],
      "metadata": {
        "colab": {
          "base_uri": "https://localhost:8080/"
        },
        "id": "yHlojOklySBD",
        "outputId": "b5138168-dd2e-4955-d487-a5aabfc1de02"
      },
      "execution_count": 2,
      "outputs": [
        {
          "output_type": "stream",
          "name": "stdout",
          "text": [
            "정수를 입력하세요 >>>12\n",
            "<class 'str'>\n"
          ]
        }
      ]
    },
    {
      "cell_type": "code",
      "source": [
        "n = int(input('정수를 입력하세요 >>>')) # 형변환이 필요하다. casting\n",
        "print(type(n))"
      ],
      "metadata": {
        "colab": {
          "base_uri": "https://localhost:8080/"
        },
        "id": "IoZpxUS7z90K",
        "outputId": "78447e2d-d95a-41d3-d99d-06bdb63377a8"
      },
      "execution_count": 3,
      "outputs": [
        {
          "output_type": "stream",
          "name": "stdout",
          "text": [
            "정수를 입력하세요 >>>12\n",
            "<class 'int'>\n"
          ]
        }
      ]
    },
    {
      "cell_type": "code",
      "source": [
        "price =  50000\n",
        "n = int(input('할부 개월 입력 >>> '))\n",
        "print('매달 내는 돈은 {}입니다.'.format(price/n))"
      ],
      "metadata": {
        "colab": {
          "base_uri": "https://localhost:8080/"
        },
        "id": "qre652QY0Lpk",
        "outputId": "c356b009-758b-4f4d-bdcf-798c57b9e3aa"
      },
      "execution_count": 4,
      "outputs": [
        {
          "output_type": "stream",
          "name": "stdout",
          "text": [
            "할부 개월 입력 >>> 10\n",
            "매달 내는 돈은 5000.0입니다.\n"
          ]
        }
      ]
    },
    {
      "cell_type": "code",
      "source": [
        "# 1\n",
        "f1 = float(input('첫 번째 실수를 입력하세요 >>> '))\n",
        "f2 = float(input('두 번째 실수를 입력하세요 >>> '))\n",
        "print(f'{f1}와 {f2}의 합은 {f1+f2}입니다')"
      ],
      "metadata": {
        "colab": {
          "base_uri": "https://localhost:8080/"
        },
        "id": "C6ACfncJ0l12",
        "outputId": "48508671-c9ee-4b85-8715-129e73b371ed"
      },
      "execution_count": 5,
      "outputs": [
        {
          "output_type": "stream",
          "name": "stdout",
          "text": [
            "첫 번째 실수를 입력하세요 >>> 1.23\n",
            "두 번째 실수를 입력하세요 >>> 2.34\n",
            "1.23와 2.34의 합은 3.57입니다\n"
          ]
        }
      ]
    },
    {
      "cell_type": "code",
      "source": [
        "# 2\n",
        "m = int(input('1~12 사이의 월을 입력하세요 >>> '))\n",
        "if m in [1,3,5,7,8,10,12]:\n",
        "    d = 31\n",
        "elif m == 2:\n",
        "    d = 28\n",
        "else:\n",
        "    d = 30\n",
        "\n",
        "print(f'{m}월은 {d}일까지 있습니다')"
      ],
      "metadata": {
        "colab": {
          "base_uri": "https://localhost:8080/"
        },
        "id": "z6NwdXyu1fBS",
        "outputId": "a30c41dc-f123-4e0d-b205-cbeb94bd7393"
      },
      "execution_count": 7,
      "outputs": [
        {
          "output_type": "stream",
          "name": "stdout",
          "text": [
            "1~12 사이의 월을 입력하세요 >>> 2\n",
            "2월은 28일까지 있습니다\n"
          ]
        }
      ]
    },
    {
      "cell_type": "code",
      "source": [
        "month = int(input('1~12월 사이의 월을 입력하세요>>> '))\n",
        "day = [31,28,31,30,31,30,31,31,30,31,30,31]\n",
        "print(f'{month}월은 {day[month-1]}일 까지 있습니다.')"
      ],
      "metadata": {
        "colab": {
          "base_uri": "https://localhost:8080/"
        },
        "id": "IYG8I6IZ237E",
        "outputId": "14232314-2f9d-405e-b697-2ca03a44bc31"
      },
      "execution_count": 8,
      "outputs": [
        {
          "output_type": "stream",
          "name": "stdout",
          "text": [
            "1~12월 사이의 월을 입력하세요>>> 3\n",
            "3월은 31일 까지 있습니다.\n"
          ]
        }
      ]
    },
    {
      "cell_type": "code",
      "source": [
        "# 3\n",
        "english_dict = {\n",
        "    'flower': '꽃',\n",
        "    'fly': '날다',\n",
        "    'floor': '바닥'\n",
        "}\n",
        "\n",
        "e = input('영어단어를 입력하세요 >>> ')\n",
        "print(f'{e}:{english_dict[e]}')"
      ],
      "metadata": {
        "colab": {
          "base_uri": "https://localhost:8080/"
        },
        "id": "ulyqi2In3AW2",
        "outputId": "516bf595-8dbd-4c9d-bcb2-8bd375cc3855"
      },
      "execution_count": 9,
      "outputs": [
        {
          "output_type": "stream",
          "name": "stdout",
          "text": [
            "영어단어를 입력하세요 >>> flower\n",
            "flower:꽃\n"
          ]
        }
      ]
    },
    {
      "cell_type": "code",
      "source": [
        "# % 나머지 연산자 아주 중요!!"
      ],
      "metadata": {
        "id": "_pbuQDS24rF4"
      },
      "execution_count": 10,
      "outputs": []
    },
    {
      "cell_type": "code",
      "source": [
        "# 복합 대입 연산자\n",
        "a = 1\n",
        "print(a)\n",
        "# a = a + 1   # 자기 자신에 1을 증가\n",
        "a += 1        # 자기 자신에 1을 증가\n",
        "print(a)\n",
        "a += 1\n",
        "print(a)\n",
        "a = a -1      # 자기 자신에 1을 감소\n",
        "print(a)        \n",
        "a -= 1        # 자기 자신에 1을 감소\n",
        "print(a)"
      ],
      "metadata": {
        "colab": {
          "base_uri": "https://localhost:8080/"
        },
        "id": "7gggJ3nq-Bis",
        "outputId": "66198d6e-1804-4684-875d-0239f47be5e2"
      },
      "execution_count": 14,
      "outputs": [
        {
          "output_type": "stream",
          "name": "stdout",
          "text": [
            "1\n",
            "2\n",
            "3\n",
            "2\n",
            "1\n"
          ]
        }
      ]
    },
    {
      "cell_type": "code",
      "source": [
        "a, b = 10, 20\n",
        "print('a = %d, b = %d' % (a, b))\n",
        "\n",
        "a, b = b, a\n",
        "print('a = %d, b = %d' % (a, b))"
      ],
      "metadata": {
        "colab": {
          "base_uri": "https://localhost:8080/"
        },
        "id": "uJbh6AD5-PEW",
        "outputId": "3a589a11-1426-4a07-ea6e-9a2882829f0a"
      },
      "execution_count": 15,
      "outputs": [
        {
          "output_type": "stream",
          "name": "stdout",
          "text": [
            "a = 10, b = 20\n",
            "a = 20, b = 10\n"
          ]
        }
      ]
    },
    {
      "cell_type": "code",
      "source": [
        "a, b = 10, 20\n",
        "print(f'a = {a}, b = {b}')"
      ],
      "metadata": {
        "colab": {
          "base_uri": "https://localhost:8080/"
        },
        "id": "2mnPMwh3ABAO",
        "outputId": "7075910c-dd77-4d13-a7e3-c8d67827150a"
      },
      "execution_count": 17,
      "outputs": [
        {
          "output_type": "stream",
          "name": "stdout",
          "text": [
            "a = 10, b = 20\n"
          ]
        }
      ]
    },
    {
      "cell_type": "code",
      "source": [
        "# 시퀀스 연산자 : 순서가 있는 구조 시퀀스(리스트, 튜플, 문자열, range)에서 사용된다.\n",
        "\n",
        "[1,3,5] + [2,4,6]"
      ],
      "metadata": {
        "colab": {
          "base_uri": "https://localhost:8080/"
        },
        "id": "1HTYUgjvA0lf",
        "outputId": "3a50d266-4298-4008-85e7-0af570761faa"
      },
      "execution_count": 18,
      "outputs": [
        {
          "output_type": "execute_result",
          "data": {
            "text/plain": [
              "[1, 3, 5, 2, 4, 6]"
            ]
          },
          "metadata": {},
          "execution_count": 18
        }
      ]
    },
    {
      "cell_type": "code",
      "source": [
        "'hello' + ' ' + 'python'"
      ],
      "metadata": {
        "colab": {
          "base_uri": "https://localhost:8080/",
          "height": 35
        },
        "id": "Z3As3JufB5Us",
        "outputId": "81d6461f-58e3-4190-ed0a-fb4dd86b0fb2"
      },
      "execution_count": 20,
      "outputs": [
        {
          "output_type": "execute_result",
          "data": {
            "application/vnd.google.colaboratory.intrinsic+json": {
              "type": "string"
            },
            "text/plain": [
              "'hello python'"
            ]
          },
          "metadata": {},
          "execution_count": 20
        }
      ]
    },
    {
      "cell_type": "code",
      "source": [
        "[1,3,5] * 2"
      ],
      "metadata": {
        "colab": {
          "base_uri": "https://localhost:8080/"
        },
        "id": "Jyx--nphCCvA",
        "outputId": "7ab23212-4b8b-4f29-9b56-cc30c1898472"
      },
      "execution_count": 22,
      "outputs": [
        {
          "output_type": "execute_result",
          "data": {
            "text/plain": [
              "[1, 3, 5, 1, 3, 5]"
            ]
          },
          "metadata": {},
          "execution_count": 22
        }
      ]
    },
    {
      "cell_type": "code",
      "source": [
        "'-' * 20"
      ],
      "metadata": {
        "colab": {
          "base_uri": "https://localhost:8080/",
          "height": 35
        },
        "id": "q8WryZADCTZq",
        "outputId": "c578e860-4554-4957-c05b-9fcedd43e659"
      },
      "execution_count": 23,
      "outputs": [
        {
          "output_type": "execute_result",
          "data": {
            "application/vnd.google.colaboratory.intrinsic+json": {
              "type": "string"
            },
            "text/plain": [
              "'--------------------'"
            ]
          },
          "metadata": {},
          "execution_count": 23
        }
      ]
    },
    {
      "cell_type": "code",
      "source": [
        "# 멤버십 연산자\n",
        "5 in [1,2,3,4,5]"
      ],
      "metadata": {
        "colab": {
          "base_uri": "https://localhost:8080/"
        },
        "id": "ucPkm6dQCX1j",
        "outputId": "9f0c7fd8-43a3-4b4d-ab66-108c35c10564"
      },
      "execution_count": 24,
      "outputs": [
        {
          "output_type": "execute_result",
          "data": {
            "text/plain": [
              "True"
            ]
          },
          "metadata": {},
          "execution_count": 24
        }
      ]
    },
    {
      "cell_type": "code",
      "source": [
        "5 not in [1,2,3,4,5]"
      ],
      "metadata": {
        "colab": {
          "base_uri": "https://localhost:8080/"
        },
        "id": "G34Tq0e0C-6U",
        "outputId": "687684f5-b13f-4f47-c777-6d6053fb9938"
      },
      "execution_count": 25,
      "outputs": [
        {
          "output_type": "execute_result",
          "data": {
            "text/plain": [
              "False"
            ]
          },
          "metadata": {},
          "execution_count": 25
        }
      ]
    },
    {
      "cell_type": "code",
      "source": [
        "'a' in 'apple'"
      ],
      "metadata": {
        "colab": {
          "base_uri": "https://localhost:8080/"
        },
        "id": "ZX6tqfFgDHZL",
        "outputId": "bd310076-5ecb-4d99-a546-e6a34ffef969"
      },
      "execution_count": 26,
      "outputs": [
        {
          "output_type": "execute_result",
          "data": {
            "text/plain": [
              "True"
            ]
          },
          "metadata": {},
          "execution_count": 26
        }
      ]
    },
    {
      "cell_type": "code",
      "source": [
        "'a' in {'a': 'apple', 'b': 'banana'}"
      ],
      "metadata": {
        "colab": {
          "base_uri": "https://localhost:8080/"
        },
        "id": "IqBvykF_DPC-",
        "outputId": "45d963c2-8309-4d0c-b635-123b10c6934b"
      },
      "execution_count": 27,
      "outputs": [
        {
          "output_type": "execute_result",
          "data": {
            "text/plain": [
              "True"
            ]
          },
          "metadata": {},
          "execution_count": 27
        }
      ]
    },
    {
      "cell_type": "code",
      "source": [
        "# 85p 1번\n",
        "\n",
        "n = input('10~99 사이의 정수를 입력하세요 >>> ')\n",
        "a = n[0]\n",
        "b = n[1]\n",
        "print(f'십의 자리: {a}\\n일의 자리: {b}')"
      ],
      "metadata": {
        "colab": {
          "base_uri": "https://localhost:8080/"
        },
        "id": "64Z5uKLFDgZW",
        "outputId": "24762ee2-d08e-44de-fdba-225d2f4ca49f"
      },
      "execution_count": 30,
      "outputs": [
        {
          "output_type": "stream",
          "name": "stdout",
          "text": [
            "10~99 사이의 정수를 입력하세요 >>> 78\n",
            "십의 자리: 7\n",
            "일의 자리: 8\n"
          ]
        }
      ]
    },
    {
      "cell_type": "code",
      "source": [
        "n = int(input('10~99 사이의 정수를 입력하세요 >>> '))\n",
        "a = n//10\n",
        "b = n%10\n",
        "print(f'십의 자리: {a}\\n일의 자리: {b}')"
      ],
      "metadata": {
        "colab": {
          "base_uri": "https://localhost:8080/"
        },
        "id": "SEvgMY3aEemx",
        "outputId": "3579f8c7-b8e6-4791-e04b-90da4d8b8327"
      },
      "execution_count": 31,
      "outputs": [
        {
          "output_type": "stream",
          "name": "stdout",
          "text": [
            "10~99 사이의 정수를 입력하세요 >>> 45\n",
            "십의 자리: 4\n",
            "일의 자리: 5\n"
          ]
        }
      ]
    },
    {
      "cell_type": "code",
      "source": [
        "# 2\n",
        "c = int(input('초를 입력하세요 >>> '))\n",
        "hour = c//3600          #시\n",
        "min = c%3600//60        #분\n",
        "sec = c%3600%60         #초   (=c%60)\n",
        "print(f'변환결과는 {hour}시간 {min}분 {sec}초 입니다.')"
      ],
      "metadata": {
        "colab": {
          "base_uri": "https://localhost:8080/"
        },
        "id": "8vBNZLDYE5zN",
        "outputId": "4fa3179e-dc60-47d8-80d9-668260feb73a"
      },
      "execution_count": 44,
      "outputs": [
        {
          "output_type": "stream",
          "name": "stdout",
          "text": [
            "초를 입력하세요 >>> 3690\n",
            "변환결과는 1시간 1분 30초 입니다.\n"
          ]
        }
      ]
    },
    {
      "cell_type": "code",
      "source": [
        "# 1초 60초=1분  60분=1시간 3600초=1시간"
      ],
      "metadata": {
        "id": "w0oYx3oUGbss"
      },
      "execution_count": 37,
      "outputs": []
    },
    {
      "cell_type": "code",
      "source": [
        "# 3\n",
        "num = input('4자리 사원번호를 입력하세요 >>> ')\n",
        "if int(num[-1]) >=5:\n",
        "    t = '오전'\n",
        "else:\n",
        "    t = '오후'\n",
        "print(f'근무시간은 {t}입니다')"
      ],
      "metadata": {
        "colab": {
          "base_uri": "https://localhost:8080/"
        },
        "id": "-aSTFqUQIA1R",
        "outputId": "38f50c21-d0bf-438f-9a71-ae3ce9605044"
      },
      "execution_count": 45,
      "outputs": [
        {
          "output_type": "stream",
          "name": "stdout",
          "text": [
            "4자리 사원번호를 입력하세요 >>> 1255\n",
            "근무시간은 오전입니다\n"
          ]
        }
      ]
    },
    {
      "cell_type": "code",
      "source": [
        "num = int(input('4자리 사원번호를 입력하세요 >>> '))\n",
        "no_1 = num % 10\n",
        "if no_1 >= 5:\n",
        "    print('근무시간은 오전입니다.')\n",
        "else:\n",
        "    print('근무시간은 오후입니다.')"
      ],
      "metadata": {
        "colab": {
          "base_uri": "https://localhost:8080/"
        },
        "id": "h21JHXwkMP3u",
        "outputId": "8327e410-0410-44b8-9477-04b9ab9d8225"
      },
      "execution_count": 46,
      "outputs": [
        {
          "output_type": "stream",
          "name": "stdout",
          "text": [
            "4자리 사원번호를 입력하세요 >>> 6522\n",
            "근무시간은 오후입니다.\n"
          ]
        }
      ]
    },
    {
      "cell_type": "code",
      "source": [
        "# if 조건문\n",
        "# 조건문은 특정한 조건을 만족하는지의 여부에 따라 실행되는 코드가 달라져야 할 때 사용\n",
        "\n",
        "a = 5\n",
        "if a > 0:\n",
        "    print('양수')"
      ],
      "metadata": {
        "colab": {
          "base_uri": "https://localhost:8080/"
        },
        "id": "oMR9Q69FNZZW",
        "outputId": "4012653a-38ec-4b9d-ea81-54d27fd67e75"
      },
      "execution_count": 49,
      "outputs": [
        {
          "output_type": "stream",
          "name": "stdout",
          "text": [
            "양수\n"
          ]
        }
      ]
    },
    {
      "cell_type": "code",
      "source": [
        ""
      ],
      "metadata": {
        "id": "_JNt-BpiPoBD"
      },
      "execution_count": null,
      "outputs": []
    }
  ]
}