{
  "nbformat": 4,
  "nbformat_minor": 0,
  "metadata": {
    "colab": {
      "name": "note_3.ipynb",
      "provenance": [],
      "authorship_tag": "ABX9TyN63F6XaW9exUiQwluG0RpB",
      "include_colab_link": true
    },
    "kernelspec": {
      "name": "python3",
      "display_name": "Python 3"
    },
    "language_info": {
      "name": "python"
    }
  },
  "cells": [
    {
      "cell_type": "markdown",
      "metadata": {
        "id": "view-in-github",
        "colab_type": "text"
      },
      "source": [
        "<a href=\"https://colab.research.google.com/github/usang0320/pythonbasicclass2/blob/main/note_3.ipynb\" target=\"_parent\"><img src=\"https://colab.research.google.com/assets/colab-badge.svg\" alt=\"Open In Colab\"/></a>"
      ]
    },
    {
      "cell_type": "code",
      "execution_count": 2,
      "metadata": {
        "colab": {
          "base_uri": "https://localhost:8080/"
        },
        "id": "WjEOxX7b7GBa",
        "outputId": "8fe76cf6-ca9f-4c03-b924-99b3a0c87a67"
      },
      "outputs": [
        {
          "output_type": "stream",
          "name": "stdout",
          "text": [
            "20\n",
            "20\n"
          ]
        }
      ],
      "source": [
        "n = input('')\n",
        "print(n)"
      ]
    },
    {
      "cell_type": "code",
      "source": [
        "n = input('정수를 입력하세요:')\n",
        "print(n)"
      ],
      "metadata": {
        "colab": {
          "base_uri": "https://localhost:8080/"
        },
        "id": "K__MnPcI7QhZ",
        "outputId": "7e20e593-374d-4a3b-b00a-e58bb0177f49"
      },
      "execution_count": 3,
      "outputs": [
        {
          "output_type": "stream",
          "name": "stdout",
          "text": [
            "정수를 입력하세요:20\n",
            "20\n"
          ]
        }
      ]
    },
    {
      "cell_type": "code",
      "source": [
        "n = int(input('정수를 입력하세요 : '))\n",
        "print(n)"
      ],
      "metadata": {
        "colab": {
          "base_uri": "https://localhost:8080/"
        },
        "id": "Og2Il9-G7mvS",
        "outputId": "75e6d486-9733-48fb-d48c-6651978f41b9"
      },
      "execution_count": 4,
      "outputs": [
        {
          "output_type": "stream",
          "name": "stdout",
          "text": [
            "정수를 입력하세요 : 20\n",
            "20\n"
          ]
        }
      ]
    },
    {
      "cell_type": "code",
      "source": [
        "type(n)"
      ],
      "metadata": {
        "colab": {
          "base_uri": "https://localhost:8080/"
        },
        "id": "ChTL3kh078Ic",
        "outputId": "c53cb40f-09dc-4aa1-fca0-fad37b280a05"
      },
      "execution_count": 5,
      "outputs": [
        {
          "output_type": "execute_result",
          "data": {
            "text/plain": [
              "int"
            ]
          },
          "metadata": {},
          "execution_count": 5
        }
      ]
    },
    {
      "cell_type": "code",
      "source": [
        "price = 50000\n",
        "n = int(input('할부 개월 입력 >>> '))\n",
        "print(f'매달 내는 돈은 {price/n}원 입니다')  # 정수/정수 일 때 왜 결과가 실수인지?"
      ],
      "metadata": {
        "colab": {
          "base_uri": "https://localhost:8080/"
        },
        "id": "_9totnLW7-S9",
        "outputId": "95d33ddd-0e46-47e9-c4ae-d7b7f7b7d742"
      },
      "execution_count": 7,
      "outputs": [
        {
          "output_type": "stream",
          "name": "stdout",
          "text": [
            "할부 개월 입력 >>> 5\n",
            "매달 내는 돈은 10000.0원 입니다\n"
          ]
        }
      ]
    },
    {
      "cell_type": "code",
      "source": [
        "type(n)"
      ],
      "metadata": {
        "colab": {
          "base_uri": "https://localhost:8080/"
        },
        "id": "m5teH8_x8Xuo",
        "outputId": "94e73ed7-a390-48f0-92fc-5f0b14408a0c"
      },
      "execution_count": 10,
      "outputs": [
        {
          "output_type": "execute_result",
          "data": {
            "text/plain": [
              "int"
            ]
          },
          "metadata": {},
          "execution_count": 10
        }
      ]
    },
    {
      "cell_type": "code",
      "source": [
        "50000/5"
      ],
      "metadata": {
        "colab": {
          "base_uri": "https://localhost:8080/"
        },
        "id": "TWdLDjC18oH7",
        "outputId": "1b061705-747d-4d4a-e30e-c2b734c6b97c"
      },
      "execution_count": 11,
      "outputs": [
        {
          "output_type": "execute_result",
          "data": {
            "text/plain": [
              "10000.0"
            ]
          },
          "metadata": {},
          "execution_count": 11
        }
      ]
    },
    {
      "cell_type": "code",
      "source": [
        "# 1\n",
        "n1 = float(input('첫 번째 실수를 입력하세요>>> '))\n",
        "n2 = float(input('두 번째 실수를 입력하세요>>> '))\n",
        "print(f'{n1}와 {n2}의 합은 {n1+n2}입니다.')"
      ],
      "metadata": {
        "colab": {
          "base_uri": "https://localhost:8080/"
        },
        "id": "8Mdi19A68w2j",
        "outputId": "96996d6f-feb9-4b3e-9731-3e05e13e4d8e"
      },
      "execution_count": 12,
      "outputs": [
        {
          "output_type": "stream",
          "name": "stdout",
          "text": [
            "첫 번째 실수를 입력하세요>>> 1.23\n",
            "두 번째 실수를 입력하세요>>> 2.34\n",
            "1.23와 2.34의 합은 3.57입니다.\n"
          ]
        }
      ]
    },
    {
      "cell_type": "code",
      "source": [
        "# 2\n",
        "month = int(input('1~12 사이의 월을 입력하세요>>> '))\n",
        "if month in (1, 3, 5, 7, 8, 10, 12):\n",
        "    day = 31\n",
        "elif month == 2:\n",
        "    day = 28\n",
        "else:\n",
        "    day = 30\n",
        "\n",
        "print(f'{month}월은 {day}일 까지있습니다. ')"
      ],
      "metadata": {
        "colab": {
          "base_uri": "https://localhost:8080/"
        },
        "id": "qb_1gf0a9ly_",
        "outputId": "2c50294d-6644-40f1-ca2b-9eca6d512c28"
      },
      "execution_count": 14,
      "outputs": [
        {
          "output_type": "stream",
          "name": "stdout",
          "text": [
            "1~12 사이의 월을 입력하세요>>> 7\n",
            "7월은 31일 까지있습니다. \n"
          ]
        }
      ]
    },
    {
      "cell_type": "code",
      "source": [
        "# 2 다른방법\n",
        "# 리스트 이용\n",
        "month = int(input('1~12월 사이의 월을 입력하세요>>> '))\n",
        "day = [31,28,31,30,31,30,31,31,30,31,30,31]\n",
        "print(f'{month}월은 {day[month-1]}일 까지 있습니다.')\n"
      ],
      "metadata": {
        "colab": {
          "base_uri": "https://localhost:8080/"
        },
        "id": "NYiFTLkT-078",
        "outputId": "f1885479-264f-4b00-9428-d83dc44c836f"
      },
      "execution_count": 15,
      "outputs": [
        {
          "output_type": "stream",
          "name": "stdout",
          "text": [
            "1~12월 사이의 월을 입력하세요>>> 8\n",
            "8월은 31일 까지 있습니다.\n"
          ]
        }
      ]
    },
    {
      "cell_type": "code",
      "source": [
        "# 3\n",
        "english = {\n",
        "    'flower': '꽃',\n",
        "    'fly': '날다',\n",
        "    'floor': '바닥'\n",
        "}\n",
        "\n",
        "a = input('영어 단어를 입력하세요>>> ')\n",
        "print(f'{a}: {english[a]}')"
      ],
      "metadata": {
        "colab": {
          "base_uri": "https://localhost:8080/"
        },
        "id": "CRuxvAxuABtw",
        "outputId": "8e8c066e-7d06-4d24-af11-4a1404828cbe"
      },
      "execution_count": 17,
      "outputs": [
        {
          "output_type": "stream",
          "name": "stdout",
          "text": [
            "영어 단어를 입력하세요>>> flower\n",
            "flower: 꽃\n"
          ]
        }
      ]
    },
    {
      "cell_type": "code",
      "source": [
        "# 4\n",
        "a = input('희망하는 수학여행지를 입력하세요 >>> ')\n",
        "b = input('희망하는 수학여행지를 입력하세요 >>> ')\n",
        "c = input('희망하는 수학여행지를 입력하세요 >>> ')\n",
        "d = {a,b,c}\n",
        "print(f'조사된 수학여행지는 {d}입니다.')\n",
        "print(f'조사된 수학여행지는 {{a,b,c}}입니다.')   #??????????"
      ],
      "metadata": {
        "colab": {
          "base_uri": "https://localhost:8080/"
        },
        "id": "fuiOc2L_A6At",
        "outputId": "8da619e8-6ed0-4cf7-aa9f-428df0fb3a7e"
      },
      "execution_count": 20,
      "outputs": [
        {
          "output_type": "stream",
          "name": "stdout",
          "text": [
            "희망하는 수학여행지를 입력하세요 >>> 제주\n",
            "희망하는 수학여행지를 입력하세요 >>> 제주\n",
            "희망하는 수학여행지를 입력하세요 >>> 민속촌\n",
            "조사된 수학여행지는 {'제주', '민속촌'}입니다.\n",
            "조사된 수학여행지는 {a,b,c}입니다.\n"
          ]
        }
      ]
    },
    {
      "cell_type": "code",
      "source": [
        "type(d)"
      ],
      "metadata": {
        "colab": {
          "base_uri": "https://localhost:8080/"
        },
        "id": "t0rqYkfCDQRg",
        "outputId": "2b648932-c54b-45dd-c13a-ef2dc04d1be1"
      },
      "execution_count": 27,
      "outputs": [
        {
          "output_type": "execute_result",
          "data": {
            "text/plain": [
              "set"
            ]
          },
          "metadata": {},
          "execution_count": 27
        }
      ]
    },
    {
      "cell_type": "code",
      "source": [
        ""
      ],
      "metadata": {
        "id": "wGFP6k7HEBjh"
      },
      "execution_count": null,
      "outputs": []
    }
  ]
}