{
  "nbformat": 4,
  "nbformat_minor": 0,
  "metadata": {
    "colab": {
      "name": "python basic day10.ipynb",
      "provenance": [],
      "authorship_tag": "ABX9TyNtOme0cVYQjLICjdeAJE4F",
      "include_colab_link": true
    },
    "kernelspec": {
      "name": "python3",
      "display_name": "Python 3"
    },
    "language_info": {
      "name": "python"
    }
  },
  "cells": [
    {
      "cell_type": "markdown",
      "metadata": {
        "id": "view-in-github",
        "colab_type": "text"
      },
      "source": [
        "<a href=\"https://colab.research.google.com/github/usang0320/pythonbasicclass2/blob/main/python_basic_day10.ipynb\" target=\"_parent\"><img src=\"https://colab.research.google.com/assets/colab-badge.svg\" alt=\"Open In Colab\"/></a>"
      ]
    },
    {
      "cell_type": "code",
      "execution_count": 1,
      "metadata": {
        "colab": {
          "base_uri": "https://localhost:8080/"
        },
        "id": "KR1ZcPcT4maA",
        "outputId": "2cfd562c-5af8-4b4c-a5ff-964f322669f9"
      },
      "outputs": [
        {
          "output_type": "stream",
          "name": "stdout",
          "text": [
            "Requirement already satisfied: requests in /usr/local/lib/python3.7/dist-packages (2.23.0)\n",
            "Requirement already satisfied: certifi>=2017.4.17 in /usr/local/lib/python3.7/dist-packages (from requests) (2021.10.8)\n",
            "Requirement already satisfied: idna<3,>=2.5 in /usr/local/lib/python3.7/dist-packages (from requests) (2.10)\n",
            "Requirement already satisfied: chardet<4,>=3.0.2 in /usr/local/lib/python3.7/dist-packages (from requests) (3.0.4)\n",
            "Requirement already satisfied: urllib3!=1.25.0,!=1.25.1,<1.26,>=1.21.1 in /usr/local/lib/python3.7/dist-packages (from requests) (1.24.3)\n"
          ]
        }
      ],
      "source": [
        "!pip install requests  # 크롤링을 위해 인터넷 페이지 요청"
      ]
    },
    {
      "cell_type": "code",
      "source": [
        "import requests\n",
        "from bs4 import BeautifulSoup as bs\n",
        "\n",
        "url = 'https://music.bugs.co.kr/chart?wl_ref=M_left_02_01'\n",
        "\n",
        "response = requests.get(url)\n",
        "\n",
        "soup = bs(response.text)\n"
      ],
      "metadata": {
        "id": "TJjYA_Q958zf"
      },
      "execution_count": 9,
      "outputs": []
    },
    {
      "cell_type": "code",
      "source": [
        "len(soup.select('table.byChart > tbody > tr'))  # 태그들을 전부 선택"
      ],
      "metadata": {
        "colab": {
          "base_uri": "https://localhost:8080/"
        },
        "id": "ja5K6sLWCYE7",
        "outputId": "8ea577f2-5bb3-4a0f-fb6b-ecb0dbb3db03"
      },
      "execution_count": 14,
      "outputs": [
        {
          "output_type": "execute_result",
          "data": {
            "text/plain": [
              "100"
            ]
          },
          "metadata": {},
          "execution_count": 14
        }
      ]
    },
    {
      "cell_type": "code",
      "source": [
        "songs = soup.select('table.byChart > tbody > tr')"
      ],
      "metadata": {
        "id": "unP_rJfKJOdb"
      },
      "execution_count": 15,
      "outputs": []
    },
    {
      "cell_type": "code",
      "source": [
        "song = songs[0]"
      ],
      "metadata": {
        "id": "UdVkxMEvJZMZ"
      },
      "execution_count": 20,
      "outputs": []
    },
    {
      "cell_type": "code",
      "source": [
        "!pip install BeautifulSoup4  # 필요한 내용 추출 모듈"
      ],
      "metadata": {
        "colab": {
          "base_uri": "https://localhost:8080/"
        },
        "id": "p7u-MhqB5nqH",
        "outputId": "a999fb47-1517-4010-e34e-de25884f6a4e"
      },
      "execution_count": 2,
      "outputs": [
        {
          "output_type": "stream",
          "name": "stdout",
          "text": [
            "Requirement already satisfied: BeautifulSoup4 in /usr/local/lib/python3.7/dist-packages (4.6.3)\n"
          ]
        }
      ]
    },
    {
      "cell_type": "code",
      "source": [
        "song.select('p > a')"
      ],
      "metadata": {
        "colab": {
          "base_uri": "https://localhost:8080/"
        },
        "id": "EnHJcqdRKVBc",
        "outputId": "16db9ab4-ba94-4f7e-bed9-67f90f2889bc"
      },
      "execution_count": 24,
      "outputs": [
        {
          "output_type": "execute_result",
          "data": {
            "text/plain": [
              "[<a adultcheckval=\"1\" aria-label=\"새창\" href=\"javascript:;\" onclick=\"bugs.wiselog.area('list_tr_09_chart');bugs.music.listen('6150789',true);\n",
              " \" title=\"TOMBOY\">TOMBOY</a>,\n",
              " <a href=\"https://music.bugs.co.kr/artist/20056456?wl_ref=list_tr_10_chart\" onclick=\"\n",
              " \" title=\"(여자)아이들\">(여자)아이들</a>]"
            ]
          },
          "metadata": {},
          "execution_count": 24
        }
      ]
    },
    {
      "cell_type": "code",
      "source": [
        "song"
      ],
      "metadata": {
        "colab": {
          "base_uri": "https://localhost:8080/"
        },
        "id": "oLxqYojP9N4E",
        "outputId": "81866735-202a-49a0-ae6d-d8db3f63ac4c"
      },
      "execution_count": 22,
      "outputs": [
        {
          "output_type": "execute_result",
          "data": {
            "text/plain": [
              "<tr albumid=\"4072414\" artistid=\"20056456\" multiartist=\"N\" mvid=\"606847\" rowtype=\"track\" trackid=\"6150789\">\n",
              "<input name=\"_isStream\" type=\"hidden\" value=\"6150789\"/>\n",
              "<input name=\"_isDown\" type=\"hidden\" value=\"6150789\"/>\n",
              "<td class=\"check\"><input buyminquality=\"T\" disc_id=\"1\" name=\"check\" title=\"TOMBOY\" type=\"checkbox\" value=\"6150789\"/></td>\n",
              "<td>\n",
              "<div class=\"ranking\">\n",
              "<strong>1</strong>\n",
              "<p class=\"change hot\"><em>HOT</em></p>\n",
              "</div>\n",
              "</td>\n",
              "<td>\n",
              "<a class=\"thumbnail\" href=\"https://music.bugs.co.kr/album/4072414?wl_ref=list_tr_07_chart\" onclick=\"\n",
              "\">\n",
              "<span class=\"mask\"></span>\n",
              "<img alt=\"I NEVER DIE 대표이미지\" onerror=\"bugs.utils.imgError(this);\" src=\"https://image.bugsm.co.kr/album/images/50/40724/4072414.jpg?version=20220314180012.0\"/>\n",
              "</a>\n",
              "</td>\n",
              "<td>\n",
              "<a class=\"trackInfo\" href=\"https://music.bugs.co.kr/track/6150789?wl_ref=list_tr_08_chart\" onclick=\"\n",
              "\">곡정보</a>\n",
              "</td>\n",
              "<th scope=\"row\">\n",
              "<p adult_yn=\"N\" class=\"title\">\n",
              "<a adultcheckval=\"1\" aria-label=\"새창\" href=\"javascript:;\" onclick=\"bugs.wiselog.area('list_tr_09_chart');bugs.music.listen('6150789',true);\n",
              "\" title=\"TOMBOY\">TOMBOY</a>\n",
              "</p>\n",
              "</th>\n",
              "<td class=\"left\">\n",
              "<p class=\"artist\">\n",
              "<a href=\"https://music.bugs.co.kr/artist/20056456?wl_ref=list_tr_10_chart\" onclick=\"\n",
              "\" title=\"(여자)아이들\">(여자)아이들</a>\n",
              "</p>\n",
              "</td>\n",
              "<td class=\"left\">\n",
              "<a class=\"album\" href=\"https://music.bugs.co.kr/album/4072414?wl_ref=list_tr_11_chart\" onclick=\"\n",
              "\" title=\"I NEVER DIE\">I NEVER DIE</a>\n",
              "</td>\n",
              "<td>\n",
              "<a adultcheckval=\"1\" aria-label=\"새창\" class=\"btn play\" href=\"javascript:;\" onclick=\"bugs.wiselog.area('list_tr_12_chart');bugs.music.listen('6150789',true);\n",
              "\">듣기</a>\n",
              "</td>\n",
              "<td>\n",
              "<a adultcheckval=\"1\" aria-label=\"새창\" class=\"btn addPlaylist\" href=\"javascript:;\" onclick=\"bugs.wiselog.area('list_tr_13_chart');bugs.music.listen('6150789');\n",
              "\">재생목록에 추가</a>\n",
              "</td>\n",
              "<td>\n",
              "<a class=\"btn addAlbum\" href=\"javascript:;\" onclick=\"bugs.wiselog.area('list_tr_14_chart');bugs.music.addTrackToMyAlbum(this,'6150789');\n",
              "\" track_title=\"TOMBOY\">내 앨범에 담기</a>\n",
              "</td>\n",
              "<td>\n",
              "<a adultcheckval=\"1\" aria-label=\"새창\" class=\"btn download flac\" href=\"javascript:;\" onclick=\"bugs.wiselog.area('list_tr_15_chart');bugs.layermenu.down(this,'6150789','true','true','44.1','true','96', null );\n",
              "\"><em class=\"flac\">flac </em>다운로드</a>\n",
              "</td>\n",
              "<td>\n",
              "<a aria-label=\"새창\" class=\"btn viewMV\" href=\"javascript:;\" onclick=\"bugs.wiselog.area('list_tr_16_chart');\n",
              "bugs.layermenu.mv(this,6150789, 606847, 'Y', 'Y', 'Y', 'Y', 6150789, 'N','OVER_15', 'Y');\n",
              "\">영상 재생</a>\n",
              "</td>\n",
              "<td>\n",
              "<a artist_disp_nm=\"(여자)아이들\" artist_id=\"20056456\" class=\"btnActions\" href=\"javascript:;\" layer_type=\"CHART\" layerpositiontarget=\"td\" onclick=\"bugs.wiselog.area('list_tr_17_chart');\n",
              "bugs.layermenu.trackMoreAction(this,'6150789','0','4072414','bugs.music.listenRadioFromSeed(\\'6150789\\',\\'track\\');','N', 'Y', '_chart');\n",
              "\" track_title=\"TOMBOY\">기타 기능</a>\n",
              "</td>\n",
              "</tr>"
            ]
          },
          "metadata": {},
          "execution_count": 22
        }
      ]
    },
    {
      "cell_type": "code",
      "source": [
        "title = song.select('p.title > a')[0].text\n",
        "title"
      ],
      "metadata": {
        "colab": {
          "base_uri": "https://localhost:8080/",
          "height": 35
        },
        "id": "UmM8xdxqKvXN",
        "outputId": "5035668b-68b9-46bf-b82b-0aa7e13521a2"
      },
      "execution_count": 30,
      "outputs": [
        {
          "output_type": "execute_result",
          "data": {
            "text/plain": [
              "'TOMBOY'"
            ],
            "application/vnd.google.colaboratory.intrinsic+json": {
              "type": "string"
            }
          },
          "metadata": {},
          "execution_count": 30
        }
      ]
    },
    {
      "cell_type": "code",
      "source": [
        "singer = song.select('p.artist > a')[0].text\n",
        "singer"
      ],
      "metadata": {
        "colab": {
          "base_uri": "https://localhost:8080/",
          "height": 35
        },
        "id": "tLfJHrm5Lgt_",
        "outputId": "ee1cb7a7-2923-450d-d5e5-72dd019f8d9f"
      },
      "execution_count": 31,
      "outputs": [
        {
          "output_type": "execute_result",
          "data": {
            "text/plain": [
              "'(여자)아이들'"
            ],
            "application/vnd.google.colaboratory.intrinsic+json": {
              "type": "string"
            }
          },
          "metadata": {},
          "execution_count": 31
        }
      ]
    },
    {
      "cell_type": "code",
      "source": [
        "song_data = []\n",
        "\n",
        "songs = soup.select('table.byChart > tbody > tr')\n",
        "\n",
        "for song in songs:\n",
        "    title = song.select('p.title > a')[0].text\n",
        "    singer = song.select('p.artist > a')[0].text\n",
        "    album = song.select('td.left > a')[0].text\n",
        "    rank = song.select('div.ranking > strong')[0].text\n",
        "\n",
        "    song_data.append([rank, title, singer, album])\n",
        "\n",
        "song_data    "
      ],
      "metadata": {
        "colab": {
          "base_uri": "https://localhost:8080/"
        },
        "id": "hezFyDtAPUzF",
        "outputId": "e9fe989d-a731-4e8f-91d1-ce5a8f9f9729"
      },
      "execution_count": 39,
      "outputs": [
        {
          "output_type": "execute_result",
          "data": {
            "text/plain": [
              "[['1', 'TOMBOY', '(여자)아이들', 'I NEVER DIE'],\n",
              " ['2', 'GANADARA (Feat. 아이유)', '박재범', 'GANADARA'],\n",
              " ['3', 'Thank You', '브레이브걸스(Brave Girls)', 'THANK YOU'],\n",
              " ['4', '말리지 마', '(여자)아이들', 'I NEVER DIE'],\n",
              " ['5', 'VILLAIN DIES', '(여자)아이들', 'I NEVER DIE'],\n",
              " ['6', '사랑인가 봐', '멜로망스(MeloMance)', '사랑인가 봐 (사내맞선 OST 스페셜 트랙)'],\n",
              " ['7', '우린 어떠한 별보다 빛날 거야', '이하이', '우린 어떠한 별보다 빛날 거야 (이하이 X soundtrack#1)'],\n",
              " ['8', 'BORN TO LOVE YOU', '강승윤', 'BORN TO LOVE YOU'],\n",
              " ['9', 'INVU', '태연 (TAEYEON)', 'INVU - The 3rd Album'],\n",
              " ['10', 'ESCAPE', '(여자)아이들', 'I NEVER DIE'],\n",
              " ['11', 'LIAR', '(여자)아이들', 'I NEVER DIE'],\n",
              " ['12', 'ALREADY', '(여자)아이들', 'I NEVER DIE'],\n",
              " ['13', 'MY BAG', '(여자)아이들', 'I NEVER DIE'],\n",
              " ['14', 'POLAROID', '(여자)아이들', 'I NEVER DIE'],\n",
              " ['15', '듣고 싶을까', 'MSG워너비(M.O.M)', '듣고 싶을까'],\n",
              " ['16', 'RUN2U', 'STAYC(스테이씨)', 'YOUNG-LUV.COM'],\n",
              " ['17', '존재만으로', '원슈타인', '스물다섯 스물하나 OST Part 4'],\n",
              " ['18', '우리끼리 (You and I)', '브레이브걸스(Brave Girls)', 'THANK YOU'],\n",
              " ['19', 'SMILEY (Feat. BIBI)', 'YENA (최예나)', 'ˣ‿ˣ (SMiLEY)'],\n",
              " ['20', '물거품 (Love Is Gone)', '브레이브걸스(Brave Girls)', 'THANK YOU'],\n",
              " ['21', '이렇게 둘이', '창모(CHANGMO)', '이렇게 둘이'],\n",
              " ['22', '어제처럼', '폴킴(Paul Kim)', '어제처럼'],\n",
              " ['23', 'abcdefu', 'GAYLE', 'abcdefu'],\n",
              " ['24', 'Can I Love You', '브레이브걸스(Brave Girls)', 'THANK YOU'],\n",
              " ['25', '꽃 (With 김민석 of 멜로망스)', '박봄 (Park Bom)', '꽃'],\n",
              " ['26', 'With', '김태리(Kim Tae Ri)', '스물다섯 스물하나 OST Part 7'],\n",
              " ['27', 'Thank You (remix)', '브레이브걸스(Brave Girls)', 'THANK YOU'],\n",
              " ['28', '취중고백', '김민석 (멜로망스)', '취중고백'],\n",
              " ['29', 'ELEVEN', 'IVE (아이브)', 'ELEVEN'],\n",
              " ['30', '손을 잡는다거나, 같이 걷는다거나', '적재', 'Trip:Tape #01'],\n",
              " ['31', '아주, 천천히', '비비(BIBI)', '스물다섯 스물하나 OST Part 3'],\n",
              " ['32', '사랑은 늘 도망가', '임영웅', '신사와 아가씨 OST Part.2'],\n",
              " ['33', '드라마', '아이유(IU)', '조각집'],\n",
              " ['34', 'Step Back', 'GOT the beat', 'Step Back'],\n",
              " ['35', 'Starlight', '태일 (TAEIL)', '스물다섯 스물하나 OST Part 1'],\n",
              " ['36', 'O.O', 'NMIXX', 'AD MARE'],\n",
              " ['37',\n",
              "  \"Stronger (What Doesn't Kill You)\",\n",
              "  'Kelly Clarkson(켈리 클락슨)',\n",
              "  \"Stronger (What Doesn't Kill You)\"],\n",
              " ['38', 'strawberry moon', '아이유(IU)', 'strawberry moon'],\n",
              " ['39', '신호등', '이무진', '신호등'],\n",
              " ['40', '나를 (BE MYSELF) (duet with 양다일)', '하동균', '나를 (BE MYSELF)'],\n",
              " ['41', '니가 내리는 날에', '존 박', '기상청 사람들 : 사내연애 잔혹사 편 OST Part.5'],\n",
              " ['42', 'Next Level', 'aespa', 'Next Level'],\n",
              " ['43',\n",
              "  '회전목마 (Feat. Zion.T, 원슈타인) (Prod. Slom)',\n",
              "  'sokodomo',\n",
              "  '쇼미더머니 10 Episode 2'],\n",
              " ['44', '그런 밤 (Some Nights)', '태연 (TAEYEON)', 'INVU - The 3rd Album'],\n",
              " ['45', \"Can't Control Myself\", '태연 (TAEYEON)', \"Can't Control Myself\"],\n",
              " ['46', 'STAY', 'The Kid LAROI', 'STAY'],\n",
              " ['47', '사랑인걸', '한동근', '사랑인걸'],\n",
              " ['48', 'Weekend', '태연 (TAEYEON)', 'Weekend'],\n",
              " ['49', 'Dreams Come True', 'aespa', 'Dreams Come True - SM STATION'],\n",
              " ['50', 'Light Switch', 'Charlie Puth(찰리 푸스)', 'Light Switch'],\n",
              " ['51', '언제나 사랑해', '케이시', '조영수 리메이크 프로젝트 Part.2'],\n",
              " ['52', 'Counting Stars (Feat. Beenzino)', \"BE'O (비오)\", 'Counting Stars'],\n",
              " ['53', '너머 (The Other Side)', '백예린 (Yerin Baek)', '너머 (The Other Side)'],\n",
              " ['54', '다정히 내 이름을 부르면', '경서예지', '다정히 내 이름을 부르면 (경서예지 x 전건호)'],\n",
              " ['55', '리무진 (Feat. MINO) (Prod. GRAY)', \"BE'O (비오)\", '쇼미더머니 10 Episode 3'],\n",
              " ['56', '그래서 그래 (Feat. 윤하)', '에픽하이 (EPIK HIGH)', 'Epik High Is Here 下'],\n",
              " ['57', '겨울잠', '아이유(IU)', '조각집'],\n",
              " ['58', '서랍', '10CM', '그 해 우리는 OST Part.1'],\n",
              " ['59', '우리가 헤어져야 했던 이유', '비비(BIBI)', '그 해 우리는 OST Part.2'],\n",
              " ['60', 'Savage', 'aespa', 'Savage - The 1st Mini Album'],\n",
              " ['61', '노래 (The Song)', '비투비', 'Be Together'],\n",
              " ['62', '대낮에 한 이별', '선예', '대낮에 한 이별'],\n",
              " ['63', '새벽을 믿지 말자', '개코', '새벽을 믿지 말자'],\n",
              " ['64', 'Dynamite', '방탄소년단', 'Dynamite (DayTime Version)'],\n",
              " ['65', 'Tiny Riot', 'Sam Ryder', 'The Sun’s Gonna Rise'],\n",
              " ['66', '라일락', '아이유(IU)', \"IU 5th Album 'LILAC'\"],\n",
              " ['67', 'Stardust love song', '지효 (TWICE)', '스물다섯 스물하나 OST Part 6 '],\n",
              " ['68',\n",
              "  '만남은 쉽고 이별은 어려워 (Feat. Leellamarz) (Prod. TOIL)',\n",
              "  '베이식(Basick)',\n",
              "  '쇼미더머니 10 Episode 3'],\n",
              " ['69', '어른아이 (Toddler)', '태연 (TAEYEON)', 'INVU - The 3rd Album'],\n",
              " ['70', '호랑수월가', '탑현', '호랑수월가'],\n",
              " ['71', 'Celebrity', '아이유(IU)', \"IU 5th Album 'LILAC'\"],\n",
              " ['72', 'Butter', '방탄소년단', 'Butter'],\n",
              " ['73', 'BOP BOP!', 'VIVIZ (비비지)', \"The 1st Mini Album 'Beam Of Prism'\"],\n",
              " ['74', '문득', \"BE'O (비오)\", 'Bipolar'],\n",
              " ['75', 'DM', '프로미스나인', 'Midnight Guest'],\n",
              " ['76', '스물다섯, 스물하나', '자우림(Jaurim)', 'Goodbye, grief.'],\n",
              " ['77', '비가 오는 날엔 (2021)', '헤이즈(Heize)', '비가 오는 날엔 (2021)'],\n",
              " ['78', '눈이 오잖아(Feat.헤이즈)', '이무진', '눈이 오잖아(Feat.헤이즈)'],\n",
              " ['79', 'Permission to Dance', '방탄소년단', 'Butter / Permission to Dance'],\n",
              " ['80', 'Christmas Tree', 'V', '그 해 우리는 OST Part.5'],\n",
              " ['81', '내 생에 아름다운', '이예준', '내 생에 아름다운'],\n",
              " ['82', 'My Universe', 'Coldplay(콜드플레이)', 'My Universe'],\n",
              " ['83', '헤픈 우연', '헤이즈(Heize)', 'HAPPEN'],\n",
              " ['84', '너의 모든 순간', '성시경', '별에서 온 그대 (SBS 수목드라마) OST - Part.7'],\n",
              " ['85', 'Timeless', '태연 (TAEYEON)', 'INVU - The 3rd Album'],\n",
              " ['86', 'WA DA DA', 'Kep1er (케플러)', 'FIRST IMPACT'],\n",
              " ['87',\n",
              "  '너, 너 (N번째 연애 X 휘인 (Whee In))',\n",
              "  '휘인(Whee In)',\n",
              "  '너, 너 (N번째 연애 X 휘인 (Whee In))'],\n",
              " ['88', '낙하 (with 아이유)', 'AKMU(악뮤)', 'NEXT EPISODE'],\n",
              " ['89', '너를 생각해', '주시크 (Joosiq)', '너를 생각해'],\n",
              " ['90', 'Dun Dun Dance', '오마이걸(OH MY GIRL)', 'Dear OHMYGIRL'],\n",
              " ['91', 'Go!', '도겸 (SEVENTEEN)', '스물다섯 스물하나 OST Part 5'],\n",
              " ['92', 'Bad Habits', 'Ed Sheeran(에드 시런)', '='],\n",
              " ['93', '잊을 수 있을까', '노을', '이별을 말하는'],\n",
              " ['94', 'Set Myself On Fire', '태연 (TAEYEON)', 'INVU - The 3rd Album'],\n",
              " ['95', 'Blueming', '아이유(IU)', 'Love poem'],\n",
              " ['96',\n",
              "  '모든 날, 모든 순간 (Every day, Every Moment)',\n",
              "  '폴킴(Paul Kim)',\n",
              "  \"'키스 먼저 할까요?' OST Part.3\"],\n",
              " ['97', '너 아니면 안돼', '먼데이 키즈(Monday Kiz)', '너 아니면 안돼'],\n",
              " ['98', '여름비', '샘김(Sam Kim)', '그 해 우리는 OST Part.8'],\n",
              " ['99', '바라만 본다', 'MSG워너비(M.O.M)', 'MSG워너비 1집'],\n",
              " ['100', 'The Weekend', '88rising', 'The Weekend']]"
            ]
          },
          "metadata": {},
          "execution_count": 39
        }
      ]
    },
    {
      "cell_type": "code",
      "source": [
        "album = song.select('td.left > a')[0].text\n",
        "album"
      ],
      "metadata": {
        "colab": {
          "base_uri": "https://localhost:8080/",
          "height": 35
        },
        "id": "2RUi1AQEMZxa",
        "outputId": "c312f01e-a83d-4da6-be85-c8609fd49f5e"
      },
      "execution_count": 32,
      "outputs": [
        {
          "output_type": "execute_result",
          "data": {
            "text/plain": [
              "'I NEVER DIE'"
            ],
            "application/vnd.google.colaboratory.intrinsic+json": {
              "type": "string"
            }
          },
          "metadata": {},
          "execution_count": 32
        }
      ]
    },
    {
      "cell_type": "code",
      "source": [
        "import pandas as pd\n",
        "\n",
        "df = pd.DataFrame(song_data, columns = ['순위','타이틀','가수','앨범'])\n",
        "df"
      ],
      "metadata": {
        "colab": {
          "base_uri": "https://localhost:8080/",
          "height": 423
        },
        "id": "yadOrXCXQMYF",
        "outputId": "dab29e8e-4049-4dd4-83f8-d427fff32e00"
      },
      "execution_count": 40,
      "outputs": [
        {
          "output_type": "execute_result",
          "data": {
            "text/plain": [
              "     순위                                    타이틀                   가수  \\\n",
              "0     1                                 TOMBOY              (여자)아이들   \n",
              "1     2                   GANADARA (Feat. 아이유)                  박재범   \n",
              "2     3                              Thank You  브레이브걸스(Brave Girls)   \n",
              "3     4                                  말리지 마              (여자)아이들   \n",
              "4     5                           VILLAIN DIES              (여자)아이들   \n",
              "..  ...                                    ...                  ...   \n",
              "95   96  모든 날, 모든 순간 (Every day, Every Moment)         폴킴(Paul Kim)   \n",
              "96   97                               너 아니면 안돼   먼데이 키즈(Monday Kiz)   \n",
              "97   98                                    여름비          샘김(Sam Kim)   \n",
              "98   99                                 바라만 본다        MSG워너비(M.O.M)   \n",
              "99  100                            The Weekend             88rising   \n",
              "\n",
              "                         앨범  \n",
              "0               I NEVER DIE  \n",
              "1                  GANADARA  \n",
              "2                 THANK YOU  \n",
              "3               I NEVER DIE  \n",
              "4               I NEVER DIE  \n",
              "..                      ...  \n",
              "95  '키스 먼저 할까요?' OST Part.3  \n",
              "96                 너 아니면 안돼  \n",
              "97       그 해 우리는 OST Part.8  \n",
              "98                MSG워너비 1집  \n",
              "99              The Weekend  \n",
              "\n",
              "[100 rows x 4 columns]"
            ],
            "text/html": [
              "\n",
              "  <div id=\"df-898f57d8-604d-4f02-a0c4-b46135ae2983\">\n",
              "    <div class=\"colab-df-container\">\n",
              "      <div>\n",
              "<style scoped>\n",
              "    .dataframe tbody tr th:only-of-type {\n",
              "        vertical-align: middle;\n",
              "    }\n",
              "\n",
              "    .dataframe tbody tr th {\n",
              "        vertical-align: top;\n",
              "    }\n",
              "\n",
              "    .dataframe thead th {\n",
              "        text-align: right;\n",
              "    }\n",
              "</style>\n",
              "<table border=\"1\" class=\"dataframe\">\n",
              "  <thead>\n",
              "    <tr style=\"text-align: right;\">\n",
              "      <th></th>\n",
              "      <th>순위</th>\n",
              "      <th>타이틀</th>\n",
              "      <th>가수</th>\n",
              "      <th>앨범</th>\n",
              "    </tr>\n",
              "  </thead>\n",
              "  <tbody>\n",
              "    <tr>\n",
              "      <th>0</th>\n",
              "      <td>1</td>\n",
              "      <td>TOMBOY</td>\n",
              "      <td>(여자)아이들</td>\n",
              "      <td>I NEVER DIE</td>\n",
              "    </tr>\n",
              "    <tr>\n",
              "      <th>1</th>\n",
              "      <td>2</td>\n",
              "      <td>GANADARA (Feat. 아이유)</td>\n",
              "      <td>박재범</td>\n",
              "      <td>GANADARA</td>\n",
              "    </tr>\n",
              "    <tr>\n",
              "      <th>2</th>\n",
              "      <td>3</td>\n",
              "      <td>Thank You</td>\n",
              "      <td>브레이브걸스(Brave Girls)</td>\n",
              "      <td>THANK YOU</td>\n",
              "    </tr>\n",
              "    <tr>\n",
              "      <th>3</th>\n",
              "      <td>4</td>\n",
              "      <td>말리지 마</td>\n",
              "      <td>(여자)아이들</td>\n",
              "      <td>I NEVER DIE</td>\n",
              "    </tr>\n",
              "    <tr>\n",
              "      <th>4</th>\n",
              "      <td>5</td>\n",
              "      <td>VILLAIN DIES</td>\n",
              "      <td>(여자)아이들</td>\n",
              "      <td>I NEVER DIE</td>\n",
              "    </tr>\n",
              "    <tr>\n",
              "      <th>...</th>\n",
              "      <td>...</td>\n",
              "      <td>...</td>\n",
              "      <td>...</td>\n",
              "      <td>...</td>\n",
              "    </tr>\n",
              "    <tr>\n",
              "      <th>95</th>\n",
              "      <td>96</td>\n",
              "      <td>모든 날, 모든 순간 (Every day, Every Moment)</td>\n",
              "      <td>폴킴(Paul Kim)</td>\n",
              "      <td>'키스 먼저 할까요?' OST Part.3</td>\n",
              "    </tr>\n",
              "    <tr>\n",
              "      <th>96</th>\n",
              "      <td>97</td>\n",
              "      <td>너 아니면 안돼</td>\n",
              "      <td>먼데이 키즈(Monday Kiz)</td>\n",
              "      <td>너 아니면 안돼</td>\n",
              "    </tr>\n",
              "    <tr>\n",
              "      <th>97</th>\n",
              "      <td>98</td>\n",
              "      <td>여름비</td>\n",
              "      <td>샘김(Sam Kim)</td>\n",
              "      <td>그 해 우리는 OST Part.8</td>\n",
              "    </tr>\n",
              "    <tr>\n",
              "      <th>98</th>\n",
              "      <td>99</td>\n",
              "      <td>바라만 본다</td>\n",
              "      <td>MSG워너비(M.O.M)</td>\n",
              "      <td>MSG워너비 1집</td>\n",
              "    </tr>\n",
              "    <tr>\n",
              "      <th>99</th>\n",
              "      <td>100</td>\n",
              "      <td>The Weekend</td>\n",
              "      <td>88rising</td>\n",
              "      <td>The Weekend</td>\n",
              "    </tr>\n",
              "  </tbody>\n",
              "</table>\n",
              "<p>100 rows × 4 columns</p>\n",
              "</div>\n",
              "      <button class=\"colab-df-convert\" onclick=\"convertToInteractive('df-898f57d8-604d-4f02-a0c4-b46135ae2983')\"\n",
              "              title=\"Convert this dataframe to an interactive table.\"\n",
              "              style=\"display:none;\">\n",
              "        \n",
              "  <svg xmlns=\"http://www.w3.org/2000/svg\" height=\"24px\"viewBox=\"0 0 24 24\"\n",
              "       width=\"24px\">\n",
              "    <path d=\"M0 0h24v24H0V0z\" fill=\"none\"/>\n",
              "    <path d=\"M18.56 5.44l.94 2.06.94-2.06 2.06-.94-2.06-.94-.94-2.06-.94 2.06-2.06.94zm-11 1L8.5 8.5l.94-2.06 2.06-.94-2.06-.94L8.5 2.5l-.94 2.06-2.06.94zm10 10l.94 2.06.94-2.06 2.06-.94-2.06-.94-.94-2.06-.94 2.06-2.06.94z\"/><path d=\"M17.41 7.96l-1.37-1.37c-.4-.4-.92-.59-1.43-.59-.52 0-1.04.2-1.43.59L10.3 9.45l-7.72 7.72c-.78.78-.78 2.05 0 2.83L4 21.41c.39.39.9.59 1.41.59.51 0 1.02-.2 1.41-.59l7.78-7.78 2.81-2.81c.8-.78.8-2.07 0-2.86zM5.41 20L4 18.59l7.72-7.72 1.47 1.35L5.41 20z\"/>\n",
              "  </svg>\n",
              "      </button>\n",
              "      \n",
              "  <style>\n",
              "    .colab-df-container {\n",
              "      display:flex;\n",
              "      flex-wrap:wrap;\n",
              "      gap: 12px;\n",
              "    }\n",
              "\n",
              "    .colab-df-convert {\n",
              "      background-color: #E8F0FE;\n",
              "      border: none;\n",
              "      border-radius: 50%;\n",
              "      cursor: pointer;\n",
              "      display: none;\n",
              "      fill: #1967D2;\n",
              "      height: 32px;\n",
              "      padding: 0 0 0 0;\n",
              "      width: 32px;\n",
              "    }\n",
              "\n",
              "    .colab-df-convert:hover {\n",
              "      background-color: #E2EBFA;\n",
              "      box-shadow: 0px 1px 2px rgba(60, 64, 67, 0.3), 0px 1px 3px 1px rgba(60, 64, 67, 0.15);\n",
              "      fill: #174EA6;\n",
              "    }\n",
              "\n",
              "    [theme=dark] .colab-df-convert {\n",
              "      background-color: #3B4455;\n",
              "      fill: #D2E3FC;\n",
              "    }\n",
              "\n",
              "    [theme=dark] .colab-df-convert:hover {\n",
              "      background-color: #434B5C;\n",
              "      box-shadow: 0px 1px 3px 1px rgba(0, 0, 0, 0.15);\n",
              "      filter: drop-shadow(0px 1px 2px rgba(0, 0, 0, 0.3));\n",
              "      fill: #FFFFFF;\n",
              "    }\n",
              "  </style>\n",
              "\n",
              "      <script>\n",
              "        const buttonEl =\n",
              "          document.querySelector('#df-898f57d8-604d-4f02-a0c4-b46135ae2983 button.colab-df-convert');\n",
              "        buttonEl.style.display =\n",
              "          google.colab.kernel.accessAllowed ? 'block' : 'none';\n",
              "\n",
              "        async function convertToInteractive(key) {\n",
              "          const element = document.querySelector('#df-898f57d8-604d-4f02-a0c4-b46135ae2983');\n",
              "          const dataTable =\n",
              "            await google.colab.kernel.invokeFunction('convertToInteractive',\n",
              "                                                     [key], {});\n",
              "          if (!dataTable) return;\n",
              "\n",
              "          const docLinkHtml = 'Like what you see? Visit the ' +\n",
              "            '<a target=\"_blank\" href=https://colab.research.google.com/notebooks/data_table.ipynb>data table notebook</a>'\n",
              "            + ' to learn more about interactive tables.';\n",
              "          element.innerHTML = '';\n",
              "          dataTable['output_type'] = 'display_data';\n",
              "          await google.colab.output.renderOutput(dataTable, element);\n",
              "          const docLink = document.createElement('div');\n",
              "          docLink.innerHTML = docLinkHtml;\n",
              "          element.appendChild(docLink);\n",
              "        }\n",
              "      </script>\n",
              "    </div>\n",
              "  </div>\n",
              "  "
            ]
          },
          "metadata": {},
          "execution_count": 40
        }
      ]
    },
    {
      "cell_type": "code",
      "source": [
        "rank = song.select('div.ranking > strong')[0].text\n",
        "rank"
      ],
      "metadata": {
        "colab": {
          "base_uri": "https://localhost:8080/",
          "height": 35
        },
        "id": "B8-2AWgJQDSb",
        "outputId": "ce4d805d-67ee-4741-80b4-1246f2c5e72b"
      },
      "execution_count": 35,
      "outputs": [
        {
          "output_type": "execute_result",
          "data": {
            "text/plain": [
              "'1'"
            ],
            "application/vnd.google.colaboratory.intrinsic+json": {
              "type": "string"
            }
          },
          "metadata": {},
          "execution_count": 35
        }
      ]
    },
    {
      "cell_type": "code",
      "source": [
        "import requests\n",
        "from bs4 import BeautifulSoup as bs\n",
        "\n",
        "url = 'https://www.genie.co.kr/chart/top200'\n",
        "\n",
        "response = requests.get(url)\n",
        "\n",
        "soup = bs(response.text)\n",
        "soup"
      ],
      "metadata": {
        "colab": {
          "base_uri": "https://localhost:8080/"
        },
        "id": "KU0TTcV1U6Au",
        "outputId": "b81cc352-c7e9-4278-c3eb-d363d14b4abc"
      },
      "execution_count": 42,
      "outputs": [
        {
          "output_type": "execute_result",
          "data": {
            "text/plain": [
              "<html><body><br/>\n",
              "<br/>\n",
              "<center>\n",
              "<img src=\"http://www.geniemusic.co.kr/images/common/logo_r1.png\"/><br/>\n",
              "<h2> <meta content=\"text/html;charset=utf-8\" http-equiv=\"Content-Type\"/> ì ììì²­ì´ ë³´ìì ì±\n",
              "ì ìí´ ì°¨ë¨ëììµëë¤. ë¹ì¬ ê³ ê°ì¼í°ë¡ ë¬¸ìí´ì£¼ì­ìì¤.<br/><br/>\n",
              "The security policy of the connection request is blocked. Contact your customer service representative.<br/><br/>\n",
              "ì§ëë®¤ì§ ê³ ê°ì¼í° 1577-5337<br/><br/>\n",
              "</h2>\n",
              "</center>\n",
              "<br/></body></html>"
            ]
          },
          "metadata": {},
          "execution_count": 42
        }
      ]
    },
    {
      "cell_type": "code",
      "source": [
        ""
      ],
      "metadata": {
        "id": "i1JfV2LKWWlW"
      },
      "execution_count": null,
      "outputs": []
    }
  ]
}