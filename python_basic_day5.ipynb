{
  "nbformat": 4,
  "nbformat_minor": 0,
  "metadata": {
    "colab": {
      "name": "python basic day5.ipynb",
      "provenance": [],
      "authorship_tag": "ABX9TyPwvSpzitR2oSP4k7KRdCZe",
      "include_colab_link": true
    },
    "kernelspec": {
      "name": "python3",
      "display_name": "Python 3"
    },
    "language_info": {
      "name": "python"
    }
  },
  "cells": [
    {
      "cell_type": "markdown",
      "metadata": {
        "id": "view-in-github",
        "colab_type": "text"
      },
      "source": [
        "<a href=\"https://colab.research.google.com/github/usang0320/pythonbasicclass2/blob/main/python_basic_day5.ipynb\" target=\"_parent\"><img src=\"https://colab.research.google.com/assets/colab-badge.svg\" alt=\"Open In Colab\"/></a>"
      ]
    },
    {
      "cell_type": "code",
      "execution_count": 2,
      "metadata": {
        "id": "nvF4kQM9Bb1d"
      },
      "outputs": [],
      "source": [
        "# 조건문 if\n",
        "# 조건문은 특정 조건을 만족하는지 여부에 따라 실행되는 코드가 달라진다.\n",
        "\n",
        "a = -1\n",
        "if a > 0:\n",
        "    print('양수')"
      ]
    },
    {
      "cell_type": "code",
      "source": [
        "a = 1\n",
        "if a > 0: \n",
        "    print('양수')\n",
        "elif a == 0:\n",
        "    print('0')\n",
        "else:\n",
        "    print('음수')"
      ],
      "metadata": {
        "colab": {
          "base_uri": "https://localhost:8080/"
        },
        "id": "cTDJciOiC2Km",
        "outputId": "7017c854-1989-4220-b888-03f16c6cfd76"
      },
      "execution_count": 7,
      "outputs": [
        {
          "output_type": "stream",
          "name": "stdout",
          "text": [
            "양수\n"
          ]
        }
      ]
    },
    {
      "cell_type": "markdown",
      "source": [
        "![순서도_조건문.jpg](data:image/jpeg;base64,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)"
      ],
      "metadata": {
        "id": "VLWau5ZhKMiX"
      }
    },
    {
      "cell_type": "code",
      "source": [
        "# 99p 1번\n",
        "score = int(input('점수를 입력하세요 >>> '))\n",
        "if score >= 90:\n",
        "    a = 'A'\n",
        "elif score >= 80:\n",
        "    a = 'B'\n",
        "elif score >= 70:\n",
        "    a = 'C'\n",
        "elif score >= 60:\n",
        "    a = 'D'\n",
        "else:\n",
        "    a = 'F'\n",
        "\n",
        "print(f'점수는 {score}이고, 학점은 {a}학점입니다.')"
      ],
      "metadata": {
        "colab": {
          "base_uri": "https://localhost:8080/"
        },
        "id": "xEnyGIjAKYZG",
        "outputId": "895167de-40ff-44d2-a4a4-3da5a1fbf688"
      },
      "execution_count": 8,
      "outputs": [
        {
          "output_type": "stream",
          "name": "stdout",
          "text": [
            "점수를 입력하세요 >>> 95\n",
            "점수는 95이고, 학점은 A학점입니다.\n"
          ]
        }
      ]
    },
    {
      "cell_type": "code",
      "source": [
        "#2번\n",
        "data = int(input('정수를 입력하세요 >>> '))\n",
        "if data%3 == 0:\n",
        "    print(f'{data}는 3의 배수입니다.')\n",
        "else:\n",
        "    print(f'{data}는 3의 배수가 아닙니다.')"
      ],
      "metadata": {
        "colab": {
          "base_uri": "https://localhost:8080/"
        },
        "id": "stszRqdkLh9f",
        "outputId": "7cf1455b-0373-47f9-f1fa-931e6fa5b50a"
      },
      "execution_count": 9,
      "outputs": [
        {
          "output_type": "stream",
          "name": "stdout",
          "text": [
            "정수를 입력하세요 >>> 14\n",
            "14는 3의 배수가 아닙니다.\n"
          ]
        }
      ]
    },
    {
      "cell_type": "code",
      "source": [
        "data = int(input('정수를 입력하세요 >>> '))\n",
        "if data%3 == 0:\n",
        "    print(f'{data}는 3의 배수입니다.')\n",
        "else:\n",
        "    print(f'{data}는 3의 배수가 아닙니다.')"
      ],
      "metadata": {
        "colab": {
          "base_uri": "https://localhost:8080/"
        },
        "id": "XR9KYQznMIk-",
        "outputId": "9d34be05-02d9-420b-dff5-c63ec0b78894"
      },
      "execution_count": 10,
      "outputs": [
        {
          "output_type": "stream",
          "name": "stdout",
          "text": [
            "정수를 입력하세요 >>> 15\n",
            "15는 3의 배수입니다.\n"
          ]
        }
      ]
    },
    {
      "cell_type": "code",
      "source": [
        "#3\n",
        "a1 = int(input('정수1 입력 >>> '))\n",
        "a2 = int(input('정수2 입력 >>> '))\n",
        "a3 = int(input('정수3 입력 >>> '))\n",
        "\n",
        "if a1 >= a2 and a1 >= a3:\n",
        "    print(f'가장 큰 수는 {a1}입니다.')\n",
        "elif a2 >= a1 and a2 >= a3:\n",
        "    print(f'가장 큰 수는 {a2}입니다.')\n",
        "else:\n",
        "    print(f'가장 큰 수는 {a3}입니다.')"
      ],
      "metadata": {
        "colab": {
          "base_uri": "https://localhost:8080/"
        },
        "id": "YcYiqrLxMMju",
        "outputId": "bb2e6e7f-024d-416c-873e-62d10eed52a4"
      },
      "execution_count": 12,
      "outputs": [
        {
          "output_type": "stream",
          "name": "stdout",
          "text": [
            "정수1 입력 >>> 1\n",
            "정수2 입력 >>> 2\n",
            "정수3 입력 >>> 3\n",
            "가장 큰 수는 3입니다.\n"
          ]
        }
      ]
    },
    {
      "cell_type": "code",
      "source": [
        "a1 = int(input('정수1 입력 >>> '))\n",
        "a2 = int(input('정수2 입력 >>> '))\n",
        "a3 = int(input('정수3 입력 >>> '))\n",
        "\n",
        "if a1 >= a2 and a1 >= a3:\n",
        "    a = a1\n",
        "elif a2 >= a1 and a2 >= a3:\n",
        "    a = a2\n",
        "else:\n",
        "    a = a3\n",
        "print(f'가장 큰 수는 {a}입니다.')"
      ],
      "metadata": {
        "colab": {
          "base_uri": "https://localhost:8080/"
        },
        "id": "Ld67HuE2SiK6",
        "outputId": "44685250-cad7-4a50-f3c7-6cf04dec39c4"
      },
      "execution_count": 19,
      "outputs": [
        {
          "output_type": "stream",
          "name": "stdout",
          "text": [
            "정수1 입력 >>> 3\n",
            "정수2 입력 >>> 1\n",
            "정수3 입력 >>> 2\n",
            "가장 큰 수는 3입니다.\n"
          ]
        }
      ]
    },
    {
      "cell_type": "code",
      "source": [
        "#4\n",
        "car_num = input('차량번호를 입력하세요 >>> ')\n",
        "\n",
        "if int(car_num[-4:])%2 == 0:\n",
        "    print(f\"차량번호 '{car_num}'는 오늘 운행가능입니다.\")\n",
        "else:\n",
        "    print(f\"차량번호 '{car_num}'는 오늘 운행불가능입니다.\")"
      ],
      "metadata": {
        "colab": {
          "base_uri": "https://localhost:8080/"
        },
        "id": "wu-7mFJQQInr",
        "outputId": "271c2fb9-e629-40a3-8254-4386c80777b4"
      },
      "execution_count": 22,
      "outputs": [
        {
          "output_type": "stream",
          "name": "stdout",
          "text": [
            "차량번호를 입력하세요 >>> 237가1234\n",
            "차량번호 '237가1234'는 오늘 운행가능입니다.\n"
          ]
        }
      ]
    },
    {
      "cell_type": "code",
      "source": [
        "car_num = input('차량번호를 입력하세요 >>> ')\n",
        "\n",
        "if int(car_num[-4:])%2 == 0:\n",
        "    pos = '운행가능'\n",
        "else:\n",
        "    pos = '운행불가능'\n",
        "print(f\"차량번호 '{car_num}'는 오늘 {pos}입니다.\")"
      ],
      "metadata": {
        "colab": {
          "base_uri": "https://localhost:8080/"
        },
        "id": "Fj9xcMYSRQ64",
        "outputId": "465a4410-9da2-49fb-a316-9025adeb6670"
      },
      "execution_count": 21,
      "outputs": [
        {
          "output_type": "stream",
          "name": "stdout",
          "text": [
            "차량번호를 입력하세요 >>> 237가1234\n",
            "차량번호 '237가1234'는 오늘 운행가능입니다.\n"
          ]
        }
      ]
    },
    {
      "cell_type": "code",
      "source": [
        "# 반복문\n",
        "# while 반복횟수가 불명확할 때 주로 사용\n",
        "# for 반복횟수가 명확할 때 주로 사용 \n",
        "\n",
        "        # while 조건식:\n",
        "        #   반복실행문\n",
        "\n",
        "# while True:  # 무한반복\n",
        "#     print('Hello World')"
      ],
      "metadata": {
        "id": "jI3RvDw0TNm4"
      },
      "execution_count": 25,
      "outputs": []
    },
    {
      "cell_type": "code",
      "source": [
        "n = 10\n",
        "\n",
        "while n >= 1:\n",
        "    print(n)\n",
        "    n -= 1"
      ],
      "metadata": {
        "colab": {
          "base_uri": "https://localhost:8080/"
        },
        "id": "Rhn_CpMBWDf-",
        "outputId": "823bd084-9f05-4a4d-890a-c44b40f51a86"
      },
      "execution_count": 28,
      "outputs": [
        {
          "output_type": "stream",
          "name": "stdout",
          "text": [
            "10\n",
            "9\n",
            "8\n",
            "7\n",
            "6\n",
            "5\n",
            "4\n",
            "3\n",
            "2\n",
            "1\n"
          ]
        }
      ]
    },
    {
      "cell_type": "code",
      "source": [
        "n = 1\n",
        "\n",
        "while n <= 10:\n",
        "    print(n)\n",
        "    n += 1"
      ],
      "metadata": {
        "colab": {
          "base_uri": "https://localhost:8080/"
        },
        "id": "juwy4uCbWlRh",
        "outputId": "869a46d0-64c9-4d4a-82af-5a17a2c51c1c"
      },
      "execution_count": 29,
      "outputs": [
        {
          "output_type": "stream",
          "name": "stdout",
          "text": [
            "1\n",
            "2\n",
            "3\n",
            "4\n",
            "5\n",
            "6\n",
            "7\n",
            "8\n",
            "9\n",
            "10\n"
          ]
        }
      ]
    },
    {
      "cell_type": "code",
      "source": [
        "day = 1\n",
        "while day <= 5:\n",
        "    hour = 1\n",
        "    while hour <=3:\n",
        "        print(f'{day}일차 {hour}입니다.')\n",
        "        hour += 1\n",
        "    day += 1"
      ],
      "metadata": {
        "colab": {
          "base_uri": "https://localhost:8080/"
        },
        "id": "Rgwwum0MW7_Q",
        "outputId": "0ace9d65-85b2-44ce-92f4-e0221761e48d"
      },
      "execution_count": 30,
      "outputs": [
        {
          "output_type": "stream",
          "name": "stdout",
          "text": [
            "1일차 1입니다.\n",
            "1일차 2입니다.\n",
            "1일차 3입니다.\n",
            "2일차 1입니다.\n",
            "2일차 2입니다.\n",
            "2일차 3입니다.\n",
            "3일차 1입니다.\n",
            "3일차 2입니다.\n",
            "3일차 3입니다.\n",
            "4일차 1입니다.\n",
            "4일차 2입니다.\n",
            "4일차 3입니다.\n",
            "5일차 1입니다.\n",
            "5일차 2입니다.\n",
            "5일차 3입니다.\n"
          ]
        }
      ]
    },
    {
      "cell_type": "code",
      "source": [
        "# 111p 1번\n",
        "no = int(input('정수를 입력하세요 >>> '))\n",
        "\n",
        "if no <=0:\n",
        "        print('잘못된 입력입니다.')\n",
        "\n",
        "else:\n",
        "    n = 0\n",
        "    while no > n:\n",
        "        print(f'{n+1}번째 Hello')\n",
        "        n += 1\n",
        "    \n"
      ],
      "metadata": {
        "colab": {
          "base_uri": "https://localhost:8080/"
        },
        "id": "hWQa24XsXnlr",
        "outputId": "f39ed06e-88cb-414a-ef72-8bab8a9d1764"
      },
      "execution_count": 36,
      "outputs": [
        {
          "output_type": "stream",
          "name": "stdout",
          "text": [
            "정수를 입력하세요 >>> 5\n",
            "1번째 Hello\n",
            "2번째 Hello\n",
            "3번째 Hello\n",
            "4번째 Hello\n",
            "5번째 Hello\n"
          ]
        }
      ]
    },
    {
      "cell_type": "code",
      "source": [
        ""
      ],
      "metadata": {
        "id": "vTXMpq6xYlG3"
      },
      "execution_count": null,
      "outputs": []
    }
  ]
}