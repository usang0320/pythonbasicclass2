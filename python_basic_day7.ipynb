{
  "nbformat": 4,
  "nbformat_minor": 0,
  "metadata": {
    "colab": {
      "name": "python basic day7.ipynb",
      "provenance": [],
      "authorship_tag": "ABX9TyOWr0PsVdlBQ/2KLexDf/Se",
      "include_colab_link": true
    },
    "kernelspec": {
      "name": "python3",
      "display_name": "Python 3"
    },
    "language_info": {
      "name": "python"
    }
  },
  "cells": [
    {
      "cell_type": "markdown",
      "metadata": {
        "id": "view-in-github",
        "colab_type": "text"
      },
      "source": [
        "<a href=\"https://colab.research.google.com/github/usang0320/pythonbasicclass2/blob/main/python_basic_day7.ipynb\" target=\"_parent\"><img src=\"https://colab.research.google.com/assets/colab-badge.svg\" alt=\"Open In Colab\"/></a>"
      ]
    },
    {
      "cell_type": "code",
      "execution_count": 1,
      "metadata": {
        "colab": {
          "base_uri": "https://localhost:8080/"
        },
        "id": "IlreNCPVIb9a",
        "outputId": "efd7b013-f54b-4d38-bef6-c1c5e4cc7ba3"
      },
      "outputs": [
        {
          "output_type": "execute_result",
          "data": {
            "text/plain": [
              "65"
            ]
          },
          "metadata": {},
          "execution_count": 1
        }
      ],
      "source": [
        "ord('A')"
      ]
    },
    {
      "cell_type": "code",
      "source": [
        "chr(48)"
      ],
      "metadata": {
        "colab": {
          "base_uri": "https://localhost:8080/",
          "height": 35
        },
        "id": "m-x4T40WIndl",
        "outputId": "cbd26573-7f69-4be5-a2a1-84ff74cfacde"
      },
      "execution_count": 2,
      "outputs": [
        {
          "output_type": "execute_result",
          "data": {
            "application/vnd.google.colaboratory.intrinsic+json": {
              "type": "string"
            },
            "text/plain": [
              "'0'"
            ]
          },
          "metadata": {},
          "execution_count": 2
        }
      ]
    },
    {
      "cell_type": "code",
      "source": [
        "for item in enumerate(['가위', '바위', '보']):\n",
        "    print(item)"
      ],
      "metadata": {
        "colab": {
          "base_uri": "https://localhost:8080/"
        },
        "id": "W0EDBpX3IyuJ",
        "outputId": "9b023e83-89ce-4218-b319-453915cd966c"
      },
      "execution_count": 3,
      "outputs": [
        {
          "output_type": "stream",
          "name": "stdout",
          "text": [
            "(0, '가위')\n",
            "(1, '바위')\n",
            "(2, '보')\n"
          ]
        }
      ]
    },
    {
      "cell_type": "code",
      "source": [
        "for idx, item in enumerate(['가위','바위','보']):\n",
        "  print(idx+1, item)"
      ],
      "metadata": {
        "colab": {
          "base_uri": "https://localhost:8080/"
        },
        "id": "-CxYh77gQZoI",
        "outputId": "2958cdfc-de1a-4c67-b241-612645b2f2d0"
      },
      "execution_count": 12,
      "outputs": [
        {
          "output_type": "stream",
          "name": "stdout",
          "text": [
            "1 가위\n",
            "2 바위\n",
            "3 보\n"
          ]
        }
      ]
    },
    {
      "cell_type": "code",
      "source": [
        "# page 164 Method\n",
        "\n",
        "name = input('이름을 입력하세요 >>> ')\n",
        "\n",
        "list = []\n",
        "\n",
        "list.append(name)\n",
        "\n",
        "print(list)"
      ],
      "metadata": {
        "colab": {
          "base_uri": "https://localhost:8080/"
        },
        "id": "QajCyXn0I-2F",
        "outputId": "63a4db17-e267-43d3-f729-59640218580f"
      },
      "execution_count": 4,
      "outputs": [
        {
          "output_type": "stream",
          "name": "stdout",
          "text": [
            "이름을 입력하세요 >>> usang\n",
            "['usang']\n"
          ]
        }
      ]
    },
    {
      "cell_type": "code",
      "source": [
        "s = '내가 그린 기린 그림은 목 긴 기린 그림이고, 네가 그린 기린 그림은 목 짧은 기린 그림이다'\n",
        "s.count('기린')"
      ],
      "metadata": {
        "colab": {
          "base_uri": "https://localhost:8080/"
        },
        "id": "TwRVHnnJJ7gX",
        "outputId": "44f21df5-37b4-4c5a-94a7-60fa23d9f25b"
      },
      "execution_count": 5,
      "outputs": [
        {
          "output_type": "execute_result",
          "data": {
            "text/plain": [
              "4"
            ]
          },
          "metadata": {},
          "execution_count": 5
        }
      ]
    },
    {
      "cell_type": "code",
      "source": [
        "s = 'best of best'\n",
        "s.count('best',5)"
      ],
      "metadata": {
        "colab": {
          "base_uri": "https://localhost:8080/"
        },
        "id": "nX6vupkNK4H5",
        "outputId": "b24f537c-79e1-4781-f30c-81b147e56582"
      },
      "execution_count": 6,
      "outputs": [
        {
          "output_type": "execute_result",
          "data": {
            "text/plain": [
              "1"
            ]
          },
          "metadata": {},
          "execution_count": 6
        }
      ]
    },
    {
      "cell_type": "code",
      "source": [
        "s = 'Life is too short'\n",
        "\n",
        "s.split()"
      ],
      "metadata": {
        "colab": {
          "base_uri": "https://localhost:8080/"
        },
        "id": "OtLJwJSZLDKs",
        "outputId": "ef929c7c-3da2-4fc1-9fda-ece44af896cb"
      },
      "execution_count": 7,
      "outputs": [
        {
          "output_type": "execute_result",
          "data": {
            "text/plain": [
              "['Life', 'is', 'too', 'short']"
            ]
          },
          "metadata": {},
          "execution_count": 7
        }
      ]
    },
    {
      "cell_type": "code",
      "source": [
        "s = '010-1234-5678'\n",
        "s.split('-')"
      ],
      "metadata": {
        "colab": {
          "base_uri": "https://localhost:8080/"
        },
        "id": "VkbjNpNXLrvi",
        "outputId": "dd0cc29c-dd1b-41ed-d447-0eab93e0d31d"
      },
      "execution_count": 8,
      "outputs": [
        {
          "output_type": "execute_result",
          "data": {
            "text/plain": [
              "['010', '1234', '5678']"
            ]
          },
          "metadata": {},
          "execution_count": 8
        }
      ]
    },
    {
      "cell_type": "code",
      "source": [
        "s = '제임스,25,남,서울'\n",
        "s.split(',')"
      ],
      "metadata": {
        "colab": {
          "base_uri": "https://localhost:8080/"
        },
        "id": "Jmyc2eKJL0Uy",
        "outputId": "f5c7ec81-8371-4bc0-9084-72fe0fe63ba7"
      },
      "execution_count": 9,
      "outputs": [
        {
          "output_type": "execute_result",
          "data": {
            "text/plain": [
              "['제임스', '25', '남', '서울']"
            ]
          },
          "metadata": {},
          "execution_count": 9
        }
      ]
    },
    {
      "cell_type": "code",
      "source": [
        "ques = input('이름과 나이를 함께 입력하세요(예 : 홍길동 26)')\n",
        "ques.split()"
      ],
      "metadata": {
        "colab": {
          "base_uri": "https://localhost:8080/"
        },
        "id": "6qzee1PoL7ge",
        "outputId": "6cbdaa0a-b7c4-47b4-961b-9d65fe542094"
      },
      "execution_count": 10,
      "outputs": [
        {
          "name": "stdout",
          "output_type": "stream",
          "text": [
            "이름과 나이를 함께 입력하세요(예 : 홍길동 26)홍길동 26\n"
          ]
        },
        {
          "output_type": "execute_result",
          "data": {
            "text/plain": [
              "['홍길동', '26']"
            ]
          },
          "metadata": {},
          "execution_count": 10
        }
      ]
    },
    {
      "cell_type": "code",
      "source": [
        "# 사용자 정의 함수 - 사용자가 직접 만든 함수.\n",
        "\n",
        "# 입력 input\n",
        "# 출력 output\n",
        "# 1. 입력이 있고 return이 있는 함수\n",
        "# 2. 입력이 있고 return은 없는 함수\n",
        "# 3. 입력이 없고 return은 있는 함수\n",
        "# 4. 입력도 없고 return도 없는 함수\n",
        "\n",
        "            # def 함수이름(매개변수):\n",
        "            #     본문\n",
        "            #     return 반환값"
      ],
      "metadata": {
        "id": "epJ102kbMVp3"
      },
      "execution_count": null,
      "outputs": []
    },
    {
      "cell_type": "code",
      "source": [
        "# 4. 입력도 없고 return도 없는 함수\n",
        "def welcome():\n",
        "    print('Hello python')\n",
        "    print('Nice to meet you')\n",
        "\n",
        "welcome()"
      ],
      "metadata": {
        "colab": {
          "base_uri": "https://localhost:8080/"
        },
        "id": "dNt2Vs2iOy_J",
        "outputId": "9fa73e4d-f9ec-4469-cbc2-e6e4d1d251c9"
      },
      "execution_count": 11,
      "outputs": [
        {
          "output_type": "stream",
          "name": "stdout",
          "text": [
            "Hello python\n",
            "Nice to meet you\n"
          ]
        }
      ]
    },
    {
      "cell_type": "code",
      "source": [
        "# # 2. 입력이 있고 return은 없는 함수\n",
        "\n",
        "def introduce(name, age):\n",
        "    print(f'내 이름은 {name}이고, 나이는 {age}입니다.')\n",
        "\n",
        "introduce('james', 25)\n",
        "introduce('andy', 22)"
      ],
      "metadata": {
        "colab": {
          "base_uri": "https://localhost:8080/"
        },
        "id": "v956IiG9PDb4",
        "outputId": "f0238860-91eb-45ad-9f19-0015ebbd262a"
      },
      "execution_count": 15,
      "outputs": [
        {
          "output_type": "stream",
          "name": "stdout",
          "text": [
            "내 이름은 james이고, 나이는 25입니다.\n",
            "내 이름은 andy이고, 나이는 22입니다.\n"
          ]
        }
      ]
    },
    {
      "cell_type": "code",
      "source": [
        "def show(*args):     # 가변 매개변수\n",
        "    for item in args:\n",
        "        print(item)\n",
        "\n",
        "show('python')\n",
        "show('happy','birthday')"
      ],
      "metadata": {
        "colab": {
          "base_uri": "https://localhost:8080/"
        },
        "id": "fh5Y2yhuTqZn",
        "outputId": "d20baa3c-f01f-4a60-e296-d8f642460a8b"
      },
      "execution_count": 16,
      "outputs": [
        {
          "output_type": "stream",
          "name": "stdout",
          "text": [
            "python\n",
            "happy\n",
            "birthday\n"
          ]
        }
      ]
    },
    {
      "cell_type": "code",
      "source": [
        "def addsum(*args):\n",
        "    sum = 0\n",
        "    for arg in args:\n",
        "        sum = sum + arg\n",
        "    print(sum)\n",
        "\n",
        "def addsum2(a,b):\n",
        "    print(a+b)\n",
        "\n",
        "def addsum3(a,b,c):\n",
        "    print(a+b+c)\n",
        "\n",
        "addsum(1,2)\n",
        "addsum(1,2,3)"
      ],
      "metadata": {
        "colab": {
          "base_uri": "https://localhost:8080/"
        },
        "id": "nSvel52vUZi3",
        "outputId": "a539bb2f-61a3-4d7f-9555-dea5be57497c"
      },
      "execution_count": 21,
      "outputs": [
        {
          "output_type": "stream",
          "name": "stdout",
          "text": [
            "3\n",
            "6\n"
          ]
        }
      ]
    },
    {
      "cell_type": "code",
      "source": [
        "# 디폴트 매개변수는 마지막에 위치시킨다.\n",
        "\n",
        "# def greet(message= '안녕하세요', name):\n",
        "#     print(f'{name}님 {message}')\n",
        "\n",
        "def greet(name, message= '안녕하세요'):\n",
        "     print(f'{name}님 {message}')\n",
        "\n",
        "greet('김철수')\n",
        "greet('이유상','반갑습니다')\n"
      ],
      "metadata": {
        "colab": {
          "base_uri": "https://localhost:8080/"
        },
        "id": "o9hkOW_6U-Jl",
        "outputId": "aca98ecc-2631-442f-b678-354edd7f56c9"
      },
      "execution_count": 25,
      "outputs": [
        {
          "output_type": "stream",
          "name": "stdout",
          "text": [
            "김철수님 안녕하세요\n",
            "이유상님 반갑습니다\n"
          ]
        }
      ]
    },
    {
      "cell_type": "code",
      "source": [
        "# 3. 입력이 없고 return은 있는 함수\n",
        "\n",
        "def address():\n",
        "    str = '우편번호 12345\\n'\n",
        "    str += '서울시 영등포구 여의도동'\n",
        "    return str\n",
        "\n",
        "print(address())"
      ],
      "metadata": {
        "colab": {
          "base_uri": "https://localhost:8080/"
        },
        "id": "-Hjll_eHWc5G",
        "outputId": "5dac8d92-582e-496d-81cc-decf843ed317"
      },
      "execution_count": 26,
      "outputs": [
        {
          "output_type": "stream",
          "name": "stdout",
          "text": [
            "우편번호 12345\n",
            "서울시 영등포구 여의도동\n"
          ]
        }
      ]
    },
    {
      "cell_type": "code",
      "source": [
        "def caculator(*args):\n",
        "    return sum(args), sum(args)/len(args), max(args), min(args)\n",
        "\n",
        "a,b,c,d = caculator(1,2,3,4,5)\n",
        "print(a)\n",
        "print(b)\n",
        "print(c)\n",
        "print(d)"
      ],
      "metadata": {
        "colab": {
          "base_uri": "https://localhost:8080/"
        },
        "id": "iXNj4o6-Xt7Y",
        "outputId": "da0c5a81-a21f-4484-9165-ceec22cbbd23"
      },
      "execution_count": 28,
      "outputs": [
        {
          "output_type": "stream",
          "name": "stdout",
          "text": [
            "15\n",
            "3.0\n",
            "5\n",
            "1\n"
          ]
        }
      ]
    },
    {
      "cell_type": "code",
      "source": [
        "def caculator(*args):\n",
        "    return sum(args), sum(args)/len(args), max(args), min(args)\n",
        "\n",
        "result = caculator(1,2,3,4,5)\n",
        "print('합계', result[0])\n",
        "print('평균', result[1])\n",
        "print('최댓값', result[2])\n",
        "print('최솟값', result[3])"
      ],
      "metadata": {
        "colab": {
          "base_uri": "https://localhost:8080/"
        },
        "id": "19Ukj2SBZNJQ",
        "outputId": "2d9d22f1-b6fa-4d5a-a92a-fb84efb888f3"
      },
      "execution_count": 29,
      "outputs": [
        {
          "output_type": "stream",
          "name": "stdout",
          "text": [
            "합계 15\n",
            "평균 3.0\n",
            "최댓값 5\n",
            "최솟값 1\n"
          ]
        }
      ]
    },
    {
      "cell_type": "code",
      "source": [
        "def charge(energy):\n",
        "    if energy < 0:\n",
        "        print('0보다 작은 에너지는 충전할 수 없습니다.')\n",
        "        return\n",
        "    print('에너지가 충전되었습니다.')\n",
        "\n",
        "charge(-1)"
      ],
      "metadata": {
        "colab": {
          "base_uri": "https://localhost:8080/"
        },
        "id": "KJrIawBaan4t",
        "outputId": "9258a245-a923-45df-dced-48ac116f33d6"
      },
      "execution_count": 30,
      "outputs": [
        {
          "output_type": "stream",
          "name": "stdout",
          "text": [
            "0보다 작은 에너지는 충전할 수 없습니다.\n"
          ]
        }
      ]
    },
    {
      "cell_type": "code",
      "source": [
        "# local variable & global variable # 되도록이면 지역변수 쓰자\n",
        "\n",
        "# local variable 지역변수\n",
        "\n",
        "def f():\n",
        "    a = 10\n",
        "    print(f'내부 : {a}')\n",
        "f()\n",
        "\n",
        "print(f'외부 : {a}')\n",
        "\n"
      ],
      "metadata": {
        "colab": {
          "base_uri": "https://localhost:8080/"
        },
        "id": "Kz5gJBzoa-C0",
        "outputId": "934d0ea9-5b7e-444a-f094-df271a36a7d8"
      },
      "execution_count": 32,
      "outputs": [
        {
          "output_type": "stream",
          "name": "stdout",
          "text": [
            "내부 : 10\n",
            "외부 : 15\n"
          ]
        }
      ]
    },
    {
      "cell_type": "code",
      "source": [
        "# global variable 전역변수\n",
        "\n",
        "b = 10\n",
        "def f():\n",
        "    print(f'내부 : {b}')\n",
        "\n",
        "f()\n",
        "\n",
        "print(f'내부 : {b}')"
      ],
      "metadata": {
        "colab": {
          "base_uri": "https://localhost:8080/"
        },
        "id": "-3J7o6Fpb8LM",
        "outputId": "040ef3f0-86a3-48fe-ee8c-695a1b5739b4"
      },
      "execution_count": 34,
      "outputs": [
        {
          "output_type": "stream",
          "name": "stdout",
          "text": [
            "내부 : 10\n",
            "내부 : 10\n"
          ]
        }
      ]
    },
    {
      "cell_type": "code",
      "source": [
        "a = 0\n",
        "def f():\n",
        "    global a\n",
        "    a = 10\n",
        "\n",
        "f()\n",
        "\n",
        "print(a)\n"
      ],
      "metadata": {
        "colab": {
          "base_uri": "https://localhost:8080/"
        },
        "id": "NKJOc7y-dBDN",
        "outputId": "a8c81348-bda6-4c5b-a039-649a10eba367"
      },
      "execution_count": 38,
      "outputs": [
        {
          "output_type": "stream",
          "name": "stdout",
          "text": [
            "10\n"
          ]
        }
      ]
    },
    {
      "cell_type": "code",
      "source": [
        "def vending_machine(money):\n",
        "    a = 0\n",
        "    while money > 0:\n",
        "        print(f'음료수 = {a}개, 잔돈 = {money}원')\n",
        "        a += 1\n",
        "        money -= 700\n",
        "\n",
        "vending_machine(3000)\n"
      ],
      "metadata": {
        "colab": {
          "base_uri": "https://localhost:8080/"
        },
        "id": "AdJjhik1dvyi",
        "outputId": "facc64b4-995d-4860-c72a-ebbba452f202"
      },
      "execution_count": 41,
      "outputs": [
        {
          "output_type": "stream",
          "name": "stdout",
          "text": [
            "음료수 = 0개, 잔돈 = 3000원\n",
            "음료수 = 1개, 잔돈 = 2300원\n",
            "음료수 = 2개, 잔돈 = 1600원\n",
            "음료수 = 3개, 잔돈 = 900원\n",
            "음료수 = 4개, 잔돈 = 200원\n"
          ]
        }
      ]
    },
    {
      "cell_type": "code",
      "source": [
        "def vending_machine(money):\n",
        "    price = 700 # 700 1400 2100 2800\n",
        "\n",
        "    for i in range((money // price)+1):\n",
        "        coin = money - price * i\n",
        "        print(f'음료수 = {i}개, 잔돈 = {coin}원')\n",
        "\n",
        "vending_machine(3000)"
      ],
      "metadata": {
        "colab": {
          "base_uri": "https://localhost:8080/"
        },
        "id": "hEM_0i-VhdJr",
        "outputId": "4887e557-1b75-4abe-dc1a-c4ff57bce079"
      },
      "execution_count": 45,
      "outputs": [
        {
          "output_type": "stream",
          "name": "stdout",
          "text": [
            "음료수 = 0개, 잔돈 = 3000원\n",
            "음료수 = 1개, 잔돈 = 2300원\n",
            "음료수 = 2개, 잔돈 = 1600원\n",
            "음료수 = 3개, 잔돈 = 900원\n",
            "음료수 = 4개, 잔돈 = 200원\n"
          ]
        }
      ]
    },
    {
      "cell_type": "code",
      "source": [
        "# 2\n",
        "\n",
        "def get_average(marks):\n",
        "    sum(list(marks.values))/len(list(marks.keys))\n",
        "    \n",
        "marks = {'국어': 90,'영어': 80,'수학': 85}\n",
        "average = get_average(marks)\n",
        "print(f'평균은 {average}점 입니다')\n"
      ],
      "metadata": {
        "colab": {
          "base_uri": "https://localhost:8080/",
          "height": 351
        },
        "id": "YDgld5Xrid-e",
        "outputId": "388d7649-c884-4925-e2be-192e1d73dbcb"
      },
      "execution_count": 48,
      "outputs": [
        {
          "output_type": "error",
          "ename": "TypeError",
          "evalue": "ignored",
          "traceback": [
            "\u001b[0;31m---------------------------------------------------------------------------\u001b[0m",
            "\u001b[0;31mTypeError\u001b[0m                                 Traceback (most recent call last)",
            "\u001b[0;32m<ipython-input-48-bbb177326577>\u001b[0m in \u001b[0;36m<module>\u001b[0;34m()\u001b[0m\n\u001b[1;32m      5\u001b[0m \u001b[0;34m\u001b[0m\u001b[0m\n\u001b[1;32m      6\u001b[0m \u001b[0mmarks\u001b[0m \u001b[0;34m=\u001b[0m \u001b[0;34m{\u001b[0m\u001b[0;34m'국어'\u001b[0m\u001b[0;34m:\u001b[0m \u001b[0;36m90\u001b[0m\u001b[0;34m,\u001b[0m\u001b[0;34m'영어'\u001b[0m\u001b[0;34m:\u001b[0m \u001b[0;36m80\u001b[0m\u001b[0;34m,\u001b[0m\u001b[0;34m'수학'\u001b[0m\u001b[0;34m:\u001b[0m \u001b[0;36m85\u001b[0m\u001b[0;34m}\u001b[0m\u001b[0;34m\u001b[0m\u001b[0;34m\u001b[0m\u001b[0m\n\u001b[0;32m----> 7\u001b[0;31m \u001b[0maverage\u001b[0m \u001b[0;34m=\u001b[0m \u001b[0mget_average\u001b[0m\u001b[0;34m(\u001b[0m\u001b[0mmarks\u001b[0m\u001b[0;34m)\u001b[0m\u001b[0;34m\u001b[0m\u001b[0;34m\u001b[0m\u001b[0m\n\u001b[0m\u001b[1;32m      8\u001b[0m \u001b[0mprint\u001b[0m\u001b[0;34m(\u001b[0m\u001b[0;34mf'평균은 {average}점 입니다'\u001b[0m\u001b[0;34m)\u001b[0m\u001b[0;34m\u001b[0m\u001b[0;34m\u001b[0m\u001b[0m\n",
            "\u001b[0;32m<ipython-input-48-bbb177326577>\u001b[0m in \u001b[0;36mget_average\u001b[0;34m(marks)\u001b[0m\n\u001b[1;32m      2\u001b[0m \u001b[0;34m\u001b[0m\u001b[0m\n\u001b[1;32m      3\u001b[0m \u001b[0;32mdef\u001b[0m \u001b[0mget_average\u001b[0m\u001b[0;34m(\u001b[0m\u001b[0mmarks\u001b[0m\u001b[0;34m)\u001b[0m\u001b[0;34m:\u001b[0m\u001b[0;34m\u001b[0m\u001b[0;34m\u001b[0m\u001b[0m\n\u001b[0;32m----> 4\u001b[0;31m     \u001b[0msum\u001b[0m\u001b[0;34m(\u001b[0m\u001b[0mlist\u001b[0m\u001b[0;34m(\u001b[0m\u001b[0mmarks\u001b[0m\u001b[0;34m.\u001b[0m\u001b[0mvalues\u001b[0m\u001b[0;34m)\u001b[0m\u001b[0;34m)\u001b[0m\u001b[0;34m/\u001b[0m\u001b[0mlen\u001b[0m\u001b[0;34m(\u001b[0m\u001b[0mlist\u001b[0m\u001b[0;34m(\u001b[0m\u001b[0mmarks\u001b[0m\u001b[0;34m.\u001b[0m\u001b[0mkeys\u001b[0m\u001b[0;34m)\u001b[0m\u001b[0;34m)\u001b[0m\u001b[0;34m\u001b[0m\u001b[0;34m\u001b[0m\u001b[0m\n\u001b[0m\u001b[1;32m      5\u001b[0m \u001b[0;34m\u001b[0m\u001b[0m\n\u001b[1;32m      6\u001b[0m \u001b[0mmarks\u001b[0m \u001b[0;34m=\u001b[0m \u001b[0;34m{\u001b[0m\u001b[0;34m'국어'\u001b[0m\u001b[0;34m:\u001b[0m \u001b[0;36m90\u001b[0m\u001b[0;34m,\u001b[0m\u001b[0;34m'영어'\u001b[0m\u001b[0;34m:\u001b[0m \u001b[0;36m80\u001b[0m\u001b[0;34m,\u001b[0m\u001b[0;34m'수학'\u001b[0m\u001b[0;34m:\u001b[0m \u001b[0;36m85\u001b[0m\u001b[0;34m}\u001b[0m\u001b[0;34m\u001b[0m\u001b[0;34m\u001b[0m\u001b[0m\n",
            "\u001b[0;31mTypeError\u001b[0m: 'list' object is not callable"
          ]
        }
      ]
    },
    {
      "cell_type": "code",
      "source": [
        "def get_average(marks):\n",
        "    sum = 0\n",
        "    for i in marks:\n",
        "        sum += marks"
      ],
      "metadata": {
        "id": "o17SJqmLkmp5"
      },
      "execution_count": null,
      "outputs": []
    },
    {
      "cell_type": "code",
      "source": [
        "# 3\n",
        "\n",
        "total = 0\n",
        "def gift(dic,who,money):\n",
        "    dic[who] = money\n",
        "    global total\n",
        "    total += money\n",
        "\n",
        "wedding = {}\n",
        "gift(wedding, '영희', 5)\n",
        "gift(wedding, '철수', 3)\n",
        "gift(wedding, '이모', 10)\n",
        "print(f'축의금 명단: {wedding}')\n",
        "print(f'전체 축의금: {total}')"
      ],
      "metadata": {
        "colab": {
          "base_uri": "https://localhost:8080/"
        },
        "id": "P6qUaVzPlsog",
        "outputId": "8cc01e4d-210c-4a7b-b123-097f4b900cd0"
      },
      "execution_count": 49,
      "outputs": [
        {
          "output_type": "stream",
          "name": "stdout",
          "text": [
            "축의금 명단: {'영희': 5, '철수': 3, '이모': 10}\n",
            "전체 축의금: 18\n"
          ]
        }
      ]
    },
    {
      "cell_type": "code",
      "source": [
        "# 모듈과 임포트\n",
        "\n",
        "# 모듈 : 재사용이 가능하도록 변수, 함수, 클래스 등을 모아놓은 .py"
      ],
      "metadata": {
        "id": "fqhIafetnMwh"
      },
      "execution_count": null,
      "outputs": []
    }
  ]
}